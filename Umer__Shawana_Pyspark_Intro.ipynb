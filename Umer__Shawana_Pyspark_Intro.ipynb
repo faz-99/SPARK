{
  "cells": [
    {
      "cell_type": "markdown",
      "metadata": {
        "id": "iox_ufgbqDXa"
      },
      "source": [
        "<h1><center> Google Colab and PySpark</center></h1>"
      ]
    },
    {
      "cell_type": "markdown",
      "metadata": {
        "id": "K_q3Yzc9qYc0"
      },
      "source": [
        "<a id='big-data-pyspark-and-colaboratory'></a>\n",
        "## Big data, PySpark and Colaboratory"
      ]
    },
    {
      "cell_type": "code",
      "source": [
        "from google.colab import drive\n",
        "drive.mount('/content/drive')"
      ],
      "metadata": {
        "colab": {
          "base_uri": "https://localhost:8080/"
        },
        "id": "Jvntu0Ca7u9T",
        "outputId": "2bbf94fe-b276-4358-fb0d-af7ff662f895"
      },
      "execution_count": 1,
      "outputs": [
        {
          "output_type": "stream",
          "name": "stdout",
          "text": [
            "Mounted at /content/drive\n"
          ]
        }
      ]
    },
    {
      "cell_type": "markdown",
      "metadata": {
        "id": "X6zdrH15_CCW"
      },
      "source": [
        "<a id='access-to-the-shell'></a>\n",
        "### Access to the shell"
      ]
    },
    {
      "cell_type": "code",
      "execution_count": null,
      "metadata": {
        "colab": {
          "base_uri": "https://localhost:8080/"
        },
        "id": "zdO9sjSdEVnr",
        "outputId": "abdbd41f-6539-409a-832e-fadefaa50d08"
      },
      "outputs": [
        {
          "output_type": "stream",
          "name": "stdout",
          "text": [
            "\u001b[0m\u001b[01;34msample_data\u001b[0m/\n"
          ]
        }
      ],
      "source": [
        "ls"
      ]
    },
    {
      "cell_type": "code",
      "execution_count": null,
      "metadata": {
        "colab": {
          "base_uri": "https://localhost:8080/",
          "height": 35
        },
        "id": "QF9e3lDDEX3I",
        "outputId": "2fe67bc4-f2ce-45b8-c436-8337e99d23eb"
      },
      "outputs": [
        {
          "output_type": "execute_result",
          "data": {
            "text/plain": [
              "'/content'"
            ],
            "application/vnd.google.colaboratory.intrinsic+json": {
              "type": "string"
            }
          },
          "metadata": {},
          "execution_count": 2
        }
      ],
      "source": [
        "pwd"
      ]
    },
    {
      "cell_type": "markdown",
      "metadata": {
        "id": "Dd6t0uFzuR4X"
      },
      "source": [
        "<a id='installing-spark'></a>\n",
        "### Installing Spark"
      ]
    },
    {
      "cell_type": "markdown",
      "metadata": {
        "id": "6apGVff5h4ca"
      },
      "source": [
        "Install Dependencies:\n",
        "\n",
        "\n",
        "1.   Java 8\n",
        "2.   Apache Spark with hadoop and\n",
        "3.   Findspark (used to locate the spark in the system)\n"
      ]
    },
    {
      "cell_type": "code",
      "execution_count": 2,
      "metadata": {
        "id": "tt7ZS1_wGgjn"
      },
      "outputs": [],
      "source": [
        "!apt-get install openjdk-8-jdk-headless -qq > /dev/null\n",
        "!wget -q http://archive.apache.org/dist/spark/spark-3.1.1/spark-3.1.1-bin-hadoop3.2.tgz\n",
        "!tar xf spark-3.1.1-bin-hadoop3.2.tgz\n",
        "!pip install -q findspark"
      ]
    },
    {
      "cell_type": "markdown",
      "metadata": {
        "id": "C3x0ZRLxjMVr"
      },
      "source": [
        "Set Environment Variables:"
      ]
    },
    {
      "cell_type": "code",
      "execution_count": 3,
      "metadata": {
        "id": "sdOOq4twHN1K"
      },
      "outputs": [],
      "source": [
        "import os\n",
        "os.environ[\"JAVA_HOME\"] = \"/usr/lib/jvm/java-8-openjdk-amd64\"\n",
        "os.environ[\"SPARK_HOME\"] = \"/content/spark-3.1.1-bin-hadoop3.2\""
      ]
    },
    {
      "cell_type": "code",
      "execution_count": 4,
      "metadata": {
        "colab": {
          "base_uri": "https://localhost:8080/"
        },
        "id": "3ACYMwhgHTYz",
        "outputId": "96b55620-b19c-41f3-9830-0f1ed923ff5a"
      },
      "outputs": [
        {
          "output_type": "stream",
          "name": "stdout",
          "text": [
            "drive\t\t   sample_data\t\t      spark-3.1.1-bin-hadoop3.2.tgz\n",
            "flights_small.csv  spark-3.1.1-bin-hadoop3.2\n"
          ]
        }
      ],
      "source": [
        "!ls"
      ]
    },
    {
      "cell_type": "code",
      "execution_count": 5,
      "metadata": {
        "colab": {
          "base_uri": "https://localhost:8080/",
          "height": 219
        },
        "id": "KR1zLBk1998Z",
        "outputId": "e2366ce8-aba1-4f63-c2e7-e8aa1e7a764c"
      },
      "outputs": [
        {
          "output_type": "execute_result",
          "data": {
            "text/plain": [
              "<pyspark.sql.session.SparkSession at 0x7f807c186ce0>"
            ],
            "text/html": [
              "\n",
              "            <div>\n",
              "                <p><b>SparkSession - in-memory</b></p>\n",
              "                \n",
              "        <div>\n",
              "            <p><b>SparkContext</b></p>\n",
              "\n",
              "            <p><a href=\"http://a556a81f7765:4040\">Spark UI</a></p>\n",
              "\n",
              "            <dl>\n",
              "              <dt>Version</dt>\n",
              "                <dd><code>v3.1.1</code></dd>\n",
              "              <dt>Master</dt>\n",
              "                <dd><code>local[*]</code></dd>\n",
              "              <dt>AppName</dt>\n",
              "                <dd><code>pyspark-shell</code></dd>\n",
              "            </dl>\n",
              "        </div>\n",
              "        \n",
              "            </div>\n",
              "        "
            ]
          },
          "metadata": {},
          "execution_count": 5
        }
      ],
      "source": [
        "import findspark\n",
        "findspark.init()\n",
        "from pyspark.sql import SparkSession\n",
        "spark = SparkSession.builder.master(\"local[*]\").getOrCreate()\n",
        "spark.conf.set(\"spark.sql.repl.eagerEval.enabled\", True) # Property used to format output tables better\n",
        "spark"
      ]
    },
    {
      "cell_type": "markdown",
      "metadata": {
        "id": "hmIqq6xPK7m7"
      },
      "source": [
        "<a id='exploring-the-dataset'></a>\n",
        "## Exploring the Dataset"
      ]
    },
    {
      "cell_type": "markdown",
      "metadata": {
        "id": "VZwsr57lwPgq"
      },
      "source": [
        "<a id='loading-the-dataset'></a>\n",
        "### Loading the Dataset"
      ]
    },
    {
      "cell_type": "code",
      "execution_count": null,
      "metadata": {
        "colab": {
          "base_uri": "https://localhost:8080/"
        },
        "id": "hQ3zmGACLKlN",
        "outputId": "d4727f9b-cf8d-4d3e-a7e6-88026a11cdb1"
      },
      "outputs": [
        {
          "output_type": "stream",
          "name": "stdout",
          "text": [
            "--2023-05-03 15:26:50--  https://jacobceles.github.io/knowledge_repo/colab_and_pyspark/cars.csv\n",
            "Resolving jacobceles.github.io (jacobceles.github.io)... 185.199.108.153, 185.199.109.153, 185.199.110.153, ...\n",
            "Connecting to jacobceles.github.io (jacobceles.github.io)|185.199.108.153|:443... connected.\n",
            "HTTP request sent, awaiting response... 301 Moved Permanently\n",
            "Location: https://jacobcelestine.com/knowledge_repo/colab_and_pyspark/cars.csv [following]\n",
            "--2023-05-03 15:26:50--  https://jacobcelestine.com/knowledge_repo/colab_and_pyspark/cars.csv\n",
            "Resolving jacobcelestine.com (jacobcelestine.com)... 185.199.108.153, 185.199.109.153, 185.199.110.153, ...\n",
            "Connecting to jacobcelestine.com (jacobcelestine.com)|185.199.108.153|:443... connected.\n",
            "HTTP request sent, awaiting response... 200 OK\n",
            "Length: 22608 (22K) [text/csv]\n",
            "Saving to: ‘cars.csv.1’\n",
            "\n",
            "\rcars.csv.1            0%[                    ]       0  --.-KB/s               \rcars.csv.1          100%[===================>]  22.08K  --.-KB/s    in 0s      \n",
            "\n",
            "2023-05-03 15:26:50 (118 MB/s) - ‘cars.csv.1’ saved [22608/22608]\n",
            "\n"
          ]
        }
      ],
      "source": [
        "# Downloading and preprocessing Cars Data downloaded origianlly from https://perso.telecom-paristech.fr/eagan/class/igr204/datasets\n",
        "!wget https://jacobceles.github.io/knowledge_repo/colab_and_pyspark/cars.csv"
      ]
    },
    {
      "cell_type": "code",
      "execution_count": null,
      "metadata": {
        "colab": {
          "base_uri": "https://localhost:8080/"
        },
        "id": "Wpq2jYvIMOJy",
        "outputId": "e80c06a3-f1a7-4eb6-cea2-c36220ce2f36"
      },
      "outputs": [
        {
          "output_type": "stream",
          "name": "stdout",
          "text": [
            "cars.csv    flights_small.csv  spark-3.1.1-bin-hadoop3.2\n",
            "cars.csv.1  sample_data        spark-3.1.1-bin-hadoop3.2.tgz\n"
          ]
        }
      ],
      "source": [
        "!ls"
      ]
    },
    {
      "cell_type": "code",
      "execution_count": 8,
      "metadata": {
        "colab": {
          "base_uri": "https://localhost:8080/"
        },
        "id": "hz6ALr5mMqZt",
        "outputId": "f4a24139-37ae-422c-b31c-d35cddedbcd9"
      },
      "outputs": [
        {
          "output_type": "stream",
          "name": "stdout",
          "text": [
            "+----+-----+---+--------+---------+--------+---------+-------+-------+------+------+----+--------+--------+----+------+\n",
            "|year|month|day|dep_time|dep_delay|arr_time|arr_delay|carrier|tailnum|flight|origin|dest|air_time|distance|hour|minute|\n",
            "+----+-----+---+--------+---------+--------+---------+-------+-------+------+------+----+--------+--------+----+------+\n",
            "|2014|   12|  8|     658|       -7|     935|       -5|     VX| N846VA|  1780|   SEA| LAX|     132|     954|   6|    58|\n",
            "|2014|    1| 22|    1040|        5|    1505|        5|     AS| N559AS|   851|   SEA| HNL|     360|    2677|  10|    40|\n",
            "|2014|    3|  9|    1443|       -2|    1652|        2|     VX| N847VA|   755|   SEA| SFO|     111|     679|  14|    43|\n",
            "|2014|    4|  9|    1705|       45|    1839|       34|     WN| N360SW|   344|   PDX| SJC|      83|     569|  17|     5|\n",
            "|2014|    3|  9|     754|       -1|    1015|        1|     AS| N612AS|   522|   SEA| BUR|     127|     937|   7|    54|\n",
            "+----+-----+---+--------+---------+--------+---------+-------+-------+------+------+----+--------+--------+----+------+\n",
            "only showing top 5 rows\n",
            "\n"
          ]
        }
      ],
      "source": [
        "# Load data from csv to a dataframe. \n",
        "# header=True means the first row is a header \n",
        "# sep=';' means the column are seperated using ''\n",
        "df = spark.read.csv('/content/flights_small.csv', header=True, sep=\",\")\n",
        "df.show(5)"
      ]
    },
    {
      "cell_type": "markdown",
      "metadata": {
        "id": "N0lCS2LNwnoy"
      },
      "source": [
        "The above command loads our data from into a dataframe (DF). A dataframe is a 2-dimensional labeled data structure with columns of potentially different types."
      ]
    },
    {
      "cell_type": "markdown",
      "metadata": {
        "id": "_QwZtWxZRCBn"
      },
      "source": [
        "<a id='viewing-the-dataframe'></a>\n",
        "### Viewing the Dataframe"
      ]
    },
    {
      "cell_type": "markdown",
      "metadata": {
        "id": "50LZ3S8_PMg_"
      },
      "source": [
        "There are a couple of ways to view your dataframe(DF) in PySpark:\n",
        "\n",
        "1.   `df.take(5)` will return a list of five Row objects. \n",
        "2.   `df.collect()` will get all of the data from the entire DataFrame. Be really careful when using it, because if you have a large data set, you can easily crash the driver node. \n",
        "3.   `df.show()` is the most commonly used method to view a dataframe. There are a few parameters we can pass to this method, like the number of rows and truncaiton. For example, `df.show(5, False)` or ` df.show(5, truncate=False)` will show the entire data wihtout any truncation.\n",
        "4.   `df.limit(5)` will **return a new DataFrame** by taking the first n rows. As spark is distributed in nature, there is no guarantee that `df.limit()` will give you the same results each time.\n",
        "\n",
        "Let us see some of them in action below:"
      ]
    },
    {
      "cell_type": "code",
      "execution_count": 7,
      "metadata": {
        "colab": {
          "base_uri": "https://localhost:8080/"
        },
        "id": "I1qqkqcfxM0v",
        "outputId": "17289a63-101c-4c67-a05b-1503b8d082f8"
      },
      "outputs": [
        {
          "output_type": "stream",
          "name": "stdout",
          "text": [
            "+----+-----+---+--------+---------+--------+---------+-------+-------+------+------+----+--------+--------+----+------+\n",
            "|year|month|day|dep_time|dep_delay|arr_time|arr_delay|carrier|tailnum|flight|origin|dest|air_time|distance|hour|minute|\n",
            "+----+-----+---+--------+---------+--------+---------+-------+-------+------+------+----+--------+--------+----+------+\n",
            "|2014|12   |8  |658     |-7       |935     |-5       |VX     |N846VA |1780  |SEA   |LAX |132     |954     |6   |58    |\n",
            "|2014|1    |22 |1040    |5        |1505    |5        |AS     |N559AS |851   |SEA   |HNL |360     |2677    |10  |40    |\n",
            "|2014|3    |9  |1443    |-2       |1652    |2        |VX     |N847VA |755   |SEA   |SFO |111     |679     |14  |43    |\n",
            "|2014|4    |9  |1705    |45       |1839    |34       |WN     |N360SW |344   |PDX   |SJC |83      |569     |17  |5     |\n",
            "|2014|3    |9  |754     |-1       |1015    |1        |AS     |N612AS |522   |SEA   |BUR |127     |937     |7   |54    |\n",
            "+----+-----+---+--------+---------+--------+---------+-------+-------+------+------+----+--------+--------+----+------+\n",
            "only showing top 5 rows\n",
            "\n"
          ]
        }
      ],
      "source": [
        "df.show(5, truncate=False)"
      ]
    },
    {
      "cell_type": "code",
      "execution_count": 9,
      "metadata": {
        "colab": {
          "base_uri": "https://localhost:8080/",
          "height": 161
        },
        "id": "R9zwzswIxXF9",
        "outputId": "36bff23a-f7d7-47a2-a745-313cfec7d5dc"
      },
      "outputs": [
        {
          "output_type": "execute_result",
          "data": {
            "text/plain": [
              "+----+-----+---+--------+---------+--------+---------+-------+-------+------+------+----+--------+--------+----+------+\n",
              "|year|month|day|dep_time|dep_delay|arr_time|arr_delay|carrier|tailnum|flight|origin|dest|air_time|distance|hour|minute|\n",
              "+----+-----+---+--------+---------+--------+---------+-------+-------+------+------+----+--------+--------+----+------+\n",
              "|2014|   12|  8|     658|       -7|     935|       -5|     VX| N846VA|  1780|   SEA| LAX|     132|     954|   6|    58|\n",
              "|2014|    1| 22|    1040|        5|    1505|        5|     AS| N559AS|   851|   SEA| HNL|     360|    2677|  10|    40|\n",
              "|2014|    3|  9|    1443|       -2|    1652|        2|     VX| N847VA|   755|   SEA| SFO|     111|     679|  14|    43|\n",
              "|2014|    4|  9|    1705|       45|    1839|       34|     WN| N360SW|   344|   PDX| SJC|      83|     569|  17|     5|\n",
              "|2014|    3|  9|     754|       -1|    1015|        1|     AS| N612AS|   522|   SEA| BUR|     127|     937|   7|    54|\n",
              "+----+-----+---+--------+---------+--------+---------+-------+-------+------+------+----+--------+--------+----+------+"
            ],
            "text/html": [
              "<table border='1'>\n",
              "<tr><th>year</th><th>month</th><th>day</th><th>dep_time</th><th>dep_delay</th><th>arr_time</th><th>arr_delay</th><th>carrier</th><th>tailnum</th><th>flight</th><th>origin</th><th>dest</th><th>air_time</th><th>distance</th><th>hour</th><th>minute</th></tr>\n",
              "<tr><td>2014</td><td>12</td><td>8</td><td>658</td><td>-7</td><td>935</td><td>-5</td><td>VX</td><td>N846VA</td><td>1780</td><td>SEA</td><td>LAX</td><td>132</td><td>954</td><td>6</td><td>58</td></tr>\n",
              "<tr><td>2014</td><td>1</td><td>22</td><td>1040</td><td>5</td><td>1505</td><td>5</td><td>AS</td><td>N559AS</td><td>851</td><td>SEA</td><td>HNL</td><td>360</td><td>2677</td><td>10</td><td>40</td></tr>\n",
              "<tr><td>2014</td><td>3</td><td>9</td><td>1443</td><td>-2</td><td>1652</td><td>2</td><td>VX</td><td>N847VA</td><td>755</td><td>SEA</td><td>SFO</td><td>111</td><td>679</td><td>14</td><td>43</td></tr>\n",
              "<tr><td>2014</td><td>4</td><td>9</td><td>1705</td><td>45</td><td>1839</td><td>34</td><td>WN</td><td>N360SW</td><td>344</td><td>PDX</td><td>SJC</td><td>83</td><td>569</td><td>17</td><td>5</td></tr>\n",
              "<tr><td>2014</td><td>3</td><td>9</td><td>754</td><td>-1</td><td>1015</td><td>1</td><td>AS</td><td>N612AS</td><td>522</td><td>SEA</td><td>BUR</td><td>127</td><td>937</td><td>7</td><td>54</td></tr>\n",
              "</table>\n"
            ]
          },
          "metadata": {},
          "execution_count": 9
        }
      ],
      "source": [
        "df.limit(5)"
      ]
    },
    {
      "cell_type": "markdown",
      "metadata": {
        "id": "eUazdCEmu_sp"
      },
      "source": [
        "<a id='viewing-dataframe-columns'></a>\n",
        "### Viewing Dataframe Columns"
      ]
    },
    {
      "cell_type": "code",
      "execution_count": 10,
      "metadata": {
        "colab": {
          "base_uri": "https://localhost:8080/"
        },
        "id": "9o7jsazcu-13",
        "outputId": "9e022c7c-a5e1-4308-85cf-0d93850f4d21"
      },
      "outputs": [
        {
          "output_type": "execute_result",
          "data": {
            "text/plain": [
              "['year',\n",
              " 'month',\n",
              " 'day',\n",
              " 'dep_time',\n",
              " 'dep_delay',\n",
              " 'arr_time',\n",
              " 'arr_delay',\n",
              " 'carrier',\n",
              " 'tailnum',\n",
              " 'flight',\n",
              " 'origin',\n",
              " 'dest',\n",
              " 'air_time',\n",
              " 'distance',\n",
              " 'hour',\n",
              " 'minute']"
            ]
          },
          "metadata": {},
          "execution_count": 10
        }
      ],
      "source": [
        "df.columns"
      ]
    },
    {
      "cell_type": "markdown",
      "metadata": {
        "id": "3lfS2DhHuhPl"
      },
      "source": [
        "<a id='dataframe-schema'></a>\n",
        "### Dataframe Schema"
      ]
    },
    {
      "cell_type": "markdown",
      "metadata": {
        "id": "-xX7hRoW_cXY"
      },
      "source": [
        "There are two methods commonly used to view the data types of a dataframe:"
      ]
    },
    {
      "cell_type": "code",
      "execution_count": 11,
      "metadata": {
        "colab": {
          "base_uri": "https://localhost:8080/"
        },
        "id": "w6qwTjGsNxrw",
        "outputId": "861e9c28-fe66-4178-8b15-1f2a890ba204"
      },
      "outputs": [
        {
          "output_type": "execute_result",
          "data": {
            "text/plain": [
              "[('year', 'string'),\n",
              " ('month', 'string'),\n",
              " ('day', 'string'),\n",
              " ('dep_time', 'string'),\n",
              " ('dep_delay', 'string'),\n",
              " ('arr_time', 'string'),\n",
              " ('arr_delay', 'string'),\n",
              " ('carrier', 'string'),\n",
              " ('tailnum', 'string'),\n",
              " ('flight', 'string'),\n",
              " ('origin', 'string'),\n",
              " ('dest', 'string'),\n",
              " ('air_time', 'string'),\n",
              " ('distance', 'string'),\n",
              " ('hour', 'string'),\n",
              " ('minute', 'string')]"
            ]
          },
          "metadata": {},
          "execution_count": 11
        }
      ],
      "source": [
        "df.dtypes"
      ]
    },
    {
      "cell_type": "code",
      "execution_count": 12,
      "metadata": {
        "colab": {
          "base_uri": "https://localhost:8080/"
        },
        "id": "CCGTFlCWRPw4",
        "outputId": "1dd23959-ddb4-4117-87cc-6421fb944ccb"
      },
      "outputs": [
        {
          "output_type": "stream",
          "name": "stdout",
          "text": [
            "root\n",
            " |-- year: string (nullable = true)\n",
            " |-- month: string (nullable = true)\n",
            " |-- day: string (nullable = true)\n",
            " |-- dep_time: string (nullable = true)\n",
            " |-- dep_delay: string (nullable = true)\n",
            " |-- arr_time: string (nullable = true)\n",
            " |-- arr_delay: string (nullable = true)\n",
            " |-- carrier: string (nullable = true)\n",
            " |-- tailnum: string (nullable = true)\n",
            " |-- flight: string (nullable = true)\n",
            " |-- origin: string (nullable = true)\n",
            " |-- dest: string (nullable = true)\n",
            " |-- air_time: string (nullable = true)\n",
            " |-- distance: string (nullable = true)\n",
            " |-- hour: string (nullable = true)\n",
            " |-- minute: string (nullable = true)\n",
            "\n"
          ]
        }
      ],
      "source": [
        "df.printSchema()"
      ]
    },
    {
      "cell_type": "markdown",
      "metadata": {
        "id": "RXx5ATpZ9oor"
      },
      "source": [
        "<a id='implicit-schema-inference'></a>\n",
        "#### Inferring Schema Implicitly"
      ]
    },
    {
      "cell_type": "markdown",
      "metadata": {
        "id": "7TeflTUp8l29"
      },
      "source": [
        "We can use the parameter `inferschema=true` to infer the input schema automatically while loading the data. An example is shown below:"
      ]
    },
    {
      "cell_type": "code",
      "execution_count": 13,
      "metadata": {
        "colab": {
          "base_uri": "https://localhost:8080/"
        },
        "id": "Qym5MjCi894N",
        "outputId": "6f6ff6a8-c2b5-441e-b1cd-c929eeb6adde"
      },
      "outputs": [
        {
          "output_type": "stream",
          "name": "stdout",
          "text": [
            "root\n",
            " |-- year: integer (nullable = true)\n",
            " |-- month: integer (nullable = true)\n",
            " |-- day: integer (nullable = true)\n",
            " |-- dep_time: string (nullable = true)\n",
            " |-- dep_delay: string (nullable = true)\n",
            " |-- arr_time: string (nullable = true)\n",
            " |-- arr_delay: string (nullable = true)\n",
            " |-- carrier: string (nullable = true)\n",
            " |-- tailnum: string (nullable = true)\n",
            " |-- flight: integer (nullable = true)\n",
            " |-- origin: string (nullable = true)\n",
            " |-- dest: string (nullable = true)\n",
            " |-- air_time: string (nullable = true)\n",
            " |-- distance: integer (nullable = true)\n",
            " |-- hour: string (nullable = true)\n",
            " |-- minute: string (nullable = true)\n",
            "\n"
          ]
        }
      ],
      "source": [
        "df = spark.read.csv('flights_small.csv', header=True, sep=\",\", inferSchema=True)\n",
        "df.printSchema()"
      ]
    },
    {
      "cell_type": "markdown",
      "metadata": {
        "id": "G6jTedYd-Dhb"
      },
      "source": [
        "As you can see, the datatype has been infered automatically spark with even the correct precison for decimal type. A problem that might arise here is that sometimes, when you have to read multiple files with different schemas in different files, there might be an issue with implicit inferring leading to null values in some columns. Therefore, let us also see how to define schemas explicitly."
      ]
    },
    {
      "cell_type": "markdown",
      "metadata": {
        "id": "yTVjYqeRuxWn"
      },
      "source": [
        "<a id='explicit-schema-inference'></a>\n",
        "#### Defining Schema Explicitly"
      ]
    },
    {
      "cell_type": "code",
      "execution_count": 14,
      "metadata": {
        "colab": {
          "base_uri": "https://localhost:8080/"
        },
        "id": "xpsaQ4JMRUiS",
        "outputId": "bbddc0ad-18f1-40af-fca2-40388bb5511e"
      },
      "outputs": [
        {
          "output_type": "execute_result",
          "data": {
            "text/plain": [
              "['year',\n",
              " 'month',\n",
              " 'day',\n",
              " 'dep_time',\n",
              " 'dep_delay',\n",
              " 'arr_time',\n",
              " 'arr_delay',\n",
              " 'carrier',\n",
              " 'tailnum',\n",
              " 'flight',\n",
              " 'origin',\n",
              " 'dest',\n",
              " 'air_time',\n",
              " 'distance',\n",
              " 'hour',\n",
              " 'minute']"
            ]
          },
          "metadata": {},
          "execution_count": 14
        }
      ],
      "source": [
        "from pyspark.sql.types import *\n",
        "df.columns"
      ]
    },
    {
      "cell_type": "code",
      "execution_count": 15,
      "metadata": {
        "id": "ik62VX34SlFh"
      },
      "outputs": [],
      "source": [
        "# Creating a list of the schema in the format column_name, data_type\n",
        "# labels = [\n",
        "#      ('Car',StringType()),\n",
        "#      ('MPG',DoubleType()),\n",
        "#      ('Cylinders',IntegerType()),\n",
        "#      ('Displacement',DoubleType()),\n",
        "#      ('Horsepower',DoubleType()),\n",
        "#      ('Weight',DoubleType()),\n",
        "#      ('Acceleration',DoubleType()),\n",
        "#      ('Model',IntegerType()),\n",
        "#      ('Origin',StringType())\n",
        "# ]\n",
        "\n",
        "labels = [\n",
        "    ('year', IntegerType()),\n",
        " ('month', IntegerType()),\n",
        " ('day', IntegerType()),\n",
        " ('dep_time',StringType()),\n",
        " ('dep_delay',StringType()),\n",
        " ('arr_time',StringType()),\n",
        " ('arr_delay',StringType()),\n",
        " ('carrier',StringType()),\n",
        " ('tailnum',StringType()),\n",
        " ('flight',IntegerType()),\n",
        " ('origin',StringType()),\n",
        " ('dest',StringType()),\n",
        " ('air_time',StringType()),\n",
        " ('distance',IntegerType()),\n",
        " ('hour', StringType()),\n",
        " ('minute',StringType())\n",
        "]"
      ]
    },
    {
      "cell_type": "code",
      "execution_count": 16,
      "metadata": {
        "colab": {
          "base_uri": "https://localhost:8080/"
        },
        "id": "T-Fp5y_oU9SF",
        "outputId": "3c1dfe44-c3a7-4361-ae20-6c71a914d8c0"
      },
      "outputs": [
        {
          "output_type": "execute_result",
          "data": {
            "text/plain": [
              "StructType(List(StructField(year,IntegerType,true),StructField(month,IntegerType,true),StructField(day,IntegerType,true),StructField(dep_time,StringType,true),StructField(dep_delay,StringType,true),StructField(arr_time,StringType,true),StructField(arr_delay,StringType,true),StructField(carrier,StringType,true),StructField(tailnum,StringType,true),StructField(flight,IntegerType,true),StructField(origin,StringType,true),StructField(dest,StringType,true),StructField(air_time,StringType,true),StructField(distance,IntegerType,true),StructField(hour,StringType,true),StructField(minute,StringType,true)))"
            ]
          },
          "metadata": {},
          "execution_count": 16
        }
      ],
      "source": [
        "# Creating the schema that will be passed when reading the csv\n",
        "schema = StructType([StructField (x[0], x[1], True) for x in labels])\n",
        "schema"
      ]
    },
    {
      "cell_type": "code",
      "execution_count": 17,
      "metadata": {
        "colab": {
          "base_uri": "https://localhost:8080/"
        },
        "id": "sgC7gtL5VTls",
        "outputId": "938072a9-c684-4d11-fa37-71bb06c5df5b"
      },
      "outputs": [
        {
          "output_type": "stream",
          "name": "stdout",
          "text": [
            "root\n",
            " |-- year: integer (nullable = true)\n",
            " |-- month: integer (nullable = true)\n",
            " |-- day: integer (nullable = true)\n",
            " |-- dep_time: string (nullable = true)\n",
            " |-- dep_delay: string (nullable = true)\n",
            " |-- arr_time: string (nullable = true)\n",
            " |-- arr_delay: string (nullable = true)\n",
            " |-- carrier: string (nullable = true)\n",
            " |-- tailnum: string (nullable = true)\n",
            " |-- flight: integer (nullable = true)\n",
            " |-- origin: string (nullable = true)\n",
            " |-- dest: string (nullable = true)\n",
            " |-- air_time: string (nullable = true)\n",
            " |-- distance: integer (nullable = true)\n",
            " |-- hour: string (nullable = true)\n",
            " |-- minute: string (nullable = true)\n",
            "\n"
          ]
        }
      ],
      "source": [
        "df = spark.read.csv('flights_small.csv', header=True, sep=\",\", schema=schema)\n",
        "df.printSchema()\n",
        "# The schema comes as we gave!"
      ]
    },
    {
      "cell_type": "code",
      "execution_count": 18,
      "metadata": {
        "colab": {
          "base_uri": "https://localhost:8080/"
        },
        "id": "Dn2EAhesVmx0",
        "outputId": "893c6431-0244-4845-b650-db8555401b64"
      },
      "outputs": [
        {
          "output_type": "stream",
          "name": "stdout",
          "text": [
            "+----+-----+---+--------+---------+--------+---------+-------+-------+------+------+----+--------+--------+----+------+\n",
            "|year|month|day|dep_time|dep_delay|arr_time|arr_delay|carrier|tailnum|flight|origin|dest|air_time|distance|hour|minute|\n",
            "+----+-----+---+--------+---------+--------+---------+-------+-------+------+------+----+--------+--------+----+------+\n",
            "|2014|12   |8  |658     |-7       |935     |-5       |VX     |N846VA |1780  |SEA   |LAX |132     |954     |6   |58    |\n",
            "|2014|1    |22 |1040    |5        |1505    |5        |AS     |N559AS |851   |SEA   |HNL |360     |2677    |10  |40    |\n",
            "|2014|3    |9  |1443    |-2       |1652    |2        |VX     |N847VA |755   |SEA   |SFO |111     |679     |14  |43    |\n",
            "|2014|4    |9  |1705    |45       |1839    |34       |WN     |N360SW |344   |PDX   |SJC |83      |569     |17  |5     |\n",
            "|2014|3    |9  |754     |-1       |1015    |1        |AS     |N612AS |522   |SEA   |BUR |127     |937     |7   |54    |\n",
            "|2014|1    |15 |1037    |7        |1352    |2        |WN     |N646SW |48    |PDX   |DEN |121     |991     |10  |37    |\n",
            "|2014|7    |2  |847     |42       |1041    |51       |WN     |N422WN |1520  |PDX   |OAK |90      |543     |8   |47    |\n",
            "|2014|5    |12 |1655    |-5       |1842    |-18      |VX     |N361VA |755   |SEA   |SFO |98      |679     |16  |55    |\n",
            "|2014|4    |19 |1236    |-4       |1508    |-7       |AS     |N309AS |490   |SEA   |SAN |135     |1050    |12  |36    |\n",
            "|2014|11   |19 |1812    |-3       |2352    |-4       |AS     |N564AS |26    |SEA   |ORD |198     |1721    |18  |12    |\n",
            "|2014|11   |8  |1653    |-2       |1924    |-1       |AS     |N323AS |448   |SEA   |LAX |130     |954     |16  |53    |\n",
            "|2014|8    |3  |1120    |0        |1415    |2        |AS     |N305AS |656   |SEA   |PHX |154     |1107    |11  |20    |\n",
            "|2014|10   |30 |811     |21       |1038    |29       |AS     |N433AS |608   |SEA   |LAS |127     |867     |8   |11    |\n",
            "|2014|11   |12 |2346    |-4       |217     |-28      |AS     |N765AS |121   |SEA   |ANC |183     |1448    |23  |46    |\n",
            "|2014|10   |31 |1314    |89       |1544    |111      |AS     |N713AS |306   |SEA   |SFO |129     |679     |13  |14    |\n",
            "|2014|1    |29 |2009    |3        |2159    |9        |UA     |N27205 |1458  |PDX   |SFO |90      |550     |20  |9     |\n",
            "|2014|12   |17 |2015    |50       |2150    |41       |AS     |N626AS |368   |SEA   |SMF |76      |605     |20  |15    |\n",
            "|2014|8    |11 |1017    |-3       |1613    |-7       |WN     |N8634A |827   |SEA   |MDW |216     |1733    |10  |17    |\n",
            "|2014|1    |13 |2156    |-9       |607     |-15      |AS     |N597AS |24    |SEA   |BOS |290     |2496    |21  |56    |\n",
            "|2014|6    |5  |1733    |-12      |1945    |-10      |OO     |N215AG |3488  |PDX   |BUR |111     |817     |17  |33    |\n",
            "+----+-----+---+--------+---------+--------+---------+-------+-------+------+------+----+--------+--------+----+------+\n",
            "only showing top 20 rows\n",
            "\n"
          ]
        }
      ],
      "source": [
        "df.show(truncate=False)"
      ]
    },
    {
      "cell_type": "markdown",
      "metadata": {
        "id": "MDCO3TEe95OY"
      },
      "source": [
        "As we can see here, the data has been successully loaded with the specified datatypes."
      ]
    },
    {
      "cell_type": "markdown",
      "metadata": {
        "id": "rsD48rckdHPe"
      },
      "source": [
        "<a id='dataframe-operations-on-columns'></a>\n",
        "## DataFrame Operations on Columns"
      ]
    },
    {
      "cell_type": "markdown",
      "metadata": {
        "id": "cMlxdWfSY8ks"
      },
      "source": [
        "We will go over the following in this section:\n",
        "\n",
        "1.   Selecting Columns\n",
        "2.   Selecting Multiple Columns\n",
        "3.   Adding New Columns\n",
        "4.   Renaming Columns\n",
        "5.   Grouping By Columns\n",
        "6.   Removing Columns\n",
        "\n"
      ]
    },
    {
      "cell_type": "markdown",
      "metadata": {
        "id": "ikGR5pDICTu7"
      },
      "source": [
        "<a id='selecting-columns'></a>\n",
        "### Selecting Columns"
      ]
    },
    {
      "cell_type": "markdown",
      "metadata": {
        "id": "-VMwIwi2rj_o"
      },
      "source": [
        "There are multiple ways to do a select in PySpark. You can find how they differ and how each below:"
      ]
    },
    {
      "cell_type": "code",
      "source": [
        "df.columns"
      ],
      "metadata": {
        "colab": {
          "base_uri": "https://localhost:8080/"
        },
        "id": "ttwU9vqqQPsd",
        "outputId": "e31c5180-0603-461e-e20a-44779f69c61a"
      },
      "execution_count": 19,
      "outputs": [
        {
          "output_type": "execute_result",
          "data": {
            "text/plain": [
              "['year',\n",
              " 'month',\n",
              " 'day',\n",
              " 'dep_time',\n",
              " 'dep_delay',\n",
              " 'arr_time',\n",
              " 'arr_delay',\n",
              " 'carrier',\n",
              " 'tailnum',\n",
              " 'flight',\n",
              " 'origin',\n",
              " 'dest',\n",
              " 'air_time',\n",
              " 'distance',\n",
              " 'hour',\n",
              " 'minute']"
            ]
          },
          "metadata": {},
          "execution_count": 19
        }
      ]
    },
    {
      "cell_type": "code",
      "execution_count": 20,
      "metadata": {
        "colab": {
          "base_uri": "https://localhost:8080/"
        },
        "id": "ge9-_ygideWk",
        "outputId": "c5684d6d-9ca7-4af4-fd10-55d6ea6a4cbc"
      },
      "outputs": [
        {
          "output_type": "stream",
          "name": "stdout",
          "text": [
            "Column<'carrier'>\n",
            "********************\n",
            "+-------+\n",
            "|carrier|\n",
            "+-------+\n",
            "|VX     |\n",
            "|AS     |\n",
            "|VX     |\n",
            "|WN     |\n",
            "|AS     |\n",
            "|WN     |\n",
            "|WN     |\n",
            "|VX     |\n",
            "|AS     |\n",
            "|AS     |\n",
            "|AS     |\n",
            "|AS     |\n",
            "|AS     |\n",
            "|AS     |\n",
            "|AS     |\n",
            "|UA     |\n",
            "|AS     |\n",
            "|WN     |\n",
            "|AS     |\n",
            "|OO     |\n",
            "+-------+\n",
            "only showing top 20 rows\n",
            "\n"
          ]
        }
      ],
      "source": [
        "# 1st method\n",
        "# Column name is case sensitive in this usage\n",
        "print(df.carrier)\n",
        "print(\"*\"*20)\n",
        "df.select(df.carrier).show(truncate=False)"
      ]
    },
    {
      "cell_type": "markdown",
      "metadata": {
        "id": "YxP1su8veNde"
      },
      "source": [
        "**NOTE:**\n",
        "\n",
        "> **We can't always use the dot notation because this will break when the column names have reserved names or attributes to the data frame class. Additionally, the column names are case sensitive in nature so we need to always make sure the column names have been changed to a paticular case before using it.**\n",
        "\n"
      ]
    },
    {
      "cell_type": "code",
      "execution_count": 21,
      "metadata": {
        "colab": {
          "base_uri": "https://localhost:8080/"
        },
        "id": "md5zaET8dsr4",
        "outputId": "717f1de3-4b40-41f6-f166-506dac59b79d"
      },
      "outputs": [
        {
          "output_type": "stream",
          "name": "stdout",
          "text": [
            "Column<'carrier'>\n",
            "********************\n",
            "+-------+\n",
            "|carrier|\n",
            "+-------+\n",
            "|VX     |\n",
            "|AS     |\n",
            "|VX     |\n",
            "|WN     |\n",
            "|AS     |\n",
            "|WN     |\n",
            "|WN     |\n",
            "|VX     |\n",
            "|AS     |\n",
            "|AS     |\n",
            "|AS     |\n",
            "|AS     |\n",
            "|AS     |\n",
            "|AS     |\n",
            "|AS     |\n",
            "|UA     |\n",
            "|AS     |\n",
            "|WN     |\n",
            "|AS     |\n",
            "|OO     |\n",
            "+-------+\n",
            "only showing top 20 rows\n",
            "\n"
          ]
        }
      ],
      "source": [
        "# 2nd method\n",
        "# Column name is case insensitive here\n",
        "print(df['carrier'])\n",
        "print(\"*\"*20)\n",
        "df.select(df['carrier']).show(truncate=False)"
      ]
    },
    {
      "cell_type": "code",
      "execution_count": 22,
      "metadata": {
        "colab": {
          "base_uri": "https://localhost:8080/"
        },
        "id": "6Gkf14sHec9a",
        "outputId": "44dc99e0-d74f-4505-e4fa-fd6a0febd615"
      },
      "outputs": [
        {
          "output_type": "stream",
          "name": "stdout",
          "text": [
            "+-------+\n",
            "|carrier|\n",
            "+-------+\n",
            "|VX     |\n",
            "|AS     |\n",
            "|VX     |\n",
            "|WN     |\n",
            "|AS     |\n",
            "|WN     |\n",
            "|WN     |\n",
            "|VX     |\n",
            "|AS     |\n",
            "|AS     |\n",
            "|AS     |\n",
            "|AS     |\n",
            "|AS     |\n",
            "|AS     |\n",
            "|AS     |\n",
            "|UA     |\n",
            "|AS     |\n",
            "|WN     |\n",
            "|AS     |\n",
            "|OO     |\n",
            "+-------+\n",
            "only showing top 20 rows\n",
            "\n"
          ]
        }
      ],
      "source": [
        "# 3rd method\n",
        "# Column name is case insensitive here\n",
        "from pyspark.sql.functions import col\n",
        "df.select(col('carrier')).show(truncate=False)"
      ]
    },
    {
      "cell_type": "markdown",
      "metadata": {
        "id": "z6QsMfnNt3qF"
      },
      "source": [
        "<a id='selecting-multiple-columns'></a>\n",
        "### Selecting Multiple Columns"
      ]
    },
    {
      "cell_type": "code",
      "execution_count": 23,
      "metadata": {
        "colab": {
          "base_uri": "https://localhost:8080/"
        },
        "id": "bPjLMhZ6uAQR",
        "outputId": "6951eedc-8518-484b-db73-b5f0e701256a"
      },
      "outputs": [
        {
          "output_type": "stream",
          "name": "stdout",
          "text": [
            "Column<'carrier'> Column<'flight'>\n",
            "****************************************\n",
            "+-------+------+\n",
            "|carrier|flight|\n",
            "+-------+------+\n",
            "|VX     |1780  |\n",
            "|AS     |851   |\n",
            "|VX     |755   |\n",
            "|WN     |344   |\n",
            "|AS     |522   |\n",
            "|WN     |48    |\n",
            "|WN     |1520  |\n",
            "|VX     |755   |\n",
            "|AS     |490   |\n",
            "|AS     |26    |\n",
            "|AS     |448   |\n",
            "|AS     |656   |\n",
            "|AS     |608   |\n",
            "|AS     |121   |\n",
            "|AS     |306   |\n",
            "|UA     |1458  |\n",
            "|AS     |368   |\n",
            "|WN     |827   |\n",
            "|AS     |24    |\n",
            "|OO     |3488  |\n",
            "+-------+------+\n",
            "only showing top 20 rows\n",
            "\n"
          ]
        }
      ],
      "source": [
        "# 1st method\n",
        "# Column name is case sensitive in this usage\n",
        "print(df.carrier, df.flight)\n",
        "print(\"*\"*40)\n",
        "df.select(df.carrier, df.flight).show(truncate=False)"
      ]
    },
    {
      "cell_type": "code",
      "execution_count": 24,
      "metadata": {
        "colab": {
          "base_uri": "https://localhost:8080/"
        },
        "id": "DMRMUrv7uHWa",
        "outputId": "a9613315-a51f-4e84-e9b8-1d7a5daa68cb"
      },
      "outputs": [
        {
          "output_type": "stream",
          "name": "stdout",
          "text": [
            "Column<'carrier'> Column<'flight'>\n",
            "****************************************\n",
            "+-------+------+\n",
            "|carrier|flight|\n",
            "+-------+------+\n",
            "|VX     |1780  |\n",
            "|AS     |851   |\n",
            "|VX     |755   |\n",
            "|WN     |344   |\n",
            "|AS     |522   |\n",
            "|WN     |48    |\n",
            "|WN     |1520  |\n",
            "|VX     |755   |\n",
            "|AS     |490   |\n",
            "|AS     |26    |\n",
            "|AS     |448   |\n",
            "|AS     |656   |\n",
            "|AS     |608   |\n",
            "|AS     |121   |\n",
            "|AS     |306   |\n",
            "|UA     |1458  |\n",
            "|AS     |368   |\n",
            "|WN     |827   |\n",
            "|AS     |24    |\n",
            "|OO     |3488  |\n",
            "+-------+------+\n",
            "only showing top 20 rows\n",
            "\n"
          ]
        }
      ],
      "source": [
        "# 2nd method\n",
        "# Column name is case insensitive in this usage\n",
        "print(df['carrier'],df['flight'])\n",
        "print(\"*\"*40)\n",
        "df.select(df['carrier'],df['flight']).show(truncate=False)"
      ]
    },
    {
      "cell_type": "code",
      "execution_count": 25,
      "metadata": {
        "colab": {
          "base_uri": "https://localhost:8080/"
        },
        "id": "RgQ20-4GugjR",
        "outputId": "dabc2e27-512e-43c1-d690-2f7e29b88b20"
      },
      "outputs": [
        {
          "output_type": "stream",
          "name": "stdout",
          "text": [
            "+-------+------+\n",
            "|carrier|flight|\n",
            "+-------+------+\n",
            "|VX     |1780  |\n",
            "|AS     |851   |\n",
            "|VX     |755   |\n",
            "|WN     |344   |\n",
            "|AS     |522   |\n",
            "|WN     |48    |\n",
            "|WN     |1520  |\n",
            "|VX     |755   |\n",
            "|AS     |490   |\n",
            "|AS     |26    |\n",
            "|AS     |448   |\n",
            "|AS     |656   |\n",
            "|AS     |608   |\n",
            "|AS     |121   |\n",
            "|AS     |306   |\n",
            "|UA     |1458  |\n",
            "|AS     |368   |\n",
            "|WN     |827   |\n",
            "|AS     |24    |\n",
            "|OO     |3488  |\n",
            "+-------+------+\n",
            "only showing top 20 rows\n",
            "\n"
          ]
        }
      ],
      "source": [
        "# 3rd method\n",
        "# Column name is case insensitive in this usage\n",
        "from pyspark.sql.functions import col\n",
        "df.select(col('carrier'),col('flight')).show(truncate=False)"
      ]
    },
    {
      "cell_type": "markdown",
      "metadata": {
        "id": "85Lv3zSXCcOY"
      },
      "source": [
        "<a id='adding-new-columns'></a>\n",
        "### Adding New Columns"
      ]
    },
    {
      "cell_type": "markdown",
      "metadata": {
        "id": "d_Y7dcAHu-Uz"
      },
      "source": [
        "We will take a look at three cases here:\n",
        "\n",
        "1.   Adding a new column\n",
        "2.   Adding multiple columns\n",
        "3.   Deriving a new column from an exisitng one"
      ]
    },
    {
      "cell_type": "code",
      "execution_count": 26,
      "metadata": {
        "colab": {
          "base_uri": "https://localhost:8080/"
        },
        "id": "oFHUmRKZeCEV",
        "outputId": "7fe954b3-3881-429d-c1e9-17c83ed99338"
      },
      "outputs": [
        {
          "output_type": "stream",
          "name": "stdout",
          "text": [
            "+----+-----+---+--------+---------+--------+---------+-------+-------+------+------+----+--------+--------+----+------+------------+\n",
            "|year|month|day|dep_time|dep_delay|arr_time|arr_delay|carrier|tailnum|flight|origin|dest|air_time|distance|hour|minute|first_column|\n",
            "+----+-----+---+--------+---------+--------+---------+-------+-------+------+------+----+--------+--------+----+------+------------+\n",
            "|2014|12   |8  |658     |-7       |935     |-5       |VX     |N846VA |1780  |SEA   |LAX |132     |954     |6   |58    |1           |\n",
            "|2014|1    |22 |1040    |5        |1505    |5        |AS     |N559AS |851   |SEA   |HNL |360     |2677    |10  |40    |1           |\n",
            "|2014|3    |9  |1443    |-2       |1652    |2        |VX     |N847VA |755   |SEA   |SFO |111     |679     |14  |43    |1           |\n",
            "|2014|4    |9  |1705    |45       |1839    |34       |WN     |N360SW |344   |PDX   |SJC |83      |569     |17  |5     |1           |\n",
            "|2014|3    |9  |754     |-1       |1015    |1        |AS     |N612AS |522   |SEA   |BUR |127     |937     |7   |54    |1           |\n",
            "+----+-----+---+--------+---------+--------+---------+-------+-------+------+------+----+--------+--------+----+------+------------+\n",
            "only showing top 5 rows\n",
            "\n"
          ]
        }
      ],
      "source": [
        "# CASE 1: Adding a new column\n",
        "# We will add a new column called 'first_column' at the end\n",
        "from pyspark.sql.functions import lit\n",
        "df = df.withColumn('first_column',lit(1)) \n",
        "# lit means literal. It populates the row with the literal value given.\n",
        "# When adding static data / constant values, it is a good practice to use it.\n",
        "df.show(5,truncate=False)"
      ]
    },
    {
      "cell_type": "code",
      "execution_count": 27,
      "metadata": {
        "colab": {
          "base_uri": "https://localhost:8080/"
        },
        "id": "U9772_mHwAqL",
        "outputId": "e8285630-d83e-467a-b3e0-8947da050cfd"
      },
      "outputs": [
        {
          "output_type": "stream",
          "name": "stdout",
          "text": [
            "+----+-----+---+--------+---------+--------+---------+-------+-------+------+------+----+--------+--------+----+------+------------+-------------+------------+\n",
            "|year|month|day|dep_time|dep_delay|arr_time|arr_delay|carrier|tailnum|flight|origin|dest|air_time|distance|hour|minute|first_column|second_column|third_column|\n",
            "+----+-----+---+--------+---------+--------+---------+-------+-------+------+------+----+--------+--------+----+------+------------+-------------+------------+\n",
            "|2014|12   |8  |658     |-7       |935     |-5       |VX     |N846VA |1780  |SEA   |LAX |132     |954     |6   |58    |1           |2            |Third Column|\n",
            "|2014|1    |22 |1040    |5        |1505    |5        |AS     |N559AS |851   |SEA   |HNL |360     |2677    |10  |40    |1           |2            |Third Column|\n",
            "|2014|3    |9  |1443    |-2       |1652    |2        |VX     |N847VA |755   |SEA   |SFO |111     |679     |14  |43    |1           |2            |Third Column|\n",
            "|2014|4    |9  |1705    |45       |1839    |34       |WN     |N360SW |344   |PDX   |SJC |83      |569     |17  |5     |1           |2            |Third Column|\n",
            "|2014|3    |9  |754     |-1       |1015    |1        |AS     |N612AS |522   |SEA   |BUR |127     |937     |7   |54    |1           |2            |Third Column|\n",
            "+----+-----+---+--------+---------+--------+---------+-------+-------+------+------+----+--------+--------+----+------+------------+-------------+------------+\n",
            "only showing top 5 rows\n",
            "\n"
          ]
        }
      ],
      "source": [
        "# CASE 2: Adding multiple columns\n",
        "# We will add two new columns called 'second_column' and 'third_column' at the end\n",
        "df = df.withColumn('second_column', lit(2)) \\\n",
        "       .withColumn('third_column', lit('Third Column')) \n",
        "# lit means literal. It populates the row with the literal value given.\n",
        "# When adding static data / constant values, it is a good practice to use it.\n",
        "df.show(5,truncate=False)"
      ]
    },
    {
      "cell_type": "code",
      "execution_count": 28,
      "metadata": {
        "colab": {
          "base_uri": "https://localhost:8080/"
        },
        "id": "dGaQS_pOwx_b",
        "outputId": "09171b10-5b5d-4157-aaea-8a0765798da7"
      },
      "outputs": [
        {
          "output_type": "stream",
          "name": "stdout",
          "text": [
            "+----+-----+---+--------+---------+--------+---------+-------+-------+------+------+----+--------+--------+----+------+------------+-------------+------------+---------+\n",
            "|year|month|day|dep_time|dep_delay|arr_time|arr_delay|carrier|tailnum|flight|origin|dest|air_time|distance|hour|minute|first_column|second_column|third_column|car_model|\n",
            "+----+-----+---+--------+---------+--------+---------+-------+-------+------+------+----+--------+--------+----+------+------------+-------------+------------+---------+\n",
            "|2014|12   |8  |658     |-7       |935     |-5       |VX     |N846VA |1780  |SEA   |LAX |132     |954     |6   |58    |1           |2            |Third Column|VX 1780  |\n",
            "|2014|1    |22 |1040    |5        |1505    |5        |AS     |N559AS |851   |SEA   |HNL |360     |2677    |10  |40    |1           |2            |Third Column|AS 851   |\n",
            "|2014|3    |9  |1443    |-2       |1652    |2        |VX     |N847VA |755   |SEA   |SFO |111     |679     |14  |43    |1           |2            |Third Column|VX 755   |\n",
            "|2014|4    |9  |1705    |45       |1839    |34       |WN     |N360SW |344   |PDX   |SJC |83      |569     |17  |5     |1           |2            |Third Column|WN 344   |\n",
            "|2014|3    |9  |754     |-1       |1015    |1        |AS     |N612AS |522   |SEA   |BUR |127     |937     |7   |54    |1           |2            |Third Column|AS 522   |\n",
            "+----+-----+---+--------+---------+--------+---------+-------+-------+------+------+----+--------+--------+----+------+------------+-------------+------------+---------+\n",
            "only showing top 5 rows\n",
            "\n"
          ]
        }
      ],
      "source": [
        "# CASE 3: Deriving a new column from an exisitng one\n",
        "# We will add a new column called 'car_model' which has the value of car and model appended together with a space in between \n",
        "from pyspark.sql.functions import concat\n",
        "df = df.withColumn('car_model', concat(col(\"carrier\"), lit(\" \"), col(\"flight\")))\n",
        "# lit means literal. It populates the row with the literal value given.\n",
        "# When adding static data / constant values, it is a good practice to use it.\n",
        "df.show(5,truncate=False)"
      ]
    },
    {
      "cell_type": "markdown",
      "metadata": {
        "id": "xeHExg-zxf5r"
      },
      "source": [
        "As we can see, the new column car model has been created from existing columns. Since our aim was to create a column which has the value of car and model appended together with a space in between we have used the `concat` operator."
      ]
    },
    {
      "cell_type": "markdown",
      "metadata": {
        "id": "QlMf04i2CjDC"
      },
      "source": [
        "<a id='renaming-columns'></a>\n",
        "### Renaming Columns"
      ]
    },
    {
      "cell_type": "markdown",
      "metadata": {
        "id": "CwGKbSHvxxxG"
      },
      "source": [
        "We use the `withColumnRenamed` function to rename a columm in PySpark. Let us see it in action below:"
      ]
    },
    {
      "cell_type": "code",
      "execution_count": 29,
      "metadata": {
        "colab": {
          "base_uri": "https://localhost:8080/"
        },
        "id": "QJqgy6lKfk2o",
        "outputId": "a59e81a8-c2d8-4ec5-e1eb-940e11064a1c"
      },
      "outputs": [
        {
          "output_type": "stream",
          "name": "stdout",
          "text": [
            "+----+-----+---+--------+---------+--------+---------+-------+-------+------+------+----+--------+--------+----+------+--------------+--------------+----------------+---------+\n",
            "|year|month|day|dep_time|dep_delay|arr_time|arr_delay|carrier|tailnum|flight|origin|dest|air_time|distance|hour|minute|new_column_one|new_column_two|new_column_three|car_model|\n",
            "+----+-----+---+--------+---------+--------+---------+-------+-------+------+------+----+--------+--------+----+------+--------------+--------------+----------------+---------+\n",
            "|2014|12   |8  |658     |-7       |935     |-5       |VX     |N846VA |1780  |SEA   |LAX |132     |954     |6   |58    |1             |2             |Third Column    |VX 1780  |\n",
            "|2014|1    |22 |1040    |5        |1505    |5        |AS     |N559AS |851   |SEA   |HNL |360     |2677    |10  |40    |1             |2             |Third Column    |AS 851   |\n",
            "|2014|3    |9  |1443    |-2       |1652    |2        |VX     |N847VA |755   |SEA   |SFO |111     |679     |14  |43    |1             |2             |Third Column    |VX 755   |\n",
            "|2014|4    |9  |1705    |45       |1839    |34       |WN     |N360SW |344   |PDX   |SJC |83      |569     |17  |5     |1             |2             |Third Column    |WN 344   |\n",
            "|2014|3    |9  |754     |-1       |1015    |1        |AS     |N612AS |522   |SEA   |BUR |127     |937     |7   |54    |1             |2             |Third Column    |AS 522   |\n",
            "|2014|1    |15 |1037    |7        |1352    |2        |WN     |N646SW |48    |PDX   |DEN |121     |991     |10  |37    |1             |2             |Third Column    |WN 48    |\n",
            "|2014|7    |2  |847     |42       |1041    |51       |WN     |N422WN |1520  |PDX   |OAK |90      |543     |8   |47    |1             |2             |Third Column    |WN 1520  |\n",
            "|2014|5    |12 |1655    |-5       |1842    |-18      |VX     |N361VA |755   |SEA   |SFO |98      |679     |16  |55    |1             |2             |Third Column    |VX 755   |\n",
            "|2014|4    |19 |1236    |-4       |1508    |-7       |AS     |N309AS |490   |SEA   |SAN |135     |1050    |12  |36    |1             |2             |Third Column    |AS 490   |\n",
            "|2014|11   |19 |1812    |-3       |2352    |-4       |AS     |N564AS |26    |SEA   |ORD |198     |1721    |18  |12    |1             |2             |Third Column    |AS 26    |\n",
            "|2014|11   |8  |1653    |-2       |1924    |-1       |AS     |N323AS |448   |SEA   |LAX |130     |954     |16  |53    |1             |2             |Third Column    |AS 448   |\n",
            "|2014|8    |3  |1120    |0        |1415    |2        |AS     |N305AS |656   |SEA   |PHX |154     |1107    |11  |20    |1             |2             |Third Column    |AS 656   |\n",
            "|2014|10   |30 |811     |21       |1038    |29       |AS     |N433AS |608   |SEA   |LAS |127     |867     |8   |11    |1             |2             |Third Column    |AS 608   |\n",
            "|2014|11   |12 |2346    |-4       |217     |-28      |AS     |N765AS |121   |SEA   |ANC |183     |1448    |23  |46    |1             |2             |Third Column    |AS 121   |\n",
            "|2014|10   |31 |1314    |89       |1544    |111      |AS     |N713AS |306   |SEA   |SFO |129     |679     |13  |14    |1             |2             |Third Column    |AS 306   |\n",
            "|2014|1    |29 |2009    |3        |2159    |9        |UA     |N27205 |1458  |PDX   |SFO |90      |550     |20  |9     |1             |2             |Third Column    |UA 1458  |\n",
            "|2014|12   |17 |2015    |50       |2150    |41       |AS     |N626AS |368   |SEA   |SMF |76      |605     |20  |15    |1             |2             |Third Column    |AS 368   |\n",
            "|2014|8    |11 |1017    |-3       |1613    |-7       |WN     |N8634A |827   |SEA   |MDW |216     |1733    |10  |17    |1             |2             |Third Column    |WN 827   |\n",
            "|2014|1    |13 |2156    |-9       |607     |-15      |AS     |N597AS |24    |SEA   |BOS |290     |2496    |21  |56    |1             |2             |Third Column    |AS 24    |\n",
            "|2014|6    |5  |1733    |-12      |1945    |-10      |OO     |N215AG |3488  |PDX   |BUR |111     |817     |17  |33    |1             |2             |Third Column    |OO 3488  |\n",
            "+----+-----+---+--------+---------+--------+---------+-------+-------+------+------+----+--------+--------+----+------+--------------+--------------+----------------+---------+\n",
            "only showing top 20 rows\n",
            "\n"
          ]
        }
      ],
      "source": [
        "#Renaming a column in PySpark\n",
        "df = df.withColumnRenamed('first_column', 'new_column_one') \\\n",
        "       .withColumnRenamed('second_column', 'new_column_two') \\\n",
        "       .withColumnRenamed('third_column', 'new_column_three')\n",
        "df.show(truncate=False)"
      ]
    },
    {
      "cell_type": "markdown",
      "metadata": {
        "id": "4CDifVC2Cnml"
      },
      "source": [
        "<a id='grouping-by-columns'></a>\n",
        "### Grouping By Columns"
      ]
    },
    {
      "cell_type": "markdown",
      "metadata": {
        "id": "9wlB76FdyS0W"
      },
      "source": [
        "Here, we see the Dataframe API way of grouping values. We will discuss how to:\n",
        "\n",
        "\n",
        "1.   Group By a single column\n",
        "2.   Group By multiple columns"
      ]
    },
    {
      "cell_type": "code",
      "source": [
        "df.head()"
      ],
      "metadata": {
        "colab": {
          "base_uri": "https://localhost:8080/"
        },
        "id": "ymETaHkHRJo9",
        "outputId": "17e58a57-0e2a-494a-c1bb-1034d342d915"
      },
      "execution_count": 30,
      "outputs": [
        {
          "output_type": "execute_result",
          "data": {
            "text/plain": [
              "Row(year=2014, month=12, day=8, dep_time='658', dep_delay='-7', arr_time='935', arr_delay='-5', carrier='VX', tailnum='N846VA', flight=1780, origin='SEA', dest='LAX', air_time='132', distance=954, hour='6', minute='58', new_column_one=1, new_column_two=2, new_column_three='Third Column', car_model='VX 1780')"
            ]
          },
          "metadata": {},
          "execution_count": 30
        }
      ]
    },
    {
      "cell_type": "code",
      "execution_count": 31,
      "metadata": {
        "colab": {
          "base_uri": "https://localhost:8080/"
        },
        "id": "M1ek2opVfqea",
        "outputId": "c6c9086a-0b3c-418c-adaa-e892713c2ab6"
      },
      "outputs": [
        {
          "output_type": "stream",
          "name": "stdout",
          "text": [
            "+----+-----+\n",
            "|dest|count|\n",
            "+----+-----+\n",
            "| MSY|    9|\n",
            "| GEG|  105|\n",
            "| BUR|  137|\n",
            "| SNA|  198|\n",
            "| EUG|   41|\n",
            "+----+-----+\n",
            "only showing top 5 rows\n",
            "\n"
          ]
        }
      ],
      "source": [
        "# Group By a column in PySpark\n",
        "df.groupBy('dest').count().show(5)"
      ]
    },
    {
      "cell_type": "code",
      "execution_count": 32,
      "metadata": {
        "colab": {
          "base_uri": "https://localhost:8080/"
        },
        "id": "hUh_TWcOysoL",
        "outputId": "56bcafb4-0ce0-498b-b8d4-77e47247551e"
      },
      "outputs": [
        {
          "output_type": "stream",
          "name": "stdout",
          "text": [
            "+----+-------+-----+\n",
            "|dest|carrier|count|\n",
            "+----+-------+-----+\n",
            "| KTN|     AS|   77|\n",
            "| LAX|     AS|  346|\n",
            "| ANC|     DL|   48|\n",
            "| SAN|     DL|    9|\n",
            "| PDX|     AS|    8|\n",
            "+----+-------+-----+\n",
            "only showing top 5 rows\n",
            "\n"
          ]
        }
      ],
      "source": [
        "# Group By multiple columns in PySpark\n",
        "df.groupBy('dest', 'carrier').count().show(5)"
      ]
    },
    {
      "cell_type": "markdown",
      "metadata": {
        "id": "CbpEj9fECrW3"
      },
      "source": [
        "<a id='removing-columns'></a>\n",
        "### Removing Columns"
      ]
    },
    {
      "cell_type": "code",
      "execution_count": 33,
      "metadata": {
        "colab": {
          "base_uri": "https://localhost:8080/"
        },
        "id": "xsb9PXxpfnmh",
        "outputId": "84b5fdb8-5998-4191-ef18-7c22c0fc5f69"
      },
      "outputs": [
        {
          "output_type": "stream",
          "name": "stdout",
          "text": [
            "+----+-----+---+--------+---------+--------+---------+-------+-------+------+------+----+--------+--------+----+------+--------------+----------------+---------+\n",
            "|year|month|day|dep_time|dep_delay|arr_time|arr_delay|carrier|tailnum|flight|origin|dest|air_time|distance|hour|minute|new_column_two|new_column_three|car_model|\n",
            "+----+-----+---+--------+---------+--------+---------+-------+-------+------+------+----+--------+--------+----+------+--------------+----------------+---------+\n",
            "|2014|12   |8  |658     |-7       |935     |-5       |VX     |N846VA |1780  |SEA   |LAX |132     |954     |6   |58    |2             |Third Column    |VX 1780  |\n",
            "|2014|1    |22 |1040    |5        |1505    |5        |AS     |N559AS |851   |SEA   |HNL |360     |2677    |10  |40    |2             |Third Column    |AS 851   |\n",
            "|2014|3    |9  |1443    |-2       |1652    |2        |VX     |N847VA |755   |SEA   |SFO |111     |679     |14  |43    |2             |Third Column    |VX 755   |\n",
            "|2014|4    |9  |1705    |45       |1839    |34       |WN     |N360SW |344   |PDX   |SJC |83      |569     |17  |5     |2             |Third Column    |WN 344   |\n",
            "|2014|3    |9  |754     |-1       |1015    |1        |AS     |N612AS |522   |SEA   |BUR |127     |937     |7   |54    |2             |Third Column    |AS 522   |\n",
            "+----+-----+---+--------+---------+--------+---------+-------+-------+------+------+----+--------+--------+----+------+--------------+----------------+---------+\n",
            "only showing top 5 rows\n",
            "\n"
          ]
        }
      ],
      "source": [
        "#Remove columns in PySpark\n",
        "df = df.drop('new_column_one')\n",
        "df.show(5,truncate=False)"
      ]
    },
    {
      "cell_type": "code",
      "execution_count": 34,
      "metadata": {
        "colab": {
          "base_uri": "https://localhost:8080/"
        },
        "id": "EKOXrXtvzK_0",
        "outputId": "9c7a09c1-1603-4032-e072-05842b876ae0"
      },
      "outputs": [
        {
          "output_type": "stream",
          "name": "stdout",
          "text": [
            "+----+-----+---+--------+---------+--------+---------+-------+-------+------+------+----+--------+--------+----+------+---------+\n",
            "|year|month|day|dep_time|dep_delay|arr_time|arr_delay|carrier|tailnum|flight|origin|dest|air_time|distance|hour|minute|car_model|\n",
            "+----+-----+---+--------+---------+--------+---------+-------+-------+------+------+----+--------+--------+----+------+---------+\n",
            "|2014|12   |8  |658     |-7       |935     |-5       |VX     |N846VA |1780  |SEA   |LAX |132     |954     |6   |58    |VX 1780  |\n",
            "|2014|1    |22 |1040    |5        |1505    |5        |AS     |N559AS |851   |SEA   |HNL |360     |2677    |10  |40    |AS 851   |\n",
            "|2014|3    |9  |1443    |-2       |1652    |2        |VX     |N847VA |755   |SEA   |SFO |111     |679     |14  |43    |VX 755   |\n",
            "|2014|4    |9  |1705    |45       |1839    |34       |WN     |N360SW |344   |PDX   |SJC |83      |569     |17  |5     |WN 344   |\n",
            "|2014|3    |9  |754     |-1       |1015    |1        |AS     |N612AS |522   |SEA   |BUR |127     |937     |7   |54    |AS 522   |\n",
            "+----+-----+---+--------+---------+--------+---------+-------+-------+------+------+----+--------+--------+----+------+---------+\n",
            "only showing top 5 rows\n",
            "\n"
          ]
        }
      ],
      "source": [
        "#Remove multiple columnss in one go\n",
        "df = df.drop('new_column_two') \\\n",
        "       .drop('new_column_three')\n",
        "df.show(5,truncate=False)"
      ]
    },
    {
      "cell_type": "markdown",
      "metadata": {
        "id": "WbKK5iHwmIoV"
      },
      "source": [
        "<a id='dataframe-operations-on-rows'></a>\n",
        "## DataFrame Operations on Rows"
      ]
    },
    {
      "cell_type": "markdown",
      "metadata": {
        "id": "Quwx3KlLzeq9"
      },
      "source": [
        "We will discuss the follwoing in this section:\n",
        "\n",
        "1.   Filtering Rows\n",
        "2. \t Get Distinct Rows\n",
        "3.   Sorting Rows\n",
        "4.   Union Dataframes\n",
        "\n"
      ]
    },
    {
      "cell_type": "markdown",
      "metadata": {
        "id": "9bKlvX-SH-Wy"
      },
      "source": [
        "<a id='filtering-rows'></a>\n",
        "### Filtering Rows"
      ]
    },
    {
      "cell_type": "code",
      "execution_count": 35,
      "metadata": {
        "colab": {
          "base_uri": "https://localhost:8080/"
        },
        "id": "YNfcjOIknA3n",
        "outputId": "7c5b4452-6d1a-4393-883b-239ac79592c8"
      },
      "outputs": [
        {
          "output_type": "stream",
          "name": "stdout",
          "text": [
            "TOTAL RECORD COUNT: 10000\n",
            "EUROPE FILTERED RECORD COUNT: 615\n",
            "+----+-----+---+--------+---------+--------+---------+-------+-------+------+------+----+--------+--------+----+------+---------+\n",
            "|year|month|day|dep_time|dep_delay|arr_time|arr_delay|carrier|tailnum|flight|origin|dest|air_time|distance|hour|minute|car_model|\n",
            "+----+-----+---+--------+---------+--------+---------+-------+-------+------+------+----+--------+--------+----+------+---------+\n",
            "|2014|12   |8  |658     |-7       |935     |-5       |VX     |N846VA |1780  |SEA   |LAX |132     |954     |6   |58    |VX 1780  |\n",
            "|2014|11   |8  |1653    |-2       |1924    |-1       |AS     |N323AS |448   |SEA   |LAX |130     |954     |16  |53    |AS 448   |\n",
            "|2014|8    |19 |1845    |-5       |2112    |-22      |DL     |N354NW |2642  |SEA   |LAX |119     |954     |18  |45    |DL 2642  |\n",
            "|2014|6    |11 |750     |-10      |1009    |-11      |AS     |N799AS |568   |PDX   |LAX |118     |834     |7   |50    |AS 568   |\n",
            "|2014|4    |25 |1049    |-6       |1326    |-4       |VX     |N853VA |784   |SEA   |LAX |133     |954     |10  |49    |VX 784   |\n",
            "|2014|9    |12 |1552    |2        |1821    |-3       |AS     |N557AS |448   |SEA   |LAX |130     |954     |15  |52    |AS 448   |\n",
            "|2014|7    |17 |2003    |-2       |2246    |6        |VX     |N624VA |798   |SEA   |LAX |124     |954     |20  |3     |VX 798   |\n",
            "|2014|4    |25 |628     |-2       |856     |7        |AS     |N433AS |558   |PDX   |LAX |124     |834     |6   |28    |AS 558   |\n",
            "|2014|8    |14 |1526    |-8       |1800    |-5       |OO     |N962SW |6235  |PDX   |LAX |121     |834     |15  |26    |OO 6235  |\n",
            "|2014|11   |29 |705     |5        |1042    |57       |DL     |N3768  |968   |SEA   |LAX |130     |954     |7   |5     |DL 968   |\n",
            "|2014|1    |20 |657     |2        |935     |10       |AS     |N323AS |470   |SEA   |LAX |131     |954     |6   |57    |AS 470   |\n",
            "|2014|9    |23 |1636    |6        |1910    |3        |DL     |N663DN |2622  |SEA   |LAX |130     |954     |16  |36    |DL 2622  |\n",
            "|2014|3    |21 |1729    |-1       |1951    |0        |OO     |N822SK |4659  |PDX   |LAX |116     |834     |17  |29    |OO 4659  |\n",
            "|2014|10   |3  |1313    |-2       |1547    |1        |DL     |N750AT |677   |SEA   |LAX |126     |954     |13  |13    |DL 677   |\n",
            "|2014|12   |21 |1524    |19       |1745    |10       |VX     |N529VA |796   |SEA   |LAX |119     |954     |15  |24    |VX 796   |\n",
            "|2014|2    |5  |1823    |-2       |2046    |-9       |AS     |N524AS |464   |SEA   |LAX |120     |954     |18  |23    |AS 464   |\n",
            "|2014|9    |2  |638     |-2       |905     |-15      |DL     |N3763D |1465  |SEA   |LAX |121     |954     |6   |38    |DL 1465  |\n",
            "|2014|3    |31 |624     |-6       |853     |-2       |AS     |N779AS |558   |PDX   |LAX |119     |834     |6   |24    |AS 558   |\n",
            "|2014|5    |16 |1256    |-4       |1525    |-13      |OO     |N806SK |4677  |SEA   |LAX |124     |954     |12  |56    |OO 4677  |\n",
            "|2014|8    |18 |1459    |-1       |1728    |-7       |VX     |N522VA |796   |SEA   |LAX |130     |954     |14  |59    |VX 796   |\n",
            "+----+-----+---+--------+---------+--------+---------+-------+-------+------+------+----+--------+--------+----+------+---------+\n",
            "only showing top 20 rows\n",
            "\n"
          ]
        }
      ],
      "source": [
        "# Filtering rows in PySpark\n",
        "total_count = df.count()\n",
        "print(\"TOTAL RECORD COUNT: \" + str(total_count)) \n",
        "europe_filtered_count = df.filter(col('dest')=='LAX').count()\n",
        "print(\"EUROPE FILTERED RECORD COUNT: \" + str(europe_filtered_count))\n",
        "df.filter(col('dest')=='LAX').show(truncate=False)"
      ]
    },
    {
      "cell_type": "code",
      "execution_count": 36,
      "metadata": {
        "colab": {
          "base_uri": "https://localhost:8080/"
        },
        "id": "MXJxRwBQ1lyd",
        "outputId": "6404e812-1720-4d4d-b05a-d2cf7a091828"
      },
      "outputs": [
        {
          "output_type": "stream",
          "name": "stdout",
          "text": [
            "TOTAL RECORD COUNT: 10000\n",
            "EUROPE FILTERED RECORD COUNT: 615\n",
            "+----+-----+---+--------+---------+--------+---------+-------+-------+------+------+----+--------+--------+----+------+---------+\n",
            "|year|month|day|dep_time|dep_delay|arr_time|arr_delay|carrier|tailnum|flight|origin|dest|air_time|distance|hour|minute|car_model|\n",
            "+----+-----+---+--------+---------+--------+---------+-------+-------+------+------+----+--------+--------+----+------+---------+\n",
            "|2014|12   |8  |658     |-7       |935     |-5       |VX     |N846VA |1780  |SEA   |LAX |132     |954     |6   |58    |VX 1780  |\n",
            "|2014|11   |8  |1653    |-2       |1924    |-1       |AS     |N323AS |448   |SEA   |LAX |130     |954     |16  |53    |AS 448   |\n",
            "|2014|8    |19 |1845    |-5       |2112    |-22      |DL     |N354NW |2642  |SEA   |LAX |119     |954     |18  |45    |DL 2642  |\n",
            "|2014|6    |11 |750     |-10      |1009    |-11      |AS     |N799AS |568   |PDX   |LAX |118     |834     |7   |50    |AS 568   |\n",
            "|2014|4    |25 |1049    |-6       |1326    |-4       |VX     |N853VA |784   |SEA   |LAX |133     |954     |10  |49    |VX 784   |\n",
            "|2014|9    |12 |1552    |2        |1821    |-3       |AS     |N557AS |448   |SEA   |LAX |130     |954     |15  |52    |AS 448   |\n",
            "|2014|7    |17 |2003    |-2       |2246    |6        |VX     |N624VA |798   |SEA   |LAX |124     |954     |20  |3     |VX 798   |\n",
            "|2014|4    |25 |628     |-2       |856     |7        |AS     |N433AS |558   |PDX   |LAX |124     |834     |6   |28    |AS 558   |\n",
            "|2014|8    |14 |1526    |-8       |1800    |-5       |OO     |N962SW |6235  |PDX   |LAX |121     |834     |15  |26    |OO 6235  |\n",
            "|2014|11   |29 |705     |5        |1042    |57       |DL     |N3768  |968   |SEA   |LAX |130     |954     |7   |5     |DL 968   |\n",
            "|2014|1    |20 |657     |2        |935     |10       |AS     |N323AS |470   |SEA   |LAX |131     |954     |6   |57    |AS 470   |\n",
            "|2014|9    |23 |1636    |6        |1910    |3        |DL     |N663DN |2622  |SEA   |LAX |130     |954     |16  |36    |DL 2622  |\n",
            "|2014|3    |21 |1729    |-1       |1951    |0        |OO     |N822SK |4659  |PDX   |LAX |116     |834     |17  |29    |OO 4659  |\n",
            "|2014|10   |3  |1313    |-2       |1547    |1        |DL     |N750AT |677   |SEA   |LAX |126     |954     |13  |13    |DL 677   |\n",
            "|2014|12   |21 |1524    |19       |1745    |10       |VX     |N529VA |796   |SEA   |LAX |119     |954     |15  |24    |VX 796   |\n",
            "|2014|2    |5  |1823    |-2       |2046    |-9       |AS     |N524AS |464   |SEA   |LAX |120     |954     |18  |23    |AS 464   |\n",
            "|2014|9    |2  |638     |-2       |905     |-15      |DL     |N3763D |1465  |SEA   |LAX |121     |954     |6   |38    |DL 1465  |\n",
            "|2014|3    |31 |624     |-6       |853     |-2       |AS     |N779AS |558   |PDX   |LAX |119     |834     |6   |24    |AS 558   |\n",
            "|2014|5    |16 |1256    |-4       |1525    |-13      |OO     |N806SK |4677  |SEA   |LAX |124     |954     |12  |56    |OO 4677  |\n",
            "|2014|8    |18 |1459    |-1       |1728    |-7       |VX     |N522VA |796   |SEA   |LAX |130     |954     |14  |59    |VX 796   |\n",
            "+----+-----+---+--------+---------+--------+---------+-------+-------+------+------+----+--------+--------+----+------+---------+\n",
            "only showing top 20 rows\n",
            "\n"
          ]
        }
      ],
      "source": [
        "# Filtering rows in PySpark based on Multiple conditions\n",
        "total_count = df.count()\n",
        "print(\"TOTAL RECORD COUNT: \" + str(total_count)) \n",
        "europe_filtered_count = df.filter((col('dest')=='LAX') & \n",
        "                                  (col('year')==2014)).count() # Two conditions added here\n",
        "print(\"EUROPE FILTERED RECORD COUNT: \" + str(europe_filtered_count))\n",
        "df.filter(col('dest')=='LAX').show(truncate=False)"
      ]
    },
    {
      "cell_type": "markdown",
      "metadata": {
        "id": "zLU-a4auIEvh"
      },
      "source": [
        "<a id='get-distinct-rows'></a>\n",
        "### Get Distinct Rows"
      ]
    },
    {
      "cell_type": "code",
      "execution_count": 37,
      "metadata": {
        "colab": {
          "base_uri": "https://localhost:8080/"
        },
        "id": "B1RKg1UrmBQz",
        "outputId": "f6a3b6ae-ee88-4ccb-ee61-d0dd52567752"
      },
      "outputs": [
        {
          "output_type": "stream",
          "name": "stdout",
          "text": [
            "+----+\n",
            "|dest|\n",
            "+----+\n",
            "| MSY|\n",
            "| GEG|\n",
            "| BUR|\n",
            "| SNA|\n",
            "| EUG|\n",
            "| OAK|\n",
            "| DCA|\n",
            "| RDM|\n",
            "| KTN|\n",
            "| LIH|\n",
            "| IAH|\n",
            "| HNL|\n",
            "| SJC|\n",
            "| CVG|\n",
            "| AUS|\n",
            "| LGB|\n",
            "| RNO|\n",
            "| BOS|\n",
            "| EWR|\n",
            "| LAS|\n",
            "+----+\n",
            "only showing top 20 rows\n",
            "\n"
          ]
        }
      ],
      "source": [
        "#Get Unique Rows in PySpark\n",
        "df.select('dest').distinct().show()"
      ]
    },
    {
      "cell_type": "code",
      "execution_count": 38,
      "metadata": {
        "colab": {
          "base_uri": "https://localhost:8080/"
        },
        "id": "_LQWXPXt0g0N",
        "outputId": "a6439b02-7c35-4a6a-a77f-cd76721ff0be"
      },
      "outputs": [
        {
          "output_type": "stream",
          "name": "stdout",
          "text": [
            "+----+-----+\n",
            "|dest|month|\n",
            "+----+-----+\n",
            "| IAD|   12|\n",
            "| RDM|    2|\n",
            "| CLT|    4|\n",
            "| ONT|   11|\n",
            "| SBA|   11|\n",
            "| MCI|   10|\n",
            "| FLL|    5|\n",
            "| SLC|   10|\n",
            "| GEG|   11|\n",
            "| COS|    3|\n",
            "| GEG|    7|\n",
            "| IAD|   10|\n",
            "| ONT|    2|\n",
            "| LAS|   12|\n",
            "| FLL|    3|\n",
            "| COS|    5|\n",
            "| SIT|    6|\n",
            "| BOS|   10|\n",
            "| SBA|    9|\n",
            "| LIH|   12|\n",
            "+----+-----+\n",
            "only showing top 20 rows\n",
            "\n"
          ]
        }
      ],
      "source": [
        "#Get Unique Rows in PySpark based on mutliple columns\n",
        "df.select('dest','month').distinct().show()"
      ]
    },
    {
      "cell_type": "markdown",
      "metadata": {
        "id": "-069UYUwIIYI"
      },
      "source": [
        "<a id='sorting-rows'></a>\n",
        "### Sorting Rows"
      ]
    },
    {
      "cell_type": "code",
      "execution_count": 39,
      "metadata": {
        "colab": {
          "base_uri": "https://localhost:8080/"
        },
        "id": "4ZpeJvz0nkBI",
        "outputId": "55be6f55-d552-48fe-eaaf-0219466dddbf"
      },
      "outputs": [
        {
          "output_type": "stream",
          "name": "stdout",
          "text": [
            "+----+-----+---+--------+---------+--------+---------+-------+-------+------+------+----+--------+--------+----+------+---------+\n",
            "|year|month|day|dep_time|dep_delay|arr_time|arr_delay|carrier|tailnum|flight|origin|dest|air_time|distance|hour|minute|car_model|\n",
            "+----+-----+---+--------+---------+--------+---------+-------+-------+------+------+----+--------+--------+----+------+---------+\n",
            "|2014|12   |8  |658     |-7       |935     |-5       |VX     |N846VA |1780  |SEA   |LAX |132     |954     |6   |58    |VX 1780  |\n",
            "|2014|1    |22 |1040    |5        |1505    |5        |AS     |N559AS |851   |SEA   |HNL |360     |2677    |10  |40    |AS 851   |\n",
            "|2014|3    |9  |1443    |-2       |1652    |2        |VX     |N847VA |755   |SEA   |SFO |111     |679     |14  |43    |VX 755   |\n",
            "|2014|4    |9  |1705    |45       |1839    |34       |WN     |N360SW |344   |PDX   |SJC |83      |569     |17  |5     |WN 344   |\n",
            "|2014|3    |9  |754     |-1       |1015    |1        |AS     |N612AS |522   |SEA   |BUR |127     |937     |7   |54    |AS 522   |\n",
            "|2014|1    |15 |1037    |7        |1352    |2        |WN     |N646SW |48    |PDX   |DEN |121     |991     |10  |37    |WN 48    |\n",
            "|2014|7    |2  |847     |42       |1041    |51       |WN     |N422WN |1520  |PDX   |OAK |90      |543     |8   |47    |WN 1520  |\n",
            "|2014|5    |12 |1655    |-5       |1842    |-18      |VX     |N361VA |755   |SEA   |SFO |98      |679     |16  |55    |VX 755   |\n",
            "|2014|4    |19 |1236    |-4       |1508    |-7       |AS     |N309AS |490   |SEA   |SAN |135     |1050    |12  |36    |AS 490   |\n",
            "|2014|11   |19 |1812    |-3       |2352    |-4       |AS     |N564AS |26    |SEA   |ORD |198     |1721    |18  |12    |AS 26    |\n",
            "|2014|11   |8  |1653    |-2       |1924    |-1       |AS     |N323AS |448   |SEA   |LAX |130     |954     |16  |53    |AS 448   |\n",
            "|2014|8    |3  |1120    |0        |1415    |2        |AS     |N305AS |656   |SEA   |PHX |154     |1107    |11  |20    |AS 656   |\n",
            "|2014|10   |30 |811     |21       |1038    |29       |AS     |N433AS |608   |SEA   |LAS |127     |867     |8   |11    |AS 608   |\n",
            "|2014|11   |12 |2346    |-4       |217     |-28      |AS     |N765AS |121   |SEA   |ANC |183     |1448    |23  |46    |AS 121   |\n",
            "|2014|10   |31 |1314    |89       |1544    |111      |AS     |N713AS |306   |SEA   |SFO |129     |679     |13  |14    |AS 306   |\n",
            "|2014|1    |29 |2009    |3        |2159    |9        |UA     |N27205 |1458  |PDX   |SFO |90      |550     |20  |9     |UA 1458  |\n",
            "|2014|12   |17 |2015    |50       |2150    |41       |AS     |N626AS |368   |SEA   |SMF |76      |605     |20  |15    |AS 368   |\n",
            "|2014|8    |11 |1017    |-3       |1613    |-7       |WN     |N8634A |827   |SEA   |MDW |216     |1733    |10  |17    |WN 827   |\n",
            "|2014|1    |13 |2156    |-9       |607     |-15      |AS     |N597AS |24    |SEA   |BOS |290     |2496    |21  |56    |AS 24    |\n",
            "|2014|6    |5  |1733    |-12      |1945    |-10      |OO     |N215AG |3488  |PDX   |BUR |111     |817     |17  |33    |OO 3488  |\n",
            "+----+-----+---+--------+---------+--------+---------+-------+-------+------+------+----+--------+--------+----+------+---------+\n",
            "only showing top 20 rows\n",
            "\n"
          ]
        }
      ],
      "source": [
        "# Sort Rows in PySpark\n",
        "# By default the data will be sorted in ascending order\n",
        "df.orderBy('year').show(truncate=False) "
      ]
    },
    {
      "cell_type": "code",
      "execution_count": 40,
      "metadata": {
        "colab": {
          "base_uri": "https://localhost:8080/"
        },
        "id": "v1CEwofMJV-D",
        "outputId": "1216f2de-546f-4a31-c113-9112aefa34cf"
      },
      "outputs": [
        {
          "output_type": "stream",
          "name": "stdout",
          "text": [
            "+----+-----+---+--------+---------+--------+---------+-------+-------+------+------+----+--------+--------+----+------+---------+\n",
            "|year|month|day|dep_time|dep_delay|arr_time|arr_delay|carrier|tailnum|flight|origin|dest|air_time|distance|hour|minute|car_model|\n",
            "+----+-----+---+--------+---------+--------+---------+-------+-------+------+------+----+--------+--------+----+------+---------+\n",
            "|2014|8    |19 |1057    |-3       |1356    |1        |AS     |N402AS |648   |SEA   |TUS |156     |1216    |10  |57    |AS 648   |\n",
            "|2014|3    |18 |1215    |-2       |1501    |-4       |AS     |N317AS |658   |SEA   |TUS |146     |1216    |12  |15    |AS 658   |\n",
            "|2014|9    |9  |1041    |-4       |1324    |-14      |AS     |N568AS |648   |SEA   |TUS |146     |1216    |10  |41    |AS 648   |\n",
            "|2014|9    |1  |1041    |-4       |1328    |-10      |AS     |N512AS |648   |SEA   |TUS |147     |1216    |10  |41    |AS 648   |\n",
            "|2014|8    |18 |1057    |-3       |1351    |-4       |AS     |N516AS |648   |SEA   |TUS |158     |1216    |10  |57    |AS 648   |\n",
            "|2014|3    |27 |1231    |14       |1512    |7        |AS     |N440AS |658   |SEA   |TUS |148     |1216    |12  |31    |AS 658   |\n",
            "|2014|5    |16 |902     |-13      |1131    |-34      |OO     |N217AG |3466  |PDX   |TUS |131     |1119    |9   |2     |OO 3466  |\n",
            "|2014|7    |22 |1104    |4        |1402    |7        |AS     |N461AS |648   |SEA   |TUS |158     |1216    |11  |4     |AS 648   |\n",
            "|2014|5    |31 |903     |-12      |1139    |-26      |OO     |N224AG |3466  |PDX   |TUS |137     |1119    |9   |3     |OO 3466  |\n",
            "|2014|8    |19 |944     |9        |1227    |2        |OO     |N224AG |3466  |PDX   |TUS |146     |1119    |9   |44    |OO 3466  |\n",
            "|2014|4    |26 |905     |-10      |1133    |-32      |OO     |N216AG |3466  |PDX   |TUS |131     |1119    |9   |5     |OO 3466  |\n",
            "|2014|11   |21 |1012    |-3       |1402    |-3       |AS     |N586AS |648   |SEA   |TUS |139     |1216    |10  |12    |AS 648   |\n",
            "|2014|4    |13 |1214    |-3       |1448    |-16      |AS     |N532AS |658   |SEA   |TUS |142     |1216    |12  |14    |AS 658   |\n",
            "|2014|3    |29 |1346    |89       |1635    |90       |AS     |N423AS |658   |SEA   |TUS |153     |1216    |13  |46    |AS 658   |\n",
            "|2014|7    |20 |927     |-8       |1210    |-15      |OO     |N224AG |3466  |PDX   |TUS |146     |1119    |9   |27    |OO 3466  |\n",
            "|2014|11   |11 |1016    |1        |1358    |-7       |AS     |N319AS |648   |SEA   |TUS |141     |1216    |10  |16    |AS 648   |\n",
            "|2014|8    |5  |1057    |-3       |1349    |-6       |AS     |N534AS |648   |SEA   |TUS |154     |1216    |10  |57    |AS 648   |\n",
            "|2014|7    |26 |1058    |-2       |1407    |12       |AS     |N315AS |648   |SEA   |TUS |174     |1216    |10  |58    |AS 648   |\n",
            "|2014|4    |12 |1212    |-5       |1458    |-6       |AS     |N409AS |658   |SEA   |TUS |150     |1216    |12  |12    |AS 658   |\n",
            "|2014|6    |18 |1101    |1        |1339    |-14      |AS     |N517AS |648   |SEA   |TUS |143     |1216    |11  |1     |AS 648   |\n",
            "+----+-----+---+--------+---------+--------+---------+-------+-------+------+------+----+--------+--------+----+------+---------+\n",
            "only showing top 20 rows\n",
            "\n"
          ]
        }
      ],
      "source": [
        "# To change the sorting order, you can use the ascending parameter\n",
        "df.orderBy('dest', ascending=False).show(truncate=False) "
      ]
    },
    {
      "cell_type": "code",
      "execution_count": 41,
      "metadata": {
        "colab": {
          "base_uri": "https://localhost:8080/"
        },
        "id": "Zx3W4aeL5A4O",
        "outputId": "536a7574-025d-425e-9309-34ad528dd6c9"
      },
      "outputs": [
        {
          "output_type": "stream",
          "name": "stdout",
          "text": [
            "+-------+-----+\n",
            "|carrier|count|\n",
            "+-------+-----+\n",
            "|     WN| 1394|\n",
            "|     VX|  186|\n",
            "|     US|  367|\n",
            "|     UA| 1051|\n",
            "|     OO| 1186|\n",
            "|     HA|   73|\n",
            "|     F9|  181|\n",
            "|     DL| 1082|\n",
            "|     B6|  214|\n",
            "|     AS| 3784|\n",
            "+-------+-----+\n",
            "only showing top 10 rows\n",
            "\n"
          ]
        }
      ],
      "source": [
        "# Using groupBy aand orderBy together\n",
        "df.groupBy(\"carrier\").count().orderBy('carrier', ascending=False).show(10)"
      ]
    },
    {
      "cell_type": "code",
      "source": [
        "df.show()"
      ],
      "metadata": {
        "colab": {
          "base_uri": "https://localhost:8080/"
        },
        "id": "_yTcV--wSbxS",
        "outputId": "01be0098-3e03-4fe9-f961-210ff80cd6a0"
      },
      "execution_count": 42,
      "outputs": [
        {
          "output_type": "stream",
          "name": "stdout",
          "text": [
            "+----+-----+---+--------+---------+--------+---------+-------+-------+------+------+----+--------+--------+----+------+---------+\n",
            "|year|month|day|dep_time|dep_delay|arr_time|arr_delay|carrier|tailnum|flight|origin|dest|air_time|distance|hour|minute|car_model|\n",
            "+----+-----+---+--------+---------+--------+---------+-------+-------+------+------+----+--------+--------+----+------+---------+\n",
            "|2014|   12|  8|     658|       -7|     935|       -5|     VX| N846VA|  1780|   SEA| LAX|     132|     954|   6|    58|  VX 1780|\n",
            "|2014|    1| 22|    1040|        5|    1505|        5|     AS| N559AS|   851|   SEA| HNL|     360|    2677|  10|    40|   AS 851|\n",
            "|2014|    3|  9|    1443|       -2|    1652|        2|     VX| N847VA|   755|   SEA| SFO|     111|     679|  14|    43|   VX 755|\n",
            "|2014|    4|  9|    1705|       45|    1839|       34|     WN| N360SW|   344|   PDX| SJC|      83|     569|  17|     5|   WN 344|\n",
            "|2014|    3|  9|     754|       -1|    1015|        1|     AS| N612AS|   522|   SEA| BUR|     127|     937|   7|    54|   AS 522|\n",
            "|2014|    1| 15|    1037|        7|    1352|        2|     WN| N646SW|    48|   PDX| DEN|     121|     991|  10|    37|    WN 48|\n",
            "|2014|    7|  2|     847|       42|    1041|       51|     WN| N422WN|  1520|   PDX| OAK|      90|     543|   8|    47|  WN 1520|\n",
            "|2014|    5| 12|    1655|       -5|    1842|      -18|     VX| N361VA|   755|   SEA| SFO|      98|     679|  16|    55|   VX 755|\n",
            "|2014|    4| 19|    1236|       -4|    1508|       -7|     AS| N309AS|   490|   SEA| SAN|     135|    1050|  12|    36|   AS 490|\n",
            "|2014|   11| 19|    1812|       -3|    2352|       -4|     AS| N564AS|    26|   SEA| ORD|     198|    1721|  18|    12|    AS 26|\n",
            "|2014|   11|  8|    1653|       -2|    1924|       -1|     AS| N323AS|   448|   SEA| LAX|     130|     954|  16|    53|   AS 448|\n",
            "|2014|    8|  3|    1120|        0|    1415|        2|     AS| N305AS|   656|   SEA| PHX|     154|    1107|  11|    20|   AS 656|\n",
            "|2014|   10| 30|     811|       21|    1038|       29|     AS| N433AS|   608|   SEA| LAS|     127|     867|   8|    11|   AS 608|\n",
            "|2014|   11| 12|    2346|       -4|     217|      -28|     AS| N765AS|   121|   SEA| ANC|     183|    1448|  23|    46|   AS 121|\n",
            "|2014|   10| 31|    1314|       89|    1544|      111|     AS| N713AS|   306|   SEA| SFO|     129|     679|  13|    14|   AS 306|\n",
            "|2014|    1| 29|    2009|        3|    2159|        9|     UA| N27205|  1458|   PDX| SFO|      90|     550|  20|     9|  UA 1458|\n",
            "|2014|   12| 17|    2015|       50|    2150|       41|     AS| N626AS|   368|   SEA| SMF|      76|     605|  20|    15|   AS 368|\n",
            "|2014|    8| 11|    1017|       -3|    1613|       -7|     WN| N8634A|   827|   SEA| MDW|     216|    1733|  10|    17|   WN 827|\n",
            "|2014|    1| 13|    2156|       -9|     607|      -15|     AS| N597AS|    24|   SEA| BOS|     290|    2496|  21|    56|    AS 24|\n",
            "|2014|    6|  5|    1733|      -12|    1945|      -10|     OO| N215AG|  3488|   PDX| BUR|     111|     817|  17|    33|  OO 3488|\n",
            "+----+-----+---+--------+---------+--------+---------+-------+-------+------+------+----+--------+--------+----+------+---------+\n",
            "only showing top 20 rows\n",
            "\n"
          ]
        }
      ]
    },
    {
      "cell_type": "markdown",
      "metadata": {
        "id": "aN0-A_JsIX-X"
      },
      "source": [
        "<a id='union-dataframes'></a>\n",
        "### Union Dataframes"
      ]
    },
    {
      "cell_type": "markdown",
      "metadata": {
        "id": "VH0KOaBrJt6v"
      },
      "source": [
        "You will see three main methods for performing union of dataframes. It is important to know the difference between them and which one is preferred:\n",
        "\n",
        "*   `union()` – It is used to merge two DataFrames of the same structure/schema. If schemas are not the same, it returns an error\n",
        "*   `unionAll()` – This function is deprecated since Spark 2.0.0, and replaced with union()\n",
        "*   `unionByName()` - This function is used to merge two dataframes based on column name.\n",
        "\n",
        "> Since `unionAll()` is deprecated, **`union()` is the preferred method for merging dataframes.**\n",
        "<br>\n",
        "> The difference between `unionByName()` and `union()` is that `unionByName()` resolves columns by name, not by position.\n",
        "\n",
        "In other SQLs, Union eliminates the duplicates but UnionAll merges two datasets, thereby including duplicate records. But, in PySpark, both behave the same and includes duplicate records. The recommendation is to use `distinct()` or `dropDuplicates()` to remove duplicate records."
      ]
    },
    {
      "cell_type": "code",
      "execution_count": 43,
      "metadata": {
        "colab": {
          "base_uri": "https://localhost:8080/"
        },
        "id": "bCZIzfYmnx--",
        "outputId": "492f10f1-3b62-4a96-896b-d95ddcd28be6"
      },
      "outputs": [
        {
          "output_type": "stream",
          "name": "stdout",
          "text": [
            "Arrived at LAX in 2015: 0\n",
            "Departed from SEA in 2015: 0\n",
            "Departed from SEA + arrived at LAX in 2015: 0\n"
          ]
        }
      ],
      "source": [
        "# CASE 1: Union When columns are in order\n",
        "df = spark.read.csv('flights_small.csv', header=True, sep=\",\", inferSchema=True)\n",
        "europe_cars = df.filter((col('dest')=='LAX') & (col('year')==2015))\n",
        "japan_cars = df.filter((col('origin')=='SEA') & (col('year')==2015))\n",
        "print(\"Arrived at LAX in 2015: \"+str(europe_cars.count()))\n",
        "print(\"Departed from SEA in 2015: \"+str(japan_cars.count()))\n",
        "print(\"Departed from SEA + arrived at LAX in 2015: \"+str(europe_cars.union(japan_cars).count()))"
      ]
    },
    {
      "cell_type": "markdown",
      "metadata": {
        "id": "1pfPzVOFqC_8"
      },
      "source": [
        "**Result:**\n",
        "\n",
        "> As you can see here, there were 3 cars from Europe with 5 Cylinders, and 4 cars from Japan with 3 Cylinders. After union, there are 7 cars in total.\n",
        "\n"
      ]
    },
    {
      "cell_type": "code",
      "execution_count": 44,
      "metadata": {
        "colab": {
          "base_uri": "https://localhost:8080/"
        },
        "id": "CjWjzWBoMxx0",
        "outputId": "ca61a8de-e0fc-4c3f-b537-2e7a4e1afb40"
      },
      "outputs": [
        {
          "output_type": "stream",
          "name": "stdout",
          "text": [
            "+----+----+----+\n",
            "|col0|col1|col2|\n",
            "+----+----+----+\n",
            "|   1|   2|   3|\n",
            "|   6|   4|   5|\n",
            "+----+----+----+\n",
            "\n"
          ]
        }
      ],
      "source": [
        "# CASE 1: Union When columns are not in order\n",
        "# Creating two dataframes with jumbled columns\n",
        "df1 = spark.createDataFrame([[1, 2, 3]], [\"col0\", \"col1\", \"col2\"])\n",
        "df2 = spark.createDataFrame([[4, 5, 6]], [\"col1\", \"col2\", \"col0\"])\n",
        "df1.unionByName(df2).show()"
      ]
    },
    {
      "cell_type": "markdown",
      "metadata": {
        "id": "EX33t8e3PyGy"
      },
      "source": [
        "**Result:**\n",
        "\n",
        "> As you can see here, the two dataframes have been successfully merged based on their column names.\n",
        "\n"
      ]
    },
    {
      "cell_type": "markdown",
      "metadata": {
        "id": "aHjILb1DriuX"
      },
      "source": [
        "<a id='common-data-manipulation-functions'></a>\n",
        "## Common Data Manipulation Functions"
      ]
    },
    {
      "cell_type": "code",
      "execution_count": 45,
      "metadata": {
        "colab": {
          "base_uri": "https://localhost:8080/"
        },
        "id": "x3vlC7ZerlKb",
        "outputId": "082950a2-45f1-4d37-e0fd-005cf4228d9b"
      },
      "outputs": [
        {
          "output_type": "stream",
          "name": "stdout",
          "text": [
            "['Column', 'DataFrame', 'DataType', 'PandasUDFType', 'PythonEvalType', 'SparkContext', 'StringType', 'UserDefinedFunction', '__builtins__', '__cached__', '__doc__', '__file__', '__loader__', '__name__', '__package__', '__spec__', '_create_column_from_literal', '_create_lambda', '_create_udf', '_get_get_jvm_function', '_get_lambda_parameters', '_invoke_binary_math_function', '_invoke_function', '_invoke_function_over_column', '_invoke_higher_order_function', '_options_to_str', '_test', '_to_java_column', '_to_seq', '_unresolved_named_lambda_variable', 'abs', 'acos', 'acosh', 'add_months', 'aggregate', 'approxCountDistinct', 'approx_count_distinct', 'array', 'array_contains', 'array_distinct', 'array_except', 'array_intersect', 'array_join', 'array_max', 'array_min', 'array_position', 'array_remove', 'array_repeat', 'array_sort', 'array_union', 'arrays_overlap', 'arrays_zip', 'asc', 'asc_nulls_first', 'asc_nulls_last', 'ascii', 'asin', 'asinh', 'assert_true', 'atan', 'atan2', 'atanh', 'avg', 'base64', 'bin', 'bitwiseNOT', 'broadcast', 'bround', 'bucket', 'cbrt', 'ceil', 'coalesce', 'col', 'collect_list', 'collect_set', 'column', 'concat', 'concat_ws', 'conv', 'corr', 'cos', 'cosh', 'count', 'countDistinct', 'covar_pop', 'covar_samp', 'crc32', 'create_map', 'cume_dist', 'current_date', 'current_timestamp', 'date_add', 'date_format', 'date_sub', 'date_trunc', 'datediff', 'dayofmonth', 'dayofweek', 'dayofyear', 'days', 'decode', 'degrees', 'dense_rank', 'desc', 'desc_nulls_first', 'desc_nulls_last', 'element_at', 'encode', 'exists', 'exp', 'explode', 'explode_outer', 'expm1', 'expr', 'factorial', 'filter', 'first', 'flatten', 'floor', 'forall', 'format_number', 'format_string', 'from_csv', 'from_json', 'from_unixtime', 'from_utc_timestamp', 'functools', 'get_json_object', 'greatest', 'grouping', 'grouping_id', 'hash', 'hex', 'hour', 'hours', 'hypot', 'initcap', 'input_file_name', 'instr', 'isnan', 'isnull', 'json_tuple', 'kurtosis', 'lag', 'last', 'last_day', 'lead', 'least', 'length', 'levenshtein', 'lit', 'locate', 'log', 'log10', 'log1p', 'log2', 'lower', 'lpad', 'ltrim', 'map_concat', 'map_entries', 'map_filter', 'map_from_arrays', 'map_from_entries', 'map_keys', 'map_values', 'map_zip_with', 'max', 'md5', 'mean', 'min', 'minute', 'monotonically_increasing_id', 'month', 'months', 'months_between', 'nanvl', 'next_day', 'nth_value', 'ntile', 'overlay', 'pandas_udf', 'percent_rank', 'percentile_approx', 'posexplode', 'posexplode_outer', 'pow', 'quarter', 'radians', 'raise_error', 'rand', 'randn', 'rank', 'regexp_extract', 'regexp_replace', 'repeat', 'reverse', 'rint', 'round', 'row_number', 'rpad', 'rtrim', 'schema_of_csv', 'schema_of_json', 'second', 'sequence', 'sha1', 'sha2', 'shiftLeft', 'shiftRight', 'shiftRightUnsigned', 'shuffle', 'signum', 'sin', 'since', 'sinh', 'size', 'skewness', 'slice', 'sort_array', 'soundex', 'spark_partition_id', 'split', 'sqrt', 'stddev', 'stddev_pop', 'stddev_samp', 'struct', 'substring', 'substring_index', 'sum', 'sumDistinct', 'sys', 'tan', 'tanh', 'timestamp_seconds', 'toDegrees', 'toRadians', 'to_csv', 'to_date', 'to_json', 'to_str', 'to_timestamp', 'to_utc_timestamp', 'transform', 'transform_keys', 'transform_values', 'translate', 'trim', 'trunc', 'udf', 'unbase64', 'unhex', 'unix_timestamp', 'upper', 'var_pop', 'var_samp', 'variance', 'warnings', 'weekofyear', 'when', 'window', 'xxhash64', 'year', 'years', 'zip_with']\n"
          ]
        }
      ],
      "source": [
        "# Functions available in PySpark\n",
        "from pyspark.sql import functions\n",
        "# Similar to python, we can use the dir function to view the avaiable functions\n",
        "print(dir(functions)) "
      ]
    },
    {
      "cell_type": "markdown",
      "metadata": {
        "id": "PIKigra7A34e"
      },
      "source": [
        "<a id='string-functions'></a>\n",
        "### String Functions"
      ]
    },
    {
      "cell_type": "code",
      "source": [
        "import pandas as pd\n",
        "pd.read_csv('flights_small.csv')"
      ],
      "metadata": {
        "colab": {
          "base_uri": "https://localhost:8080/",
          "height": 488
        },
        "id": "VWhZcHoITcya",
        "outputId": "276b40ba-3ce0-406b-e8b5-027d7f8ae4ac"
      },
      "execution_count": 46,
      "outputs": [
        {
          "output_type": "execute_result",
          "data": {
            "text/plain": [
              "      year  month  day  dep_time  dep_delay  arr_time  arr_delay carrier  \\\n",
              "0     2014     12    8     658.0       -7.0     935.0       -5.0      VX   \n",
              "1     2014      1   22    1040.0        5.0    1505.0        5.0      AS   \n",
              "2     2014      3    9    1443.0       -2.0    1652.0        2.0      VX   \n",
              "3     2014      4    9    1705.0       45.0    1839.0       34.0      WN   \n",
              "4     2014      3    9     754.0       -1.0    1015.0        1.0      AS   \n",
              "...    ...    ...  ...       ...        ...       ...        ...     ...   \n",
              "9995  2014      6   23    1806.0       -4.0    2104.0       -6.0      OO   \n",
              "9996  2014      8   31    2336.0       11.0     452.0      -13.0      AA   \n",
              "9997  2014      8    8     904.0       -1.0    1042.0       -5.0      AS   \n",
              "9998  2014      8   29    1441.0       26.0    1820.0       10.0      WN   \n",
              "9999  2014      7   13    1702.0       -3.0    1950.0      -10.0      DL   \n",
              "\n",
              "     tailnum  flight origin dest  air_time  distance  hour  minute  \n",
              "0     N846VA    1780    SEA  LAX     132.0       954   6.0    58.0  \n",
              "1     N559AS     851    SEA  HNL     360.0      2677  10.0    40.0  \n",
              "2     N847VA     755    SEA  SFO     111.0       679  14.0    43.0  \n",
              "3     N360SW     344    PDX  SJC      83.0       569  17.0     5.0  \n",
              "4     N612AS     522    SEA  BUR     127.0       937   7.0    54.0  \n",
              "...      ...     ...    ...  ...       ...       ...   ...     ...  \n",
              "9995  N225AG    3458    SEA  SLC      89.0       689  18.0     6.0  \n",
              "9996  N3LEAA    1230    SEA  DFW     178.0      1660  23.0    36.0  \n",
              "9997  N523AS     360    SEA  SMF      81.0       605   9.0     4.0  \n",
              "9998  N8647A    2857    SEA  ABQ     133.0      1180  14.0    41.0  \n",
              "9999  N583NW    2237    SEA  HNL     332.0      2677  17.0     2.0  \n",
              "\n",
              "[10000 rows x 16 columns]"
            ],
            "text/html": [
              "\n",
              "  <div id=\"df-92854d1a-80cf-4c7a-9f35-1df72c0631fe\">\n",
              "    <div class=\"colab-df-container\">\n",
              "      <div>\n",
              "<style scoped>\n",
              "    .dataframe tbody tr th:only-of-type {\n",
              "        vertical-align: middle;\n",
              "    }\n",
              "\n",
              "    .dataframe tbody tr th {\n",
              "        vertical-align: top;\n",
              "    }\n",
              "\n",
              "    .dataframe thead th {\n",
              "        text-align: right;\n",
              "    }\n",
              "</style>\n",
              "<table border=\"1\" class=\"dataframe\">\n",
              "  <thead>\n",
              "    <tr style=\"text-align: right;\">\n",
              "      <th></th>\n",
              "      <th>year</th>\n",
              "      <th>month</th>\n",
              "      <th>day</th>\n",
              "      <th>dep_time</th>\n",
              "      <th>dep_delay</th>\n",
              "      <th>arr_time</th>\n",
              "      <th>arr_delay</th>\n",
              "      <th>carrier</th>\n",
              "      <th>tailnum</th>\n",
              "      <th>flight</th>\n",
              "      <th>origin</th>\n",
              "      <th>dest</th>\n",
              "      <th>air_time</th>\n",
              "      <th>distance</th>\n",
              "      <th>hour</th>\n",
              "      <th>minute</th>\n",
              "    </tr>\n",
              "  </thead>\n",
              "  <tbody>\n",
              "    <tr>\n",
              "      <th>0</th>\n",
              "      <td>2014</td>\n",
              "      <td>12</td>\n",
              "      <td>8</td>\n",
              "      <td>658.0</td>\n",
              "      <td>-7.0</td>\n",
              "      <td>935.0</td>\n",
              "      <td>-5.0</td>\n",
              "      <td>VX</td>\n",
              "      <td>N846VA</td>\n",
              "      <td>1780</td>\n",
              "      <td>SEA</td>\n",
              "      <td>LAX</td>\n",
              "      <td>132.0</td>\n",
              "      <td>954</td>\n",
              "      <td>6.0</td>\n",
              "      <td>58.0</td>\n",
              "    </tr>\n",
              "    <tr>\n",
              "      <th>1</th>\n",
              "      <td>2014</td>\n",
              "      <td>1</td>\n",
              "      <td>22</td>\n",
              "      <td>1040.0</td>\n",
              "      <td>5.0</td>\n",
              "      <td>1505.0</td>\n",
              "      <td>5.0</td>\n",
              "      <td>AS</td>\n",
              "      <td>N559AS</td>\n",
              "      <td>851</td>\n",
              "      <td>SEA</td>\n",
              "      <td>HNL</td>\n",
              "      <td>360.0</td>\n",
              "      <td>2677</td>\n",
              "      <td>10.0</td>\n",
              "      <td>40.0</td>\n",
              "    </tr>\n",
              "    <tr>\n",
              "      <th>2</th>\n",
              "      <td>2014</td>\n",
              "      <td>3</td>\n",
              "      <td>9</td>\n",
              "      <td>1443.0</td>\n",
              "      <td>-2.0</td>\n",
              "      <td>1652.0</td>\n",
              "      <td>2.0</td>\n",
              "      <td>VX</td>\n",
              "      <td>N847VA</td>\n",
              "      <td>755</td>\n",
              "      <td>SEA</td>\n",
              "      <td>SFO</td>\n",
              "      <td>111.0</td>\n",
              "      <td>679</td>\n",
              "      <td>14.0</td>\n",
              "      <td>43.0</td>\n",
              "    </tr>\n",
              "    <tr>\n",
              "      <th>3</th>\n",
              "      <td>2014</td>\n",
              "      <td>4</td>\n",
              "      <td>9</td>\n",
              "      <td>1705.0</td>\n",
              "      <td>45.0</td>\n",
              "      <td>1839.0</td>\n",
              "      <td>34.0</td>\n",
              "      <td>WN</td>\n",
              "      <td>N360SW</td>\n",
              "      <td>344</td>\n",
              "      <td>PDX</td>\n",
              "      <td>SJC</td>\n",
              "      <td>83.0</td>\n",
              "      <td>569</td>\n",
              "      <td>17.0</td>\n",
              "      <td>5.0</td>\n",
              "    </tr>\n",
              "    <tr>\n",
              "      <th>4</th>\n",
              "      <td>2014</td>\n",
              "      <td>3</td>\n",
              "      <td>9</td>\n",
              "      <td>754.0</td>\n",
              "      <td>-1.0</td>\n",
              "      <td>1015.0</td>\n",
              "      <td>1.0</td>\n",
              "      <td>AS</td>\n",
              "      <td>N612AS</td>\n",
              "      <td>522</td>\n",
              "      <td>SEA</td>\n",
              "      <td>BUR</td>\n",
              "      <td>127.0</td>\n",
              "      <td>937</td>\n",
              "      <td>7.0</td>\n",
              "      <td>54.0</td>\n",
              "    </tr>\n",
              "    <tr>\n",
              "      <th>...</th>\n",
              "      <td>...</td>\n",
              "      <td>...</td>\n",
              "      <td>...</td>\n",
              "      <td>...</td>\n",
              "      <td>...</td>\n",
              "      <td>...</td>\n",
              "      <td>...</td>\n",
              "      <td>...</td>\n",
              "      <td>...</td>\n",
              "      <td>...</td>\n",
              "      <td>...</td>\n",
              "      <td>...</td>\n",
              "      <td>...</td>\n",
              "      <td>...</td>\n",
              "      <td>...</td>\n",
              "      <td>...</td>\n",
              "    </tr>\n",
              "    <tr>\n",
              "      <th>9995</th>\n",
              "      <td>2014</td>\n",
              "      <td>6</td>\n",
              "      <td>23</td>\n",
              "      <td>1806.0</td>\n",
              "      <td>-4.0</td>\n",
              "      <td>2104.0</td>\n",
              "      <td>-6.0</td>\n",
              "      <td>OO</td>\n",
              "      <td>N225AG</td>\n",
              "      <td>3458</td>\n",
              "      <td>SEA</td>\n",
              "      <td>SLC</td>\n",
              "      <td>89.0</td>\n",
              "      <td>689</td>\n",
              "      <td>18.0</td>\n",
              "      <td>6.0</td>\n",
              "    </tr>\n",
              "    <tr>\n",
              "      <th>9996</th>\n",
              "      <td>2014</td>\n",
              "      <td>8</td>\n",
              "      <td>31</td>\n",
              "      <td>2336.0</td>\n",
              "      <td>11.0</td>\n",
              "      <td>452.0</td>\n",
              "      <td>-13.0</td>\n",
              "      <td>AA</td>\n",
              "      <td>N3LEAA</td>\n",
              "      <td>1230</td>\n",
              "      <td>SEA</td>\n",
              "      <td>DFW</td>\n",
              "      <td>178.0</td>\n",
              "      <td>1660</td>\n",
              "      <td>23.0</td>\n",
              "      <td>36.0</td>\n",
              "    </tr>\n",
              "    <tr>\n",
              "      <th>9997</th>\n",
              "      <td>2014</td>\n",
              "      <td>8</td>\n",
              "      <td>8</td>\n",
              "      <td>904.0</td>\n",
              "      <td>-1.0</td>\n",
              "      <td>1042.0</td>\n",
              "      <td>-5.0</td>\n",
              "      <td>AS</td>\n",
              "      <td>N523AS</td>\n",
              "      <td>360</td>\n",
              "      <td>SEA</td>\n",
              "      <td>SMF</td>\n",
              "      <td>81.0</td>\n",
              "      <td>605</td>\n",
              "      <td>9.0</td>\n",
              "      <td>4.0</td>\n",
              "    </tr>\n",
              "    <tr>\n",
              "      <th>9998</th>\n",
              "      <td>2014</td>\n",
              "      <td>8</td>\n",
              "      <td>29</td>\n",
              "      <td>1441.0</td>\n",
              "      <td>26.0</td>\n",
              "      <td>1820.0</td>\n",
              "      <td>10.0</td>\n",
              "      <td>WN</td>\n",
              "      <td>N8647A</td>\n",
              "      <td>2857</td>\n",
              "      <td>SEA</td>\n",
              "      <td>ABQ</td>\n",
              "      <td>133.0</td>\n",
              "      <td>1180</td>\n",
              "      <td>14.0</td>\n",
              "      <td>41.0</td>\n",
              "    </tr>\n",
              "    <tr>\n",
              "      <th>9999</th>\n",
              "      <td>2014</td>\n",
              "      <td>7</td>\n",
              "      <td>13</td>\n",
              "      <td>1702.0</td>\n",
              "      <td>-3.0</td>\n",
              "      <td>1950.0</td>\n",
              "      <td>-10.0</td>\n",
              "      <td>DL</td>\n",
              "      <td>N583NW</td>\n",
              "      <td>2237</td>\n",
              "      <td>SEA</td>\n",
              "      <td>HNL</td>\n",
              "      <td>332.0</td>\n",
              "      <td>2677</td>\n",
              "      <td>17.0</td>\n",
              "      <td>2.0</td>\n",
              "    </tr>\n",
              "  </tbody>\n",
              "</table>\n",
              "<p>10000 rows × 16 columns</p>\n",
              "</div>\n",
              "      <button class=\"colab-df-convert\" onclick=\"convertToInteractive('df-92854d1a-80cf-4c7a-9f35-1df72c0631fe')\"\n",
              "              title=\"Convert this dataframe to an interactive table.\"\n",
              "              style=\"display:none;\">\n",
              "        \n",
              "  <svg xmlns=\"http://www.w3.org/2000/svg\" height=\"24px\"viewBox=\"0 0 24 24\"\n",
              "       width=\"24px\">\n",
              "    <path d=\"M0 0h24v24H0V0z\" fill=\"none\"/>\n",
              "    <path d=\"M18.56 5.44l.94 2.06.94-2.06 2.06-.94-2.06-.94-.94-2.06-.94 2.06-2.06.94zm-11 1L8.5 8.5l.94-2.06 2.06-.94-2.06-.94L8.5 2.5l-.94 2.06-2.06.94zm10 10l.94 2.06.94-2.06 2.06-.94-2.06-.94-.94-2.06-.94 2.06-2.06.94z\"/><path d=\"M17.41 7.96l-1.37-1.37c-.4-.4-.92-.59-1.43-.59-.52 0-1.04.2-1.43.59L10.3 9.45l-7.72 7.72c-.78.78-.78 2.05 0 2.83L4 21.41c.39.39.9.59 1.41.59.51 0 1.02-.2 1.41-.59l7.78-7.78 2.81-2.81c.8-.78.8-2.07 0-2.86zM5.41 20L4 18.59l7.72-7.72 1.47 1.35L5.41 20z\"/>\n",
              "  </svg>\n",
              "      </button>\n",
              "      \n",
              "  <style>\n",
              "    .colab-df-container {\n",
              "      display:flex;\n",
              "      flex-wrap:wrap;\n",
              "      gap: 12px;\n",
              "    }\n",
              "\n",
              "    .colab-df-convert {\n",
              "      background-color: #E8F0FE;\n",
              "      border: none;\n",
              "      border-radius: 50%;\n",
              "      cursor: pointer;\n",
              "      display: none;\n",
              "      fill: #1967D2;\n",
              "      height: 32px;\n",
              "      padding: 0 0 0 0;\n",
              "      width: 32px;\n",
              "    }\n",
              "\n",
              "    .colab-df-convert:hover {\n",
              "      background-color: #E2EBFA;\n",
              "      box-shadow: 0px 1px 2px rgba(60, 64, 67, 0.3), 0px 1px 3px 1px rgba(60, 64, 67, 0.15);\n",
              "      fill: #174EA6;\n",
              "    }\n",
              "\n",
              "    [theme=dark] .colab-df-convert {\n",
              "      background-color: #3B4455;\n",
              "      fill: #D2E3FC;\n",
              "    }\n",
              "\n",
              "    [theme=dark] .colab-df-convert:hover {\n",
              "      background-color: #434B5C;\n",
              "      box-shadow: 0px 1px 3px 1px rgba(0, 0, 0, 0.15);\n",
              "      filter: drop-shadow(0px 1px 2px rgba(0, 0, 0, 0.3));\n",
              "      fill: #FFFFFF;\n",
              "    }\n",
              "  </style>\n",
              "\n",
              "      <script>\n",
              "        const buttonEl =\n",
              "          document.querySelector('#df-92854d1a-80cf-4c7a-9f35-1df72c0631fe button.colab-df-convert');\n",
              "        buttonEl.style.display =\n",
              "          google.colab.kernel.accessAllowed ? 'block' : 'none';\n",
              "\n",
              "        async function convertToInteractive(key) {\n",
              "          const element = document.querySelector('#df-92854d1a-80cf-4c7a-9f35-1df72c0631fe');\n",
              "          const dataTable =\n",
              "            await google.colab.kernel.invokeFunction('convertToInteractive',\n",
              "                                                     [key], {});\n",
              "          if (!dataTable) return;\n",
              "\n",
              "          const docLinkHtml = 'Like what you see? Visit the ' +\n",
              "            '<a target=\"_blank\" href=https://colab.research.google.com/notebooks/data_table.ipynb>data table notebook</a>'\n",
              "            + ' to learn more about interactive tables.';\n",
              "          element.innerHTML = '';\n",
              "          dataTable['output_type'] = 'display_data';\n",
              "          await google.colab.output.renderOutput(dataTable, element);\n",
              "          const docLink = document.createElement('div');\n",
              "          docLink.innerHTML = docLinkHtml;\n",
              "          element.appendChild(docLink);\n",
              "        }\n",
              "      </script>\n",
              "    </div>\n",
              "  </div>\n",
              "  "
            ]
          },
          "metadata": {},
          "execution_count": 46
        }
      ]
    },
    {
      "cell_type": "code",
      "execution_count": 47,
      "metadata": {
        "id": "63QDccSjBqC4"
      },
      "outputs": [],
      "source": [
        "# Loading the data\n",
        "from pyspark.sql.functions import col\n",
        "df = spark.read.csv('flights_small.csv', header=True, sep=\",\", inferSchema=True)"
      ]
    },
    {
      "cell_type": "markdown",
      "metadata": {
        "id": "LiXWN8DUA9x6"
      },
      "source": [
        "**Display the Car column in exisitng, lower and upper characters, and the first 4 characters of the column**"
      ]
    },
    {
      "cell_type": "code",
      "execution_count": 48,
      "metadata": {
        "colab": {
          "base_uri": "https://localhost:8080/"
        },
        "id": "52Gh9c99BZFr",
        "outputId": "8dd8811b-718d-4d50-fafc-8b075883d903"
      },
      "outputs": [
        {
          "output_type": "stream",
          "name": "stdout",
          "text": [
            "Help on function substring in module pyspark.sql.functions:\n",
            "\n",
            "substring(str, pos, len)\n",
            "    Substring starts at `pos` and is of length `len` when str is String type or\n",
            "    returns the slice of byte array that starts at `pos` in byte and is of length `len`\n",
            "    when str is Binary type.\n",
            "    \n",
            "    .. versionadded:: 1.5.0\n",
            "    \n",
            "    Notes\n",
            "    -----\n",
            "    The position is not zero based, but 1 based index.\n",
            "    \n",
            "    Examples\n",
            "    --------\n",
            "    >>> df = spark.createDataFrame([('abcd',)], ['s',])\n",
            "    >>> df.select(substring(df.s, 1, 2).alias('s')).collect()\n",
            "    [Row(s='ab')]\n",
            "\n",
            "+----+-----------+-----------+------------------+\n",
            "|dest|lower(dest)|upper(dest)|concatenated value|\n",
            "+----+-----------+-----------+------------------+\n",
            "|LAX |lax        |LAX        |LAX               |\n",
            "|HNL |hnl        |HNL        |HNL               |\n",
            "|SFO |sfo        |SFO        |SFO               |\n",
            "|SJC |sjc        |SJC        |SJC               |\n",
            "|BUR |bur        |BUR        |BUR               |\n",
            "+----+-----------+-----------+------------------+\n",
            "only showing top 5 rows\n",
            "\n"
          ]
        }
      ],
      "source": [
        "from pyspark.sql.functions import col,lower, upper, substring\n",
        "# Prints out the details of a function\n",
        "help(substring)\n",
        "# alias is used to rename the column name in the output\n",
        "df.select(col('dest'),lower(col('dest')),upper(col('dest')),substring(col('dest'),1,4).alias(\"concatenated value\")).show(5, False)"
      ]
    },
    {
      "cell_type": "markdown",
      "metadata": {
        "id": "GZJFdTbk6rBt"
      },
      "source": [
        "**Concatenate the Car column and Model column and add a space between them.**"
      ]
    },
    {
      "cell_type": "code",
      "execution_count": 49,
      "metadata": {
        "colab": {
          "base_uri": "https://localhost:8080/"
        },
        "id": "8Lo951Cg6phi",
        "outputId": "58c9799f-eaad-4b01-842e-1d090db1fa90"
      },
      "outputs": [
        {
          "output_type": "stream",
          "name": "stdout",
          "text": [
            "+----+----+---------------------+\n",
            "|dest|year|concat(dest,  , year)|\n",
            "+----+----+---------------------+\n",
            "|LAX |2014|LAX 2014             |\n",
            "|HNL |2014|HNL 2014             |\n",
            "|SFO |2014|SFO 2014             |\n",
            "|SJC |2014|SJC 2014             |\n",
            "|BUR |2014|BUR 2014             |\n",
            "+----+----+---------------------+\n",
            "only showing top 5 rows\n",
            "\n"
          ]
        }
      ],
      "source": [
        "from pyspark.sql.functions import concat\n",
        "df.select(col(\"dest\"),col(\"year\"),concat(col(\"dest\"), lit(\" \"), col(\"year\"))).show(5, False)"
      ]
    },
    {
      "cell_type": "markdown",
      "metadata": {
        "id": "ldtA0wk9BMkT"
      },
      "source": [
        "<a id='numeric-functions'></a>\n",
        "### Numeric functions"
      ]
    },
    {
      "cell_type": "markdown",
      "metadata": {
        "id": "kmz4G5LVBOs6"
      },
      "source": [
        "**Show the oldest date and the most recent date**"
      ]
    },
    {
      "cell_type": "code",
      "execution_count": 50,
      "metadata": {
        "colab": {
          "base_uri": "https://localhost:8080/"
        },
        "id": "wBDDH-YpBbdk",
        "outputId": "f6126d0b-dfef-4e38-a66c-56ecda84a7ad"
      },
      "outputs": [
        {
          "output_type": "stream",
          "name": "stdout",
          "text": [
            "+-------------+-------------+\n",
            "|min(dep_time)|max(dep_time)|\n",
            "+-------------+-------------+\n",
            "|            1|           NA|\n",
            "+-------------+-------------+\n",
            "\n"
          ]
        }
      ],
      "source": [
        "from pyspark.sql.functions import min, max\n",
        "df.select(min(col('dep_time')), max(col('dep_time'))).show()"
      ]
    },
    {
      "cell_type": "markdown",
      "metadata": {
        "id": "MTg-Royz7Nvi"
      },
      "source": [
        "**Add 10 to the minimum and maximum weight**"
      ]
    },
    {
      "cell_type": "code",
      "execution_count": 52,
      "metadata": {
        "colab": {
          "base_uri": "https://localhost:8080/"
        },
        "id": "YeiemMsI7Vm2",
        "outputId": "5e76748f-1492-4043-c7f8-e6dc6788c85e"
      },
      "outputs": [
        {
          "output_type": "stream",
          "name": "stdout",
          "text": [
            "+--------------------+--------------------+\n",
            "|(min(dep_time) + 10)|max((dep_time + 10))|\n",
            "+--------------------+--------------------+\n",
            "|                11.0|              2410.0|\n",
            "+--------------------+--------------------+\n",
            "\n"
          ]
        }
      ],
      "source": [
        "from pyspark.sql.functions import min, max, lit\n",
        "df.select(min(col('dep_time'))+lit(10), max(col('dep_time')+lit(10))).show()"
      ]
    },
    {
      "cell_type": "markdown",
      "metadata": {
        "id": "KQ6Ul9HGCwC3"
      },
      "source": [
        "<a id='operations-on-date'></a>\n",
        "### Operations on Date"
      ]
    },
    {
      "cell_type": "markdown",
      "metadata": {
        "id": "s1jmBN2qFHyk"
      },
      "source": [
        "> [PySpark follows SimpleDateFormat table of Java. Click here to view the docs.](https://docs.oracle.com/javase/7/docs/api/java/text/SimpleDateFormat.html)"
      ]
    },
    {
      "cell_type": "code",
      "execution_count": 63,
      "metadata": {
        "colab": {
          "base_uri": "https://localhost:8080/"
        },
        "id": "sCTeI_JvDCsH",
        "outputId": "4c04cfbc-f3d1-4269-e831-010fb22db3c7"
      },
      "outputs": [
        {
          "output_type": "stream",
          "name": "stdout",
          "text": [
            "+-------------------+\n",
            "|                DOB|\n",
            "+-------------------+\n",
            "|2019-12-25 13:30:00|\n",
            "+-------------------+\n",
            "\n",
            "root\n",
            " |-- DOB: string (nullable = true)\n",
            "\n"
          ]
        }
      ],
      "source": [
        "from pyspark.sql.functions import to_date, to_timestamp, lit\n",
        "df = spark.createDataFrame([('2019-12-25 13:30:00',)], ['DOB'])\n",
        "df.show()\n",
        "df.printSchema()"
      ]
    },
    {
      "cell_type": "code",
      "execution_count": 64,
      "metadata": {
        "colab": {
          "base_uri": "https://localhost:8080/"
        },
        "id": "ZH8ja1eHEW8x",
        "outputId": "71b4afc4-ec40-4e8d-d6ff-a36cd9f26ca1"
      },
      "outputs": [
        {
          "output_type": "stream",
          "name": "stdout",
          "text": [
            "+---------------------------------+--------------------------------------+\n",
            "|to_date(DOB, yyyy-MM-dd HH:mm:ss)|to_timestamp(DOB, yyyy-MM-dd HH:mm:ss)|\n",
            "+---------------------------------+--------------------------------------+\n",
            "|                       2019-12-25|                   2019-12-25 13:30:00|\n",
            "+---------------------------------+--------------------------------------+\n",
            "\n",
            "root\n",
            " |-- to_date(DOB, yyyy-MM-dd HH:mm:ss): date (nullable = true)\n",
            " |-- to_timestamp(DOB, yyyy-MM-dd HH:mm:ss): timestamp (nullable = true)\n",
            "\n"
          ]
        }
      ],
      "source": [
        "df = spark.createDataFrame([('2019-12-25 13:30:00',)], ['DOB'])\n",
        "df = df.select(to_date(col('DOB'),'yyyy-MM-dd HH:mm:ss'), to_timestamp(col('DOB'),'yyyy-MM-dd HH:mm:ss'))\n",
        "df.show()\n",
        "df.printSchema()"
      ]
    },
    {
      "cell_type": "code",
      "execution_count": 65,
      "metadata": {
        "colab": {
          "base_uri": "https://localhost:8080/"
        },
        "id": "7g9m_8PPErI1",
        "outputId": "568ffe5a-bd6b-4ef2-c63e-5588862e2872"
      },
      "outputs": [
        {
          "output_type": "stream",
          "name": "stdout",
          "text": [
            "+----------------------------------+---------------------------------------+\n",
            "|to_date(DOB, dd/MMM/yyyy HH:mm:ss)|to_timestamp(DOB, dd/MMM/yyyy HH:mm:ss)|\n",
            "+----------------------------------+---------------------------------------+\n",
            "|                        2019-12-25|                    2019-12-25 13:30:00|\n",
            "+----------------------------------+---------------------------------------+\n",
            "\n",
            "root\n",
            " |-- to_date(DOB, dd/MMM/yyyy HH:mm:ss): date (nullable = true)\n",
            " |-- to_timestamp(DOB, dd/MMM/yyyy HH:mm:ss): timestamp (nullable = true)\n",
            "\n"
          ]
        }
      ],
      "source": [
        "df = spark.createDataFrame([('25/Dec/2019 13:30:00',)], ['DOB'])\n",
        "df = df.select(to_date(col('DOB'),'dd/MMM/yyyy HH:mm:ss'), to_timestamp(col('DOB'),'dd/MMM/yyyy HH:mm:ss'))\n",
        "df.show()\n",
        "df.printSchema()"
      ]
    },
    {
      "cell_type": "markdown",
      "metadata": {
        "id": "dIPQyQV7-Hz5"
      },
      "source": [
        "**What is 3 days earlier that the oldest date and 3 days later than the most recent date?**"
      ]
    },
    {
      "cell_type": "code",
      "execution_count": 66,
      "metadata": {
        "colab": {
          "base_uri": "https://localhost:8080/"
        },
        "id": "PUCEwQkZ-I7h",
        "outputId": "0ea3f9c7-7700-4928-9a6d-032d229d8714"
      },
      "outputs": [
        {
          "output_type": "stream",
          "name": "stdout",
          "text": [
            "+----------------------+----------------------+\n",
            "|date_add(max(Date), 3)|date_sub(min(Date), 3)|\n",
            "+----------------------+----------------------+\n",
            "|            2021-04-02|            1989-12-29|\n",
            "+----------------------+----------------------+\n",
            "\n"
          ]
        }
      ],
      "source": [
        "from pyspark.sql.functions import date_add, date_sub\n",
        "# create a dummy dataframe\n",
        "df = spark.createDataFrame([('1990-01-01',),('1995-01-03',),('2021-03-30',)], ['Date'])\n",
        "# find out the required dates\n",
        "df.select(date_add(max(col('Date')),3), date_sub(min(col('Date')),3)).show()"
      ]
    },
    {
      "cell_type": "markdown",
      "metadata": {
        "id": "7OZElEvcGOD1"
      },
      "source": [
        "<a id='joins-in-pyspark'></a>\n",
        "## Joins in PySpark"
      ]
    },
    {
      "cell_type": "code",
      "execution_count": 67,
      "metadata": {
        "colab": {
          "base_uri": "https://localhost:8080/"
        },
        "id": "UJBC7r3JFyCL",
        "outputId": "5ec123ba-8d29-4e8a-a837-9017e024920e"
      },
      "outputs": [
        {
          "output_type": "stream",
          "name": "stdout",
          "text": [
            "+---+--------------+\n",
            "| id|         Class|\n",
            "+---+--------------+\n",
            "|  1| Economy Class|\n",
            "|  2|Business Class|\n",
            "|  3|   First Class|\n",
            "+---+--------------+\n",
            "\n",
            "+---+------------+\n",
            "| id|Ticket Price|\n",
            "+---+------------+\n",
            "|  1|        1000|\n",
            "|  2|        2000|\n",
            "|  3|        3000|\n",
            "+---+------------+\n",
            "\n"
          ]
        }
      ],
      "source": [
        "# Create two dataframes\n",
        "cars_df = spark.createDataFrame([[1, 'Economy Class'],[2, 'Business Class'],[3, 'First Class']], [\"id\", \"Class\"])\n",
        "car_price_df = spark.createDataFrame([[1, 1000],[2, 2000],[3, 3000]], [\"id\", \"Ticket Price\"])\n",
        "cars_df.show()\n",
        "car_price_df.show()"
      ]
    },
    {
      "cell_type": "code",
      "execution_count": 69,
      "metadata": {
        "colab": {
          "base_uri": "https://localhost:8080/"
        },
        "id": "U7Py4EYyKJTN",
        "outputId": "05bfd6de-aa82-450d-af4b-df9e2bdaedd7"
      },
      "outputs": [
        {
          "output_type": "stream",
          "name": "stdout",
          "text": [
            "+---+--------------+------------+\n",
            "|id |Class         |Ticket Price|\n",
            "+---+--------------+------------+\n",
            "|1  |Economy Class |1000        |\n",
            "|3  |First Class   |3000        |\n",
            "|2  |Business Class|2000        |\n",
            "+---+--------------+------------+\n",
            "\n"
          ]
        }
      ],
      "source": [
        "# Executing an inner join so we can see the id, name and price of each car in one row\n",
        "cars_df.join(car_price_df, cars_df.id == car_price_df.id, 'inner').select(cars_df['id'],cars_df['Class'],car_price_df['Ticket Price']).show(truncate=False)"
      ]
    },
    {
      "cell_type": "markdown",
      "metadata": {
        "id": "vj0mPaHU5i5n"
      },
      "source": [
        "As you can see, we have done an inner join between two dataframes. The following joins are supported by PySpark:\n",
        "1. inner (default)\n",
        "2. cross\n",
        "3. outer\n",
        "4. full\n",
        "5. full_outer\n",
        "6. left\n",
        "7. left_outer\n",
        "8. right\n",
        "9. right_outer\n",
        "10. left_semi\n",
        "11. left_anti"
      ]
    },
    {
      "cell_type": "markdown",
      "metadata": {
        "id": "HNPhsx8P2tUH"
      },
      "source": [
        "<a id='spark-sql'></a>\n",
        "## Spark SQL"
      ]
    },
    {
      "cell_type": "markdown",
      "metadata": {
        "id": "rHMvBBAh23cw"
      },
      "source": [
        "SQL has been around since the 1970s, and so one can imagine the number of people who made it their bread and butter. As big data came into popularity, the number of professionals with the technical knowledge to deal with it was in shortage. This led to the creation of Spark SQL. To quote the docs:<br>\n",
        ">Spark SQL is a Spark module for structured data processing. Unlike the basic Spark RDD API, the interfaces provided by Spark SQL provide Spark with more information about the structure of both the data and the computation being performed. Internally, Spark SQL uses this extra information to perform extra optimizations.\n",
        "\n",
        "Basically, what you need to know is that Spark SQL is used to execute SQL queries on big data. Spark SQL can also be used to read data from Hive tables and views. \n"
      ]
    },
    {
      "cell_type": "code",
      "execution_count": 70,
      "metadata": {
        "colab": {
          "base_uri": "https://localhost:8080/"
        },
        "id": "g2DaK9-D7QkX",
        "outputId": "ceac9f5e-4220-4f65-baac-0c0a8bfb0ed0"
      },
      "outputs": [
        {
          "output_type": "stream",
          "name": "stdout",
          "text": [
            "+----+-----+---+--------+---------+--------+---------+-------+-------+------+------+----+--------+--------+----+------+\n",
            "|year|month|day|dep_time|dep_delay|arr_time|arr_delay|carrier|tailnum|flight|origin|dest|air_time|distance|hour|minute|\n",
            "+----+-----+---+--------+---------+--------+---------+-------+-------+------+------+----+--------+--------+----+------+\n",
            "|2014|   12|  8|     658|       -7|     935|       -5|     VX| N846VA|  1780|   SEA| LAX|     132|     954|   6|    58|\n",
            "|2014|    1| 22|    1040|        5|    1505|        5|     AS| N559AS|   851|   SEA| HNL|     360|    2677|  10|    40|\n",
            "|2014|    3|  9|    1443|       -2|    1652|        2|     VX| N847VA|   755|   SEA| SFO|     111|     679|  14|    43|\n",
            "|2014|    4|  9|    1705|       45|    1839|       34|     WN| N360SW|   344|   PDX| SJC|      83|     569|  17|     5|\n",
            "|2014|    3|  9|     754|       -1|    1015|        1|     AS| N612AS|   522|   SEA| BUR|     127|     937|   7|    54|\n",
            "+----+-----+---+--------+---------+--------+---------+-------+-------+------+------+----+--------+--------+----+------+\n",
            "\n",
            "+-----------+\n",
            "|total_count|\n",
            "+-----------+\n",
            "|      10000|\n",
            "+-----------+\n",
            "\n"
          ]
        }
      ],
      "source": [
        "# Load data\n",
        "df = spark.read.csv('/content/flights_small.csv', header=True, sep=\",\")\n",
        "# Register Temporary Table\n",
        "df.createOrReplaceTempView(\"dest\")\n",
        "# Select all data from temp table\n",
        "spark.sql(\"select * from dest limit 5\").show()\n",
        "# Select count of data in table\n",
        "spark.sql(\"select count(*) as total_count from dest\").show()"
      ]
    },
    {
      "cell_type": "markdown",
      "metadata": {
        "id": "x62BiCgBMOtq"
      },
      "source": [
        "<a id='rdd'></a>\n",
        "## RDD"
      ]
    },
    {
      "cell_type": "markdown",
      "metadata": {
        "id": "VGXK6uEuUKRh"
      },
      "source": [
        "> With map, you define a function and then apply it record by record. Flatmap returns a new RDD by first applying a function to all of the elements in RDDs and then flattening the result. Filter, returns a new RDD. Meaning only the elements that satisfy a condition. With reduce, we are taking neighboring elements and producing a single combined result.\n",
        "For example, let's say you have a set of numbers. You can reduce this to its sum by providing a function that takes as input two values and reduces them to one. \n",
        "\n",
        "Some of the reasons you would use a dataframe over RDD are:\n",
        "1.   It's ability to represnt data as rows and columns. But this also means it can only hold structred and semi-structured data.\n",
        "2.   It allows processing data in different formats (AVRO, CSV, JSON, and storage system HDFS, HIVE tables, MySQL).\n",
        "3. It's superior job Optimization capability.\n",
        "4. DataFrame API is very easy to use.\n",
        "\n",
        "\n",
        "\n"
      ]
    },
    {
      "cell_type": "code",
      "execution_count": 71,
      "metadata": {
        "colab": {
          "base_uri": "https://localhost:8080/"
        },
        "id": "0_WvAgyvR7m6",
        "outputId": "326bc39e-57cb-43c0-dd99-fbf99a82f787"
      },
      "outputs": [
        {
          "output_type": "stream",
          "name": "stdout",
          "text": [
            "year,month,day,dep_time,dep_delay,arr_time,arr_delay,carrier,tailnum,flight,origin,dest,air_time,distance,hour,minute\n",
            "2014,12,8,658,-7,935,-5,VX,N846VA,1780,SEA,LAX,132,954,6,58\n"
          ]
        }
      ],
      "source": [
        "cars = spark.sparkContext.textFile('/content/flights_small.csv')\n",
        "print(cars.first())\n",
        "cars_header = cars.first()\n",
        "cars_rest = cars.filter(lambda line: line!=cars_header)\n",
        "print(cars_rest.first())"
      ]
    },
    {
      "cell_type": "markdown",
      "metadata": {
        "id": "P65eAFO3Mkdd"
      },
      "source": [
        "**How many cars are there in our csv data?**"
      ]
    },
    {
      "cell_type": "code",
      "execution_count": 73,
      "metadata": {
        "colab": {
          "base_uri": "https://localhost:8080/"
        },
        "id": "Vi03EU0CMSmO",
        "outputId": "ce5216ac-7180-420d-b18d-a58280700e1a"
      },
      "outputs": [
        {
          "output_type": "execute_result",
          "data": {
            "text/plain": [
              "10000"
            ]
          },
          "metadata": {},
          "execution_count": 73
        }
      ],
      "source": [
        "cars_rest.map(lambda line: line.split(\",\")).count()"
      ]
    },
    {
      "cell_type": "markdown",
      "metadata": {
        "id": "3c4bci70MnlQ"
      },
      "source": [
        "**Display the Car name, MPG, Cylinders, Weight and Origin for the cars Originating in Europe**"
      ]
    },
    {
      "cell_type": "code",
      "execution_count": 80,
      "metadata": {
        "colab": {
          "base_uri": "https://localhost:8080/"
        },
        "id": "fWFpo_WxMnvm",
        "outputId": "dd623ddb-cb0c-40c9-d09e-ca464e410330"
      },
      "outputs": [
        {
          "output_type": "execute_result",
          "data": {
            "text/plain": [
              "[('2014', '12', '8', 'SEA', 'LAX'),\n",
              " ('2014', '11', '8', 'SEA', 'LAX'),\n",
              " ('2014', '8', '19', 'SEA', 'LAX'),\n",
              " ('2014', '6', '11', 'PDX', 'LAX'),\n",
              " ('2014', '4', '25', 'SEA', 'LAX'),\n",
              " ('2014', '9', '12', 'SEA', 'LAX'),\n",
              " ('2014', '7', '17', 'SEA', 'LAX'),\n",
              " ('2014', '4', '25', 'PDX', 'LAX'),\n",
              " ('2014', '8', '14', 'PDX', 'LAX'),\n",
              " ('2014', '11', '29', 'SEA', 'LAX'),\n",
              " ('2014', '1', '20', 'SEA', 'LAX'),\n",
              " ('2014', '9', '23', 'SEA', 'LAX'),\n",
              " ('2014', '3', '21', 'PDX', 'LAX'),\n",
              " ('2014', '10', '3', 'SEA', 'LAX'),\n",
              " ('2014', '12', '21', 'SEA', 'LAX'),\n",
              " ('2014', '2', '5', 'SEA', 'LAX'),\n",
              " ('2014', '9', '2', 'SEA', 'LAX'),\n",
              " ('2014', '3', '31', 'PDX', 'LAX'),\n",
              " ('2014', '5', '16', 'SEA', 'LAX'),\n",
              " ('2014', '8', '18', 'SEA', 'LAX'),\n",
              " ('2014', '4', '30', 'PDX', 'LAX'),\n",
              " ('2014', '3', '29', 'PDX', 'LAX'),\n",
              " ('2014', '7', '7', 'PDX', 'LAX'),\n",
              " ('2014', '11', '17', 'SEA', 'LAX'),\n",
              " ('2014', '4', '4', 'SEA', 'LAX'),\n",
              " ('2014', '8', '30', 'PDX', 'LAX'),\n",
              " ('2014', '8', '6', 'SEA', 'LAX'),\n",
              " ('2014', '4', '5', 'SEA', 'LAX'),\n",
              " ('2014', '5', '16', 'SEA', 'LAX'),\n",
              " ('2014', '7', '9', 'SEA', 'LAX'),\n",
              " ('2014', '3', '28', 'SEA', 'LAX'),\n",
              " ('2014', '9', '11', 'PDX', 'LAX'),\n",
              " ('2014', '8', '17', 'PDX', 'LAX'),\n",
              " ('2014', '8', '27', 'SEA', 'LAX'),\n",
              " ('2014', '5', '11', 'SEA', 'LAX'),\n",
              " ('2014', '8', '6', 'SEA', 'LAX'),\n",
              " ('2014', '2', '8', 'PDX', 'LAX'),\n",
              " ('2014', '2', '13', 'PDX', 'LAX'),\n",
              " ('2014', '8', '30', 'SEA', 'LAX'),\n",
              " ('2014', '3', '7', 'SEA', 'LAX'),\n",
              " ('2014', '10', '3', 'SEA', 'LAX'),\n",
              " ('2014', '10', '20', 'PDX', 'LAX'),\n",
              " ('2014', '7', '23', 'SEA', 'LAX'),\n",
              " ('2014', '3', '31', 'SEA', 'LAX'),\n",
              " ('2014', '8', '9', 'SEA', 'LAX'),\n",
              " ('2014', '8', '2', 'SEA', 'LAX'),\n",
              " ('2014', '1', '13', 'PDX', 'LAX'),\n",
              " ('2014', '4', '18', 'SEA', 'LAX'),\n",
              " ('2014', '9', '26', 'SEA', 'LAX'),\n",
              " ('2014', '9', '11', 'SEA', 'LAX'),\n",
              " ('2014', '3', '24', 'SEA', 'LAX'),\n",
              " ('2014', '1', '29', 'SEA', 'LAX'),\n",
              " ('2014', '6', '11', 'SEA', 'LAX'),\n",
              " ('2014', '7', '4', 'SEA', 'LAX'),\n",
              " ('2014', '2', '28', 'SEA', 'LAX'),\n",
              " ('2014', '7', '30', 'SEA', 'LAX'),\n",
              " ('2014', '3', '24', 'PDX', 'LAX'),\n",
              " ('2014', '6', '24', 'SEA', 'LAX'),\n",
              " ('2014', '5', '23', 'PDX', 'LAX'),\n",
              " ('2014', '4', '16', 'SEA', 'LAX'),\n",
              " ('2014', '4', '30', 'SEA', 'LAX'),\n",
              " ('2014', '8', '7', 'PDX', 'LAX'),\n",
              " ('2014', '1', '25', 'SEA', 'LAX'),\n",
              " ('2014', '1', '3', 'SEA', 'LAX'),\n",
              " ('2014', '7', '9', 'SEA', 'LAX'),\n",
              " ('2014', '11', '21', 'SEA', 'LAX'),\n",
              " ('2014', '6', '23', 'SEA', 'LAX'),\n",
              " ('2014', '5', '15', 'PDX', 'LAX'),\n",
              " ('2014', '1', '18', 'PDX', 'LAX'),\n",
              " ('2014', '8', '19', 'SEA', 'LAX'),\n",
              " ('2014', '7', '13', 'PDX', 'LAX'),\n",
              " ('2014', '1', '1', 'SEA', 'LAX'),\n",
              " ('2014', '12', '22', 'PDX', 'LAX'),\n",
              " ('2014', '11', '24', 'PDX', 'LAX'),\n",
              " ('2014', '5', '19', 'PDX', 'LAX'),\n",
              " ('2014', '4', '18', 'SEA', 'LAX'),\n",
              " ('2014', '9', '26', 'SEA', 'LAX'),\n",
              " ('2014', '10', '29', 'SEA', 'LAX'),\n",
              " ('2014', '4', '24', 'SEA', 'LAX'),\n",
              " ('2014', '2', '24', 'SEA', 'LAX'),\n",
              " ('2014', '7', '24', 'SEA', 'LAX'),\n",
              " ('2014', '8', '4', 'SEA', 'LAX'),\n",
              " ('2014', '1', '12', 'SEA', 'LAX'),\n",
              " ('2014', '7', '8', 'SEA', 'LAX'),\n",
              " ('2014', '8', '19', 'SEA', 'LAX'),\n",
              " ('2014', '10', '16', 'SEA', 'LAX'),\n",
              " ('2014', '10', '10', 'PDX', 'LAX'),\n",
              " ('2014', '9', '11', 'PDX', 'LAX'),\n",
              " ('2014', '1', '8', 'SEA', 'LAX'),\n",
              " ('2014', '3', '14', 'SEA', 'LAX'),\n",
              " ('2014', '11', '10', 'SEA', 'LAX'),\n",
              " ('2014', '11', '20', 'SEA', 'LAX'),\n",
              " ('2014', '2', '4', 'PDX', 'LAX'),\n",
              " ('2014', '4', '12', 'PDX', 'LAX'),\n",
              " ('2014', '7', '28', 'SEA', 'LAX'),\n",
              " ('2014', '1', '20', 'SEA', 'LAX'),\n",
              " ('2014', '5', '7', 'SEA', 'LAX'),\n",
              " ('2014', '8', '22', 'SEA', 'LAX'),\n",
              " ('2014', '9', '2', 'SEA', 'LAX'),\n",
              " ('2014', '12', '7', 'PDX', 'LAX'),\n",
              " ('2014', '10', '7', 'SEA', 'LAX'),\n",
              " ('2014', '10', '6', 'SEA', 'LAX'),\n",
              " ('2014', '8', '8', 'SEA', 'LAX'),\n",
              " ('2014', '1', '12', 'PDX', 'LAX'),\n",
              " ('2014', '7', '19', 'SEA', 'LAX'),\n",
              " ('2014', '7', '19', 'SEA', 'LAX'),\n",
              " ('2014', '7', '30', 'SEA', 'LAX'),\n",
              " ('2014', '10', '22', 'SEA', 'LAX'),\n",
              " ('2014', '5', '20', 'SEA', 'LAX'),\n",
              " ('2014', '7', '21', 'SEA', 'LAX'),\n",
              " ('2014', '3', '1', 'PDX', 'LAX'),\n",
              " ('2014', '12', '11', 'SEA', 'LAX'),\n",
              " ('2014', '5', '1', 'SEA', 'LAX'),\n",
              " ('2014', '5', '29', 'PDX', 'LAX'),\n",
              " ('2014', '8', '15', 'SEA', 'LAX'),\n",
              " ('2014', '1', '9', 'PDX', 'LAX'),\n",
              " ('2014', '8', '20', 'SEA', 'LAX'),\n",
              " ('2014', '5', '21', 'PDX', 'LAX'),\n",
              " ('2014', '6', '15', 'PDX', 'LAX'),\n",
              " ('2014', '2', '6', 'SEA', 'LAX'),\n",
              " ('2014', '10', '12', 'SEA', 'LAX'),\n",
              " ('2014', '2', '19', 'SEA', 'LAX'),\n",
              " ('2014', '10', '15', 'SEA', 'LAX'),\n",
              " ('2014', '2', '1', 'SEA', 'LAX'),\n",
              " ('2014', '7', '15', 'SEA', 'LAX'),\n",
              " ('2014', '9', '16', 'SEA', 'LAX'),\n",
              " ('2014', '5', '28', 'PDX', 'LAX'),\n",
              " ('2014', '1', '19', 'SEA', 'LAX'),\n",
              " ('2014', '12', '28', 'SEA', 'LAX'),\n",
              " ('2014', '2', '1', 'PDX', 'LAX'),\n",
              " ('2014', '7', '14', 'SEA', 'LAX'),\n",
              " ('2014', '11', '7', 'SEA', 'LAX'),\n",
              " ('2014', '11', '4', 'SEA', 'LAX'),\n",
              " ('2014', '6', '24', 'PDX', 'LAX'),\n",
              " ('2014', '5', '26', 'SEA', 'LAX'),\n",
              " ('2014', '8', '12', 'SEA', 'LAX'),\n",
              " ('2014', '3', '30', 'PDX', 'LAX'),\n",
              " ('2014', '5', '15', 'SEA', 'LAX'),\n",
              " ('2014', '6', '27', 'SEA', 'LAX'),\n",
              " ('2014', '8', '26', 'SEA', 'LAX'),\n",
              " ('2014', '4', '13', 'SEA', 'LAX'),\n",
              " ('2014', '2', '16', 'SEA', 'LAX'),\n",
              " ('2014', '2', '25', 'PDX', 'LAX'),\n",
              " ('2014', '6', '1', 'PDX', 'LAX'),\n",
              " ('2014', '5', '7', 'SEA', 'LAX'),\n",
              " ('2014', '7', '21', 'SEA', 'LAX'),\n",
              " ('2014', '1', '20', 'SEA', 'LAX'),\n",
              " ('2014', '5', '19', 'SEA', 'LAX'),\n",
              " ('2014', '8', '27', 'PDX', 'LAX'),\n",
              " ('2014', '11', '10', 'SEA', 'LAX'),\n",
              " ('2014', '5', '3', 'SEA', 'LAX'),\n",
              " ('2014', '2', '1', 'SEA', 'LAX'),\n",
              " ('2014', '11', '16', 'SEA', 'LAX'),\n",
              " ('2014', '5', '7', 'SEA', 'LAX'),\n",
              " ('2014', '4', '8', 'SEA', 'LAX'),\n",
              " ('2014', '5', '13', 'SEA', 'LAX'),\n",
              " ('2014', '11', '22', 'PDX', 'LAX'),\n",
              " ('2014', '12', '17', 'SEA', 'LAX'),\n",
              " ('2014', '5', '29', 'PDX', 'LAX'),\n",
              " ('2014', '9', '19', 'SEA', 'LAX'),\n",
              " ('2014', '8', '17', 'SEA', 'LAX'),\n",
              " ('2014', '6', '7', 'SEA', 'LAX'),\n",
              " ('2014', '7', '8', 'SEA', 'LAX'),\n",
              " ('2014', '7', '2', 'SEA', 'LAX'),\n",
              " ('2014', '5', '30', 'SEA', 'LAX'),\n",
              " ('2014', '10', '4', 'SEA', 'LAX'),\n",
              " ('2014', '9', '15', 'SEA', 'LAX'),\n",
              " ('2014', '3', '6', 'SEA', 'LAX'),\n",
              " ('2014', '10', '2', 'SEA', 'LAX'),\n",
              " ('2014', '3', '21', 'SEA', 'LAX'),\n",
              " ('2014', '8', '6', 'PDX', 'LAX'),\n",
              " ('2014', '7', '3', 'SEA', 'LAX'),\n",
              " ('2014', '8', '5', 'SEA', 'LAX'),\n",
              " ('2014', '12', '16', 'SEA', 'LAX'),\n",
              " ('2014', '7', '15', 'PDX', 'LAX'),\n",
              " ('2014', '3', '26', 'PDX', 'LAX'),\n",
              " ('2014', '8', '22', 'SEA', 'LAX'),\n",
              " ('2014', '10', '22', 'SEA', 'LAX'),\n",
              " ('2014', '8', '5', 'SEA', 'LAX'),\n",
              " ('2014', '7', '22', 'PDX', 'LAX'),\n",
              " ('2014', '11', '18', 'SEA', 'LAX'),\n",
              " ('2014', '1', '3', 'SEA', 'LAX'),\n",
              " ('2014', '5', '13', 'PDX', 'LAX'),\n",
              " ('2014', '8', '30', 'SEA', 'LAX'),\n",
              " ('2014', '1', '22', 'SEA', 'LAX'),\n",
              " ('2014', '7', '2', 'PDX', 'LAX'),\n",
              " ('2014', '8', '20', 'PDX', 'LAX'),\n",
              " ('2014', '1', '18', 'SEA', 'LAX'),\n",
              " ('2014', '2', '7', 'SEA', 'LAX'),\n",
              " ('2014', '2', '19', 'SEA', 'LAX'),\n",
              " ('2014', '5', '29', 'SEA', 'LAX'),\n",
              " ('2014', '2', '26', 'PDX', 'LAX'),\n",
              " ('2014', '7', '28', 'SEA', 'LAX'),\n",
              " ('2014', '4', '30', 'SEA', 'LAX'),\n",
              " ('2014', '6', '14', 'SEA', 'LAX'),\n",
              " ('2014', '9', '10', 'SEA', 'LAX'),\n",
              " ('2014', '3', '9', 'SEA', 'LAX'),\n",
              " ('2014', '5', '14', 'SEA', 'LAX'),\n",
              " ('2014', '10', '4', 'SEA', 'LAX'),\n",
              " ('2014', '12', '21', 'SEA', 'LAX'),\n",
              " ('2014', '10', '1', 'SEA', 'LAX'),\n",
              " ('2014', '2', '12', 'SEA', 'LAX'),\n",
              " ('2014', '11', '1', 'SEA', 'LAX'),\n",
              " ('2014', '1', '25', 'SEA', 'LAX'),\n",
              " ('2014', '12', '8', 'SEA', 'LAX'),\n",
              " ('2014', '11', '13', 'SEA', 'LAX'),\n",
              " ('2014', '5', '19', 'SEA', 'LAX'),\n",
              " ('2014', '11', '16', 'SEA', 'LAX'),\n",
              " ('2014', '5', '5', 'PDX', 'LAX'),\n",
              " ('2014', '1', '10', 'SEA', 'LAX'),\n",
              " ('2014', '4', '28', 'SEA', 'LAX'),\n",
              " ('2014', '12', '26', 'SEA', 'LAX'),\n",
              " ('2014', '9', '29', 'SEA', 'LAX'),\n",
              " ('2014', '5', '6', 'SEA', 'LAX'),\n",
              " ('2014', '5', '14', 'SEA', 'LAX'),\n",
              " ('2014', '12', '30', 'SEA', 'LAX'),\n",
              " ('2014', '9', '8', 'SEA', 'LAX'),\n",
              " ('2014', '2', '9', 'SEA', 'LAX'),\n",
              " ('2014', '3', '15', 'SEA', 'LAX'),\n",
              " ('2014', '10', '24', 'PDX', 'LAX'),\n",
              " ('2014', '10', '13', 'SEA', 'LAX'),\n",
              " ('2014', '6', '3', 'SEA', 'LAX'),\n",
              " ('2014', '1', '29', 'SEA', 'LAX'),\n",
              " ('2014', '3', '3', 'SEA', 'LAX'),\n",
              " ('2014', '2', '5', 'PDX', 'LAX'),\n",
              " ('2014', '5', '6', 'SEA', 'LAX'),\n",
              " ('2014', '3', '30', 'PDX', 'LAX'),\n",
              " ('2014', '8', '17', 'SEA', 'LAX'),\n",
              " ('2014', '8', '29', 'SEA', 'LAX'),\n",
              " ('2014', '8', '15', 'SEA', 'LAX'),\n",
              " ('2014', '4', '10', 'PDX', 'LAX'),\n",
              " ('2014', '3', '10', 'SEA', 'LAX'),\n",
              " ('2014', '7', '30', 'SEA', 'LAX'),\n",
              " ('2014', '6', '1', 'PDX', 'LAX'),\n",
              " ('2014', '2', '2', 'PDX', 'LAX'),\n",
              " ('2014', '10', '30', 'SEA', 'LAX'),\n",
              " ('2014', '1', '8', 'SEA', 'LAX'),\n",
              " ('2014', '10', '31', 'SEA', 'LAX'),\n",
              " ('2014', '9', '6', 'SEA', 'LAX'),\n",
              " ('2014', '5', '15', 'PDX', 'LAX'),\n",
              " ('2014', '8', '7', 'SEA', 'LAX'),\n",
              " ('2014', '5', '23', 'SEA', 'LAX'),\n",
              " ('2014', '9', '12', 'PDX', 'LAX'),\n",
              " ('2014', '9', '5', 'SEA', 'LAX'),\n",
              " ('2014', '9', '5', 'SEA', 'LAX'),\n",
              " ('2014', '1', '29', 'SEA', 'LAX'),\n",
              " ('2014', '5', '24', 'PDX', 'LAX'),\n",
              " ('2014', '5', '15', 'SEA', 'LAX'),\n",
              " ('2014', '8', '27', 'SEA', 'LAX'),\n",
              " ('2014', '4', '26', 'PDX', 'LAX'),\n",
              " ('2014', '11', '30', 'PDX', 'LAX'),\n",
              " ('2014', '10', '28', 'SEA', 'LAX'),\n",
              " ('2014', '8', '3', 'SEA', 'LAX'),\n",
              " ('2014', '3', '23', 'SEA', 'LAX'),\n",
              " ('2014', '11', '27', 'PDX', 'LAX'),\n",
              " ('2014', '3', '26', 'SEA', 'LAX'),\n",
              " ('2014', '6', '12', 'SEA', 'LAX'),\n",
              " ('2014', '9', '29', 'SEA', 'LAX'),\n",
              " ('2014', '3', '4', 'SEA', 'LAX'),\n",
              " ('2014', '7', '2', 'SEA', 'LAX'),\n",
              " ('2014', '12', '21', 'PDX', 'LAX'),\n",
              " ('2014', '10', '30', 'SEA', 'LAX'),\n",
              " ('2014', '10', '22', 'SEA', 'LAX'),\n",
              " ('2014', '5', '22', 'SEA', 'LAX'),\n",
              " ('2014', '2', '3', 'PDX', 'LAX'),\n",
              " ('2014', '4', '14', 'SEA', 'LAX'),\n",
              " ('2014', '6', '20', 'SEA', 'LAX'),\n",
              " ('2014', '9', '5', 'SEA', 'LAX'),\n",
              " ('2014', '6', '8', 'PDX', 'LAX'),\n",
              " ('2014', '11', '8', 'PDX', 'LAX'),\n",
              " ('2014', '8', '3', 'PDX', 'LAX'),\n",
              " ('2014', '6', '8', 'SEA', 'LAX'),\n",
              " ('2014', '5', '30', 'PDX', 'LAX'),\n",
              " ('2014', '5', '15', 'SEA', 'LAX'),\n",
              " ('2014', '10', '16', 'SEA', 'LAX'),\n",
              " ('2014', '2', '28', 'SEA', 'LAX'),\n",
              " ('2014', '9', '22', 'SEA', 'LAX'),\n",
              " ('2014', '6', '19', 'PDX', 'LAX'),\n",
              " ('2014', '9', '29', 'SEA', 'LAX'),\n",
              " ('2014', '11', '24', 'SEA', 'LAX'),\n",
              " ('2014', '6', '14', 'PDX', 'LAX'),\n",
              " ('2014', '1', '22', 'PDX', 'LAX'),\n",
              " ('2014', '8', '8', 'PDX', 'LAX'),\n",
              " ('2014', '5', '27', 'SEA', 'LAX'),\n",
              " ('2014', '9', '19', 'PDX', 'LAX'),\n",
              " ('2014', '11', '21', 'SEA', 'LAX'),\n",
              " ('2014', '6', '23', 'SEA', 'LAX'),\n",
              " ('2014', '3', '22', 'SEA', 'LAX'),\n",
              " ('2014', '4', '4', 'SEA', 'LAX'),\n",
              " ('2014', '2', '6', 'SEA', 'LAX'),\n",
              " ('2014', '1', '10', 'SEA', 'LAX'),\n",
              " ('2014', '8', '8', 'PDX', 'LAX'),\n",
              " ('2014', '11', '10', 'SEA', 'LAX'),\n",
              " ('2014', '2', '24', 'PDX', 'LAX'),\n",
              " ('2014', '12', '31', 'SEA', 'LAX'),\n",
              " ('2014', '4', '7', 'SEA', 'LAX'),\n",
              " ('2014', '8', '28', 'SEA', 'LAX'),\n",
              " ('2014', '10', '6', 'SEA', 'LAX'),\n",
              " ('2014', '7', '6', 'PDX', 'LAX'),\n",
              " ('2014', '11', '30', 'SEA', 'LAX'),\n",
              " ('2014', '5', '15', 'SEA', 'LAX'),\n",
              " ('2014', '7', '26', 'SEA', 'LAX'),\n",
              " ('2014', '7', '18', 'SEA', 'LAX'),\n",
              " ('2014', '12', '12', 'SEA', 'LAX'),\n",
              " ('2014', '6', '8', 'PDX', 'LAX'),\n",
              " ('2014', '1', '13', 'SEA', 'LAX'),\n",
              " ('2014', '6', '18', 'PDX', 'LAX'),\n",
              " ('2014', '11', '13', 'SEA', 'LAX'),\n",
              " ('2014', '4', '12', 'PDX', 'LAX'),\n",
              " ('2014', '3', '18', 'SEA', 'LAX'),\n",
              " ('2014', '8', '26', 'SEA', 'LAX'),\n",
              " ('2014', '5', '8', 'SEA', 'LAX'),\n",
              " ('2014', '7', '16', 'PDX', 'LAX'),\n",
              " ('2014', '5', '27', 'SEA', 'LAX'),\n",
              " ('2014', '5', '30', 'PDX', 'LAX'),\n",
              " ('2014', '10', '29', 'SEA', 'LAX'),\n",
              " ('2014', '2', '11', 'SEA', 'LAX'),\n",
              " ('2014', '9', '6', 'SEA', 'LAX'),\n",
              " ('2014', '4', '30', 'SEA', 'LAX'),\n",
              " ('2014', '11', '2', 'SEA', 'LAX'),\n",
              " ('2014', '5', '15', 'SEA', 'LAX'),\n",
              " ('2014', '2', '12', 'SEA', 'LAX'),\n",
              " ('2014', '10', '31', 'SEA', 'LAX'),\n",
              " ('2014', '7', '5', 'PDX', 'LAX'),\n",
              " ('2014', '5', '13', 'SEA', 'LAX'),\n",
              " ('2014', '2', '2', 'SEA', 'LAX'),\n",
              " ('2014', '2', '14', 'SEA', 'LAX'),\n",
              " ('2014', '3', '14', 'PDX', 'LAX'),\n",
              " ('2014', '11', '13', 'SEA', 'LAX'),\n",
              " ('2014', '9', '19', 'SEA', 'LAX'),\n",
              " ('2014', '7', '22', 'SEA', 'LAX'),\n",
              " ('2014', '1', '22', 'SEA', 'LAX'),\n",
              " ('2014', '9', '14', 'SEA', 'LAX'),\n",
              " ('2014', '4', '10', 'SEA', 'LAX'),\n",
              " ('2014', '12', '29', 'SEA', 'LAX'),\n",
              " ('2014', '8', '4', 'SEA', 'LAX'),\n",
              " ('2014', '9', '23', 'SEA', 'LAX'),\n",
              " ('2014', '2', '19', 'SEA', 'LAX'),\n",
              " ('2014', '11', '24', 'PDX', 'LAX'),\n",
              " ('2014', '10', '11', 'SEA', 'LAX'),\n",
              " ('2014', '7', '2', 'SEA', 'LAX'),\n",
              " ('2014', '4', '9', 'SEA', 'LAX'),\n",
              " ('2014', '2', '4', 'SEA', 'LAX'),\n",
              " ('2014', '6', '1', 'SEA', 'LAX'),\n",
              " ('2014', '3', '19', 'SEA', 'LAX'),\n",
              " ('2014', '5', '20', 'SEA', 'LAX'),\n",
              " ('2014', '10', '7', 'SEA', 'LAX'),\n",
              " ('2014', '5', '22', 'SEA', 'LAX'),\n",
              " ('2014', '8', '28', 'SEA', 'LAX'),\n",
              " ('2014', '2', '15', 'SEA', 'LAX'),\n",
              " ('2014', '11', '23', 'PDX', 'LAX'),\n",
              " ('2014', '8', '9', 'SEA', 'LAX'),\n",
              " ('2014', '10', '16', 'SEA', 'LAX'),\n",
              " ('2014', '4', '26', 'SEA', 'LAX'),\n",
              " ('2014', '12', '4', 'PDX', 'LAX'),\n",
              " ('2014', '1', '19', 'SEA', 'LAX'),\n",
              " ('2014', '11', '26', 'SEA', 'LAX'),\n",
              " ('2014', '11', '20', 'SEA', 'LAX'),\n",
              " ('2014', '1', '22', 'SEA', 'LAX'),\n",
              " ('2014', '9', '12', 'SEA', 'LAX'),\n",
              " ('2014', '10', '21', 'SEA', 'LAX'),\n",
              " ('2014', '9', '16', 'SEA', 'LAX'),\n",
              " ('2014', '3', '3', 'PDX', 'LAX'),\n",
              " ('2014', '4', '17', 'SEA', 'LAX'),\n",
              " ('2014', '6', '14', 'PDX', 'LAX'),\n",
              " ('2014', '8', '25', 'SEA', 'LAX'),\n",
              " ('2014', '5', '11', 'SEA', 'LAX'),\n",
              " ('2014', '10', '21', 'PDX', 'LAX'),\n",
              " ('2014', '7', '11', 'PDX', 'LAX'),\n",
              " ('2014', '5', '27', 'PDX', 'LAX'),\n",
              " ('2014', '10', '14', 'SEA', 'LAX'),\n",
              " ('2014', '3', '11', 'PDX', 'LAX'),\n",
              " ('2014', '5', '4', 'SEA', 'LAX'),\n",
              " ('2014', '8', '8', 'PDX', 'LAX'),\n",
              " ('2014', '1', '18', 'SEA', 'LAX'),\n",
              " ('2014', '3', '18', 'SEA', 'LAX'),\n",
              " ('2014', '8', '1', 'SEA', 'LAX'),\n",
              " ('2014', '4', '16', 'PDX', 'LAX'),\n",
              " ('2014', '11', '9', 'PDX', 'LAX'),\n",
              " ('2014', '3', '20', 'SEA', 'LAX'),\n",
              " ('2014', '4', '17', 'SEA', 'LAX'),\n",
              " ('2014', '9', '21', 'SEA', 'LAX'),\n",
              " ('2014', '6', '30', 'SEA', 'LAX'),\n",
              " ('2014', '7', '31', 'SEA', 'LAX'),\n",
              " ('2014', '1', '17', 'PDX', 'LAX'),\n",
              " ('2014', '4', '30', 'SEA', 'LAX'),\n",
              " ('2014', '6', '16', 'SEA', 'LAX'),\n",
              " ('2014', '3', '1', 'SEA', 'LAX'),\n",
              " ('2014', '10', '6', 'SEA', 'LAX'),\n",
              " ('2014', '10', '22', 'SEA', 'LAX'),\n",
              " ('2014', '10', '9', 'SEA', 'LAX'),\n",
              " ('2014', '7', '17', 'PDX', 'LAX'),\n",
              " ('2014', '3', '7', 'PDX', 'LAX'),\n",
              " ('2014', '9', '7', 'SEA', 'LAX'),\n",
              " ('2014', '9', '2', 'SEA', 'LAX'),\n",
              " ('2014', '4', '30', 'SEA', 'LAX'),\n",
              " ('2014', '2', '7', 'SEA', 'LAX'),\n",
              " ('2014', '8', '30', 'PDX', 'LAX'),\n",
              " ('2014', '5', '2', 'SEA', 'LAX'),\n",
              " ('2014', '1', '8', 'PDX', 'LAX'),\n",
              " ('2014', '12', '23', 'SEA', 'LAX'),\n",
              " ('2014', '1', '7', 'SEA', 'LAX'),\n",
              " ('2014', '5', '24', 'SEA', 'LAX'),\n",
              " ('2014', '8', '15', 'SEA', 'LAX'),\n",
              " ('2014', '5', '16', 'PDX', 'LAX'),\n",
              " ('2014', '3', '7', 'SEA', 'LAX'),\n",
              " ('2014', '3', '10', 'PDX', 'LAX'),\n",
              " ('2014', '6', '30', 'SEA', 'LAX'),\n",
              " ('2014', '1', '10', 'PDX', 'LAX'),\n",
              " ('2014', '5', '7', 'SEA', 'LAX'),\n",
              " ('2014', '8', '13', 'SEA', 'LAX'),\n",
              " ('2014', '5', '30', 'SEA', 'LAX'),\n",
              " ('2014', '5', '9', 'PDX', 'LAX'),\n",
              " ('2014', '3', '9', 'SEA', 'LAX'),\n",
              " ('2014', '6', '18', 'SEA', 'LAX'),\n",
              " ('2014', '12', '3', 'SEA', 'LAX'),\n",
              " ('2014', '1', '27', 'SEA', 'LAX'),\n",
              " ('2014', '3', '9', 'SEA', 'LAX'),\n",
              " ('2014', '5', '22', 'SEA', 'LAX'),\n",
              " ('2014', '8', '16', 'SEA', 'LAX'),\n",
              " ('2014', '11', '20', 'SEA', 'LAX'),\n",
              " ('2014', '3', '16', 'SEA', 'LAX'),\n",
              " ('2014', '11', '21', 'SEA', 'LAX'),\n",
              " ('2014', '1', '8', 'PDX', 'LAX'),\n",
              " ('2014', '7', '21', 'SEA', 'LAX'),\n",
              " ('2014', '8', '27', 'PDX', 'LAX'),\n",
              " ('2014', '9', '11', 'PDX', 'LAX'),\n",
              " ('2014', '12', '19', 'SEA', 'LAX'),\n",
              " ('2014', '1', '2', 'PDX', 'LAX'),\n",
              " ('2014', '10', '12', 'SEA', 'LAX'),\n",
              " ('2014', '3', '3', 'SEA', 'LAX'),\n",
              " ('2014', '3', '26', 'SEA', 'LAX'),\n",
              " ('2014', '5', '2', 'PDX', 'LAX'),\n",
              " ('2014', '1', '1', 'SEA', 'LAX'),\n",
              " ('2014', '5', '9', 'SEA', 'LAX'),\n",
              " ('2014', '8', '1', 'SEA', 'LAX'),\n",
              " ('2014', '11', '7', 'SEA', 'LAX'),\n",
              " ('2014', '4', '3', 'SEA', 'LAX'),\n",
              " ('2014', '11', '13', 'SEA', 'LAX'),\n",
              " ('2014', '11', '7', 'PDX', 'LAX'),\n",
              " ('2014', '1', '25', 'SEA', 'LAX'),\n",
              " ('2014', '9', '20', 'PDX', 'LAX'),\n",
              " ('2014', '9', '18', 'SEA', 'LAX'),\n",
              " ('2014', '11', '24', 'SEA', 'LAX'),\n",
              " ('2014', '11', '19', 'SEA', 'LAX'),\n",
              " ('2014', '10', '9', 'SEA', 'LAX'),\n",
              " ('2014', '2', '16', 'SEA', 'LAX'),\n",
              " ('2014', '2', '13', 'SEA', 'LAX'),\n",
              " ('2014', '7', '5', 'SEA', 'LAX'),\n",
              " ('2014', '5', '21', 'SEA', 'LAX'),\n",
              " ('2014', '6', '19', 'PDX', 'LAX'),\n",
              " ('2014', '11', '14', 'SEA', 'LAX'),\n",
              " ('2014', '4', '13', 'SEA', 'LAX'),\n",
              " ('2014', '10', '21', 'SEA', 'LAX'),\n",
              " ('2014', '2', '3', 'SEA', 'LAX'),\n",
              " ('2014', '2', '19', 'SEA', 'LAX'),\n",
              " ('2014', '8', '27', 'PDX', 'LAX'),\n",
              " ('2014', '1', '22', 'SEA', 'LAX'),\n",
              " ('2014', '12', '26', 'SEA', 'LAX'),\n",
              " ('2014', '11', '4', 'SEA', 'LAX'),\n",
              " ('2014', '6', '9', 'SEA', 'LAX'),\n",
              " ('2014', '5', '22', 'SEA', 'LAX'),\n",
              " ('2014', '5', '13', 'SEA', 'LAX'),\n",
              " ('2014', '7', '23', 'SEA', 'LAX'),\n",
              " ('2014', '1', '17', 'SEA', 'LAX'),\n",
              " ('2014', '10', '14', 'PDX', 'LAX'),\n",
              " ('2014', '4', '14', 'PDX', 'LAX'),\n",
              " ('2014', '1', '24', 'SEA', 'LAX'),\n",
              " ('2014', '9', '24', 'PDX', 'LAX'),\n",
              " ('2014', '10', '1', 'SEA', 'LAX'),\n",
              " ('2014', '7', '30', 'PDX', 'LAX'),\n",
              " ('2014', '10', '15', 'SEA', 'LAX'),\n",
              " ('2014', '5', '23', 'SEA', 'LAX'),\n",
              " ('2014', '2', '1', 'SEA', 'LAX'),\n",
              " ('2014', '8', '9', 'SEA', 'LAX'),\n",
              " ('2014', '8', '2', 'SEA', 'LAX'),\n",
              " ('2014', '1', '14', 'PDX', 'LAX'),\n",
              " ('2014', '12', '18', 'SEA', 'LAX'),\n",
              " ('2014', '4', '25', 'SEA', 'LAX'),\n",
              " ('2014', '2', '14', 'SEA', 'LAX'),\n",
              " ('2014', '4', '9', 'SEA', 'LAX'),\n",
              " ('2014', '3', '31', 'PDX', 'LAX'),\n",
              " ('2014', '9', '24', 'SEA', 'LAX'),\n",
              " ('2014', '2', '21', 'SEA', 'LAX'),\n",
              " ('2014', '8', '15', 'SEA', 'LAX'),\n",
              " ('2014', '5', '24', 'SEA', 'LAX'),\n",
              " ('2014', '1', '27', 'SEA', 'LAX'),\n",
              " ('2014', '4', '21', 'SEA', 'LAX'),\n",
              " ('2014', '3', '26', 'PDX', 'LAX'),\n",
              " ('2014', '4', '6', 'SEA', 'LAX'),\n",
              " ('2014', '4', '15', 'SEA', 'LAX'),\n",
              " ('2014', '3', '2', 'SEA', 'LAX'),\n",
              " ('2014', '1', '9', 'SEA', 'LAX'),\n",
              " ('2014', '12', '4', 'SEA', 'LAX'),\n",
              " ('2014', '6', '23', 'SEA', 'LAX'),\n",
              " ('2014', '5', '9', 'PDX', 'LAX'),\n",
              " ('2014', '3', '14', 'PDX', 'LAX'),\n",
              " ('2014', '2', '14', 'SEA', 'LAX'),\n",
              " ('2014', '10', '23', 'PDX', 'LAX'),\n",
              " ('2014', '11', '26', 'SEA', 'LAX'),\n",
              " ('2014', '8', '25', 'PDX', 'LAX'),\n",
              " ('2014', '2', '10', 'SEA', 'LAX'),\n",
              " ('2014', '9', '19', 'SEA', 'LAX'),\n",
              " ('2014', '10', '26', 'SEA', 'LAX'),\n",
              " ('2014', '7', '30', 'SEA', 'LAX'),\n",
              " ('2014', '6', '9', 'PDX', 'LAX'),\n",
              " ('2014', '2', '13', 'PDX', 'LAX'),\n",
              " ('2014', '5', '15', 'SEA', 'LAX'),\n",
              " ('2014', '10', '31', 'SEA', 'LAX'),\n",
              " ('2014', '3', '13', 'SEA', 'LAX'),\n",
              " ('2014', '5', '1', 'PDX', 'LAX'),\n",
              " ('2014', '11', '23', 'SEA', 'LAX'),\n",
              " ('2014', '5', '13', 'SEA', 'LAX'),\n",
              " ('2014', '9', '12', 'SEA', 'LAX'),\n",
              " ('2014', '11', '21', 'SEA', 'LAX'),\n",
              " ('2014', '3', '21', 'SEA', 'LAX'),\n",
              " ('2014', '5', '8', 'SEA', 'LAX'),\n",
              " ('2014', '9', '7', 'SEA', 'LAX'),\n",
              " ('2014', '11', '17', 'SEA', 'LAX'),\n",
              " ('2014', '10', '7', 'PDX', 'LAX'),\n",
              " ('2014', '9', '26', 'SEA', 'LAX'),\n",
              " ('2014', '6', '8', 'PDX', 'LAX'),\n",
              " ('2014', '12', '13', 'SEA', 'LAX'),\n",
              " ('2014', '1', '24', 'SEA', 'LAX'),\n",
              " ('2014', '6', '14', 'SEA', 'LAX'),\n",
              " ('2014', '11', '28', 'SEA', 'LAX'),\n",
              " ('2014', '8', '4', 'SEA', 'LAX'),\n",
              " ('2014', '5', '16', 'PDX', 'LAX'),\n",
              " ('2014', '8', '28', 'SEA', 'LAX'),\n",
              " ('2014', '2', '13', 'PDX', 'LAX'),\n",
              " ('2014', '10', '3', 'SEA', 'LAX'),\n",
              " ('2014', '10', '24', 'PDX', 'LAX'),\n",
              " ('2014', '12', '31', 'PDX', 'LAX'),\n",
              " ('2014', '9', '27', 'SEA', 'LAX'),\n",
              " ('2014', '4', '15', 'SEA', 'LAX'),\n",
              " ('2014', '6', '29', 'SEA', 'LAX'),\n",
              " ('2014', '5', '23', 'SEA', 'LAX'),\n",
              " ('2014', '3', '28', 'SEA', 'LAX'),\n",
              " ('2014', '8', '19', 'SEA', 'LAX'),\n",
              " ('2014', '3', '1', 'SEA', 'LAX'),\n",
              " ('2014', '11', '20', 'SEA', 'LAX'),\n",
              " ('2014', '8', '18', 'PDX', 'LAX'),\n",
              " ('2014', '6', '23', 'SEA', 'LAX'),\n",
              " ('2014', '6', '20', 'PDX', 'LAX'),\n",
              " ('2014', '8', '17', 'SEA', 'LAX'),\n",
              " ('2014', '2', '8', 'PDX', 'LAX'),\n",
              " ('2014', '6', '23', 'SEA', 'LAX'),\n",
              " ('2014', '9', '5', 'PDX', 'LAX'),\n",
              " ('2014', '5', '5', 'PDX', 'LAX'),\n",
              " ('2014', '2', '1', 'SEA', 'LAX'),\n",
              " ('2014', '7', '17', 'PDX', 'LAX'),\n",
              " ('2014', '7', '22', 'PDX', 'LAX'),\n",
              " ('2014', '5', '17', 'PDX', 'LAX'),\n",
              " ('2014', '6', '17', 'SEA', 'LAX'),\n",
              " ('2014', '5', '1', 'SEA', 'LAX'),\n",
              " ('2014', '4', '18', 'SEA', 'LAX'),\n",
              " ('2014', '8', '30', 'SEA', 'LAX'),\n",
              " ('2014', '9', '13', 'SEA', 'LAX'),\n",
              " ('2014', '11', '2', 'PDX', 'LAX'),\n",
              " ('2014', '9', '28', 'SEA', 'LAX'),\n",
              " ('2014', '4', '25', 'SEA', 'LAX'),\n",
              " ('2014', '12', '26', 'SEA', 'LAX'),\n",
              " ('2014', '10', '7', 'PDX', 'LAX'),\n",
              " ('2014', '2', '27', 'SEA', 'LAX'),\n",
              " ('2014', '7', '30', 'SEA', 'LAX'),\n",
              " ('2014', '4', '5', 'PDX', 'LAX'),\n",
              " ('2014', '4', '28', 'SEA', 'LAX'),\n",
              " ('2014', '3', '10', 'PDX', 'LAX'),\n",
              " ('2014', '10', '15', 'PDX', 'LAX'),\n",
              " ('2014', '4', '10', 'SEA', 'LAX'),\n",
              " ('2014', '8', '28', 'PDX', 'LAX'),\n",
              " ('2014', '5', '21', 'SEA', 'LAX'),\n",
              " ('2014', '3', '3', 'PDX', 'LAX'),\n",
              " ('2014', '4', '24', 'SEA', 'LAX'),\n",
              " ('2014', '6', '16', 'PDX', 'LAX'),\n",
              " ('2014', '7', '11', 'SEA', 'LAX'),\n",
              " ('2014', '1', '19', 'SEA', 'LAX'),\n",
              " ('2014', '9', '23', 'SEA', 'LAX'),\n",
              " ('2014', '8', '10', 'SEA', 'LAX'),\n",
              " ('2014', '2', '22', 'PDX', 'LAX'),\n",
              " ('2014', '12', '27', 'PDX', 'LAX'),\n",
              " ('2014', '2', '5', 'PDX', 'LAX'),\n",
              " ('2014', '5', '23', 'SEA', 'LAX'),\n",
              " ('2014', '10', '1', 'SEA', 'LAX'),\n",
              " ('2014', '3', '26', 'PDX', 'LAX'),\n",
              " ('2014', '11', '3', 'SEA', 'LAX'),\n",
              " ('2014', '12', '5', 'SEA', 'LAX'),\n",
              " ('2014', '9', '23', 'SEA', 'LAX'),\n",
              " ('2014', '9', '17', 'SEA', 'LAX'),\n",
              " ('2014', '7', '26', 'SEA', 'LAX'),\n",
              " ('2014', '11', '22', 'PDX', 'LAX'),\n",
              " ('2014', '4', '6', 'SEA', 'LAX'),\n",
              " ('2014', '5', '7', 'SEA', 'LAX'),\n",
              " ('2014', '11', '24', 'PDX', 'LAX'),\n",
              " ('2014', '7', '21', 'PDX', 'LAX'),\n",
              " ('2014', '7', '19', 'PDX', 'LAX'),\n",
              " ('2014', '2', '5', 'SEA', 'LAX'),\n",
              " ('2014', '10', '18', 'SEA', 'LAX'),\n",
              " ('2014', '1', '18', 'SEA', 'LAX'),\n",
              " ('2014', '2', '6', 'PDX', 'LAX'),\n",
              " ('2014', '6', '27', 'PDX', 'LAX'),\n",
              " ('2014', '12', '19', 'PDX', 'LAX'),\n",
              " ('2014', '8', '21', 'SEA', 'LAX'),\n",
              " ('2014', '5', '30', 'SEA', 'LAX'),\n",
              " ('2014', '4', '17', 'PDX', 'LAX'),\n",
              " ('2014', '10', '14', 'SEA', 'LAX'),\n",
              " ('2014', '4', '7', 'SEA', 'LAX'),\n",
              " ('2014', '8', '5', 'PDX', 'LAX'),\n",
              " ('2014', '11', '7', 'SEA', 'LAX'),\n",
              " ('2014', '6', '14', 'SEA', 'LAX'),\n",
              " ('2014', '11', '14', 'SEA', 'LAX'),\n",
              " ('2014', '4', '18', 'SEA', 'LAX'),\n",
              " ('2014', '5', '1', 'SEA', 'LAX'),\n",
              " ('2014', '2', '10', 'SEA', 'LAX'),\n",
              " ('2014', '2', '5', 'SEA', 'LAX')]"
            ]
          },
          "metadata": {},
          "execution_count": 80
        }
      ],
      "source": [
        "# Car name is column  0\n",
        "(cars_rest.filter(lambda line: line.split(\",\")[11]=='LAX').\n",
        " map(lambda line: (line.split(\",\")[0],\n",
        "    line.split(\",\")[1],\n",
        "    line.split(\",\")[2],\n",
        "    line.split(\",\")[10],\n",
        "    line.split(\",\")[11])).collect())"
      ]
    },
    {
      "cell_type": "markdown",
      "metadata": {
        "id": "ZYmb5FscMph3"
      },
      "source": [
        "**Display the Car name, MPG, Cylinders, Weight and Origin for the cars Originating in either Europe or Japan**"
      ]
    },
    {
      "cell_type": "code",
      "execution_count": 81,
      "metadata": {
        "colab": {
          "base_uri": "https://localhost:8080/"
        },
        "id": "6ZcRIX3mMquF",
        "outputId": "aaa3c105-ccc9-4a92-ed01-be580e5c69fe"
      },
      "outputs": [
        {
          "output_type": "execute_result",
          "data": {
            "text/plain": [
              "[('2014', '12', '8', 'SEA', 'LAX'),\n",
              " ('2014', '1', '22', 'SEA', 'HNL'),\n",
              " ('2014', '11', '8', 'SEA', 'LAX'),\n",
              " ('2014', '8', '19', 'SEA', 'LAX'),\n",
              " ('2014', '6', '11', 'PDX', 'LAX'),\n",
              " ('2014', '4', '1', 'PDX', 'HNL'),\n",
              " ('2014', '4', '25', 'SEA', 'LAX'),\n",
              " ('2014', '9', '12', 'SEA', 'LAX'),\n",
              " ('2014', '7', '17', 'SEA', 'LAX'),\n",
              " ('2014', '4', '25', 'PDX', 'LAX'),\n",
              " ('2014', '9', '2', 'PDX', 'HNL'),\n",
              " ('2014', '8', '14', 'PDX', 'LAX'),\n",
              " ('2014', '11', '29', 'SEA', 'LAX'),\n",
              " ('2014', '1', '20', 'SEA', 'LAX'),\n",
              " ('2014', '9', '23', 'SEA', 'LAX'),\n",
              " ('2014', '3', '21', 'PDX', 'LAX'),\n",
              " ('2014', '10', '3', 'SEA', 'LAX'),\n",
              " ('2014', '12', '21', 'SEA', 'LAX'),\n",
              " ('2014', '2', '5', 'SEA', 'LAX'),\n",
              " ('2014', '9', '2', 'SEA', 'LAX'),\n",
              " ('2014', '3', '22', 'PDX', 'HNL'),\n",
              " ('2014', '8', '16', 'PDX', 'HNL'),\n",
              " ('2014', '4', '4', 'PDX', 'HNL'),\n",
              " ('2014', '3', '31', 'PDX', 'LAX'),\n",
              " ('2014', '5', '16', 'SEA', 'LAX'),\n",
              " ('2014', '8', '18', 'SEA', 'LAX'),\n",
              " ('2014', '4', '30', 'PDX', 'LAX'),\n",
              " ('2014', '3', '29', 'PDX', 'LAX'),\n",
              " ('2014', '7', '7', 'PDX', 'LAX'),\n",
              " ('2014', '11', '17', 'SEA', 'LAX'),\n",
              " ('2014', '4', '4', 'SEA', 'LAX'),\n",
              " ('2014', '8', '30', 'PDX', 'LAX'),\n",
              " ('2014', '8', '6', 'SEA', 'LAX'),\n",
              " ('2014', '4', '5', 'SEA', 'LAX'),\n",
              " ('2014', '5', '16', 'SEA', 'LAX'),\n",
              " ('2014', '7', '9', 'SEA', 'LAX'),\n",
              " ('2014', '3', '28', 'SEA', 'LAX'),\n",
              " ('2014', '9', '11', 'PDX', 'LAX'),\n",
              " ('2014', '8', '17', 'PDX', 'LAX'),\n",
              " ('2014', '6', '19', 'PDX', 'HNL'),\n",
              " ('2014', '5', '7', 'PDX', 'HNL'),\n",
              " ('2014', '8', '27', 'SEA', 'LAX'),\n",
              " ('2014', '5', '11', 'SEA', 'LAX'),\n",
              " ('2014', '8', '6', 'SEA', 'LAX'),\n",
              " ('2014', '2', '8', 'PDX', 'LAX'),\n",
              " ('2014', '2', '13', 'PDX', 'LAX'),\n",
              " ('2014', '8', '30', 'SEA', 'LAX'),\n",
              " ('2014', '3', '7', 'SEA', 'LAX'),\n",
              " ('2014', '11', '1', 'SEA', 'HNL'),\n",
              " ('2014', '10', '3', 'SEA', 'LAX'),\n",
              " ('2014', '10', '20', 'PDX', 'LAX'),\n",
              " ('2014', '1', '12', 'PDX', 'HNL'),\n",
              " ('2014', '3', '19', 'PDX', 'HNL'),\n",
              " ('2014', '7', '23', 'SEA', 'LAX'),\n",
              " ('2014', '12', '7', 'PDX', 'HNL'),\n",
              " ('2014', '1', '30', 'PDX', 'HNL'),\n",
              " ('2014', '3', '31', 'SEA', 'LAX'),\n",
              " ('2014', '8', '9', 'SEA', 'LAX'),\n",
              " ('2014', '8', '2', 'SEA', 'LAX'),\n",
              " ('2014', '1', '13', 'PDX', 'LAX'),\n",
              " ('2014', '4', '18', 'SEA', 'LAX'),\n",
              " ('2014', '9', '26', 'SEA', 'LAX'),\n",
              " ('2014', '9', '11', 'SEA', 'LAX'),\n",
              " ('2014', '3', '24', 'SEA', 'LAX'),\n",
              " ('2014', '1', '29', 'SEA', 'LAX'),\n",
              " ('2014', '6', '11', 'SEA', 'LAX'),\n",
              " ('2014', '7', '4', 'SEA', 'LAX'),\n",
              " ('2014', '2', '28', 'SEA', 'LAX'),\n",
              " ('2014', '7', '30', 'SEA', 'LAX'),\n",
              " ('2014', '3', '24', 'PDX', 'LAX'),\n",
              " ('2014', '6', '24', 'SEA', 'LAX'),\n",
              " ('2014', '5', '23', 'PDX', 'LAX'),\n",
              " ('2014', '4', '16', 'SEA', 'LAX'),\n",
              " ('2014', '4', '30', 'SEA', 'LAX'),\n",
              " ('2014', '8', '7', 'PDX', 'LAX'),\n",
              " ('2014', '1', '25', 'SEA', 'LAX'),\n",
              " ('2014', '1', '3', 'SEA', 'LAX'),\n",
              " ('2014', '7', '9', 'SEA', 'LAX'),\n",
              " ('2014', '11', '21', 'SEA', 'LAX'),\n",
              " ('2014', '6', '23', 'SEA', 'LAX'),\n",
              " ('2014', '5', '15', 'PDX', 'LAX'),\n",
              " ('2014', '1', '18', 'PDX', 'LAX'),\n",
              " ('2014', '8', '19', 'SEA', 'LAX'),\n",
              " ('2014', '7', '13', 'PDX', 'LAX'),\n",
              " ('2014', '1', '1', 'SEA', 'LAX'),\n",
              " ('2014', '12', '22', 'PDX', 'LAX'),\n",
              " ('2014', '11', '24', 'PDX', 'LAX'),\n",
              " ('2014', '5', '19', 'PDX', 'LAX'),\n",
              " ('2014', '4', '18', 'SEA', 'LAX'),\n",
              " ('2014', '9', '26', 'SEA', 'LAX'),\n",
              " ('2014', '7', '16', 'SEA', 'HNL'),\n",
              " ('2014', '10', '29', 'SEA', 'LAX'),\n",
              " ('2014', '4', '24', 'SEA', 'LAX'),\n",
              " ('2014', '2', '24', 'SEA', 'LAX'),\n",
              " ('2014', '7', '24', 'SEA', 'LAX'),\n",
              " ('2014', '6', '29', 'SEA', 'HNL'),\n",
              " ('2014', '8', '4', 'SEA', 'LAX'),\n",
              " ('2014', '1', '12', 'SEA', 'LAX'),\n",
              " ('2014', '7', '8', 'SEA', 'LAX'),\n",
              " ('2014', '8', '19', 'SEA', 'LAX'),\n",
              " ('2014', '10', '16', 'SEA', 'LAX'),\n",
              " ('2014', '10', '10', 'PDX', 'LAX'),\n",
              " ('2014', '5', '1', 'SEA', 'HNL'),\n",
              " ('2014', '9', '11', 'PDX', 'LAX'),\n",
              " ('2014', '1', '8', 'SEA', 'LAX'),\n",
              " ('2014', '3', '14', 'SEA', 'LAX'),\n",
              " ('2014', '11', '10', 'SEA', 'LAX'),\n",
              " ('2014', '7', '10', 'SEA', 'HNL'),\n",
              " ('2014', '6', '25', 'PDX', 'HNL'),\n",
              " ('2014', '11', '20', 'SEA', 'LAX'),\n",
              " ('2014', '2', '4', 'PDX', 'LAX'),\n",
              " ('2014', '4', '12', 'PDX', 'LAX'),\n",
              " ('2014', '7', '28', 'SEA', 'LAX'),\n",
              " ('2014', '6', '29', 'PDX', 'HNL'),\n",
              " ('2014', '9', '12', 'SEA', 'HNL'),\n",
              " ('2014', '1', '20', 'SEA', 'LAX'),\n",
              " ('2014', '5', '7', 'SEA', 'LAX'),\n",
              " ('2014', '11', '21', 'SEA', 'HNL'),\n",
              " ('2014', '8', '22', 'SEA', 'LAX'),\n",
              " ('2014', '9', '2', 'SEA', 'LAX'),\n",
              " ('2014', '12', '7', 'PDX', 'LAX'),\n",
              " ('2014', '10', '7', 'SEA', 'LAX'),\n",
              " ('2014', '10', '6', 'SEA', 'LAX'),\n",
              " ('2014', '8', '8', 'SEA', 'LAX'),\n",
              " ('2014', '1', '12', 'PDX', 'LAX'),\n",
              " ('2014', '7', '19', 'SEA', 'LAX'),\n",
              " ('2014', '4', '21', 'SEA', 'HNL'),\n",
              " ('2014', '7', '19', 'SEA', 'LAX'),\n",
              " ('2014', '7', '30', 'SEA', 'LAX'),\n",
              " ('2014', '10', '22', 'SEA', 'LAX'),\n",
              " ('2014', '5', '20', 'SEA', 'LAX'),\n",
              " ('2014', '7', '21', 'SEA', 'LAX'),\n",
              " ('2014', '3', '1', 'PDX', 'LAX'),\n",
              " ('2014', '12', '11', 'SEA', 'LAX'),\n",
              " ('2014', '5', '1', 'SEA', 'LAX'),\n",
              " ('2014', '5', '29', 'PDX', 'LAX'),\n",
              " ('2014', '8', '15', 'SEA', 'LAX'),\n",
              " ('2014', '1', '9', 'PDX', 'LAX'),\n",
              " ('2014', '12', '29', 'SEA', 'HNL'),\n",
              " ('2014', '7', '11', 'PDX', 'HNL'),\n",
              " ('2014', '2', '11', 'SEA', 'HNL'),\n",
              " ('2014', '8', '20', 'SEA', 'LAX'),\n",
              " ('2014', '8', '4', 'SEA', 'HNL'),\n",
              " ('2014', '5', '21', 'PDX', 'LAX'),\n",
              " ('2014', '5', '21', 'PDX', 'HNL'),\n",
              " ('2014', '6', '15', 'PDX', 'LAX'),\n",
              " ('2014', '5', '24', 'SEA', 'HNL'),\n",
              " ('2014', '2', '6', 'SEA', 'LAX'),\n",
              " ('2014', '10', '12', 'SEA', 'LAX'),\n",
              " ('2014', '2', '19', 'SEA', 'LAX'),\n",
              " ('2014', '10', '15', 'SEA', 'LAX'),\n",
              " ('2014', '2', '1', 'SEA', 'LAX'),\n",
              " ('2014', '7', '15', 'SEA', 'LAX'),\n",
              " ('2014', '9', '16', 'SEA', 'LAX'),\n",
              " ('2014', '9', '6', 'SEA', 'HNL'),\n",
              " ('2014', '5', '28', 'PDX', 'LAX'),\n",
              " ('2014', '1', '19', 'SEA', 'LAX'),\n",
              " ('2014', '12', '28', 'SEA', 'LAX'),\n",
              " ('2014', '2', '1', 'PDX', 'LAX'),\n",
              " ('2014', '7', '14', 'SEA', 'LAX'),\n",
              " ('2014', '10', '17', 'PDX', 'HNL'),\n",
              " ('2014', '11', '7', 'SEA', 'LAX'),\n",
              " ('2014', '11', '4', 'SEA', 'LAX'),\n",
              " ('2014', '6', '24', 'PDX', 'LAX'),\n",
              " ('2014', '5', '26', 'SEA', 'LAX'),\n",
              " ('2014', '8', '12', 'SEA', 'LAX'),\n",
              " ('2014', '3', '30', 'PDX', 'LAX'),\n",
              " ('2014', '5', '15', 'SEA', 'LAX'),\n",
              " ('2014', '6', '27', 'SEA', 'LAX'),\n",
              " ('2014', '8', '26', 'SEA', 'LAX'),\n",
              " ('2014', '4', '13', 'SEA', 'LAX'),\n",
              " ('2014', '11', '26', 'PDX', 'HNL'),\n",
              " ('2014', '2', '16', 'SEA', 'LAX'),\n",
              " ('2014', '2', '25', 'PDX', 'LAX'),\n",
              " ('2014', '6', '1', 'PDX', 'LAX'),\n",
              " ('2014', '8', '11', 'PDX', 'HNL'),\n",
              " ('2014', '5', '7', 'SEA', 'LAX'),\n",
              " ('2014', '4', '17', 'PDX', 'HNL'),\n",
              " ('2014', '7', '21', 'SEA', 'LAX'),\n",
              " ('2014', '1', '20', 'SEA', 'LAX'),\n",
              " ('2014', '5', '19', 'SEA', 'LAX'),\n",
              " ('2014', '8', '27', 'PDX', 'LAX'),\n",
              " ('2014', '1', '24', 'PDX', 'HNL'),\n",
              " ('2014', '11', '10', 'SEA', 'LAX'),\n",
              " ('2014', '5', '3', 'SEA', 'LAX'),\n",
              " ('2014', '2', '1', 'SEA', 'LAX'),\n",
              " ('2014', '3', '29', 'SEA', 'HNL'),\n",
              " ('2014', '11', '16', 'SEA', 'LAX'),\n",
              " ('2014', '11', '19', 'PDX', 'HNL'),\n",
              " ('2014', '5', '7', 'SEA', 'LAX'),\n",
              " ('2014', '9', '18', 'SEA', 'HNL'),\n",
              " ('2014', '2', '16', 'SEA', 'HNL'),\n",
              " ('2014', '4', '8', 'SEA', 'LAX'),\n",
              " ('2014', '6', '9', 'SEA', 'HNL'),\n",
              " ('2014', '12', '23', 'SEA', 'HNL'),\n",
              " ('2014', '5', '13', 'SEA', 'LAX'),\n",
              " ('2014', '11', '22', 'PDX', 'LAX'),\n",
              " ('2014', '12', '17', 'SEA', 'LAX'),\n",
              " ('2014', '5', '29', 'PDX', 'LAX'),\n",
              " ('2014', '9', '19', 'SEA', 'LAX'),\n",
              " ('2014', '12', '1', 'SEA', 'HNL'),\n",
              " ('2014', '8', '17', 'SEA', 'LAX'),\n",
              " ('2014', '6', '7', 'SEA', 'LAX'),\n",
              " ('2014', '7', '8', 'SEA', 'LAX'),\n",
              " ('2014', '2', '15', 'SEA', 'HNL'),\n",
              " ('2014', '3', '14', 'SEA', 'HNL'),\n",
              " ('2014', '7', '2', 'SEA', 'LAX'),\n",
              " ('2014', '5', '30', 'SEA', 'LAX'),\n",
              " ('2014', '10', '4', 'SEA', 'LAX'),\n",
              " ('2014', '9', '15', 'SEA', 'LAX'),\n",
              " ('2014', '3', '6', 'SEA', 'LAX'),\n",
              " ('2014', '10', '2', 'SEA', 'LAX'),\n",
              " ('2014', '3', '21', 'SEA', 'LAX'),\n",
              " ('2014', '8', '6', 'PDX', 'LAX'),\n",
              " ('2014', '7', '3', 'SEA', 'LAX'),\n",
              " ('2014', '8', '5', 'SEA', 'LAX'),\n",
              " ('2014', '4', '29', 'SEA', 'HNL'),\n",
              " ('2014', '12', '16', 'SEA', 'LAX'),\n",
              " ('2014', '7', '15', 'PDX', 'LAX'),\n",
              " ('2014', '3', '26', 'PDX', 'LAX'),\n",
              " ('2014', '8', '22', 'SEA', 'LAX'),\n",
              " ('2014', '10', '22', 'SEA', 'LAX'),\n",
              " ('2014', '8', '5', 'SEA', 'LAX'),\n",
              " ('2014', '7', '22', 'PDX', 'LAX'),\n",
              " ('2014', '8', '24', 'SEA', 'HNL'),\n",
              " ('2014', '11', '18', 'SEA', 'LAX'),\n",
              " ('2014', '1', '3', 'SEA', 'LAX'),\n",
              " ('2014', '5', '13', 'PDX', 'LAX'),\n",
              " ('2014', '8', '30', 'SEA', 'LAX'),\n",
              " ('2014', '1', '22', 'SEA', 'LAX'),\n",
              " ('2014', '7', '2', 'PDX', 'LAX'),\n",
              " ('2014', '8', '20', 'PDX', 'LAX'),\n",
              " ('2014', '1', '18', 'SEA', 'LAX'),\n",
              " ('2014', '2', '7', 'SEA', 'LAX'),\n",
              " ('2014', '2', '19', 'SEA', 'LAX'),\n",
              " ('2014', '5', '29', 'SEA', 'LAX'),\n",
              " ('2014', '3', '29', 'SEA', 'HNL'),\n",
              " ('2014', '9', '26', 'SEA', 'HNL'),\n",
              " ('2014', '2', '26', 'PDX', 'LAX'),\n",
              " ('2014', '7', '28', 'SEA', 'LAX'),\n",
              " ('2014', '4', '30', 'SEA', 'LAX'),\n",
              " ('2014', '1', '15', 'PDX', 'HNL'),\n",
              " ('2014', '6', '14', 'SEA', 'LAX'),\n",
              " ('2014', '8', '7', 'PDX', 'HNL'),\n",
              " ('2014', '9', '10', 'SEA', 'LAX'),\n",
              " ('2014', '3', '9', 'SEA', 'LAX'),\n",
              " ('2014', '2', '2', 'SEA', 'HNL'),\n",
              " ('2014', '5', '14', 'SEA', 'LAX'),\n",
              " ('2014', '10', '4', 'SEA', 'LAX'),\n",
              " ('2014', '3', '5', 'SEA', 'HNL'),\n",
              " ('2014', '12', '21', 'SEA', 'LAX'),\n",
              " ('2014', '10', '1', 'SEA', 'LAX'),\n",
              " ('2014', '2', '12', 'SEA', 'LAX'),\n",
              " ('2014', '11', '1', 'SEA', 'LAX'),\n",
              " ('2014', '1', '25', 'SEA', 'LAX'),\n",
              " ('2014', '12', '8', 'SEA', 'LAX'),\n",
              " ('2014', '11', '13', 'SEA', 'LAX'),\n",
              " ('2014', '11', '10', 'SEA', 'HNL'),\n",
              " ('2014', '5', '19', 'SEA', 'LAX'),\n",
              " ('2014', '11', '16', 'SEA', 'LAX'),\n",
              " ('2014', '5', '5', 'PDX', 'LAX'),\n",
              " ('2014', '5', '14', 'SEA', 'HNL'),\n",
              " ('2014', '1', '10', 'SEA', 'LAX'),\n",
              " ('2014', '4', '28', 'SEA', 'LAX'),\n",
              " ('2014', '12', '26', 'SEA', 'LAX'),\n",
              " ('2014', '10', '26', 'PDX', 'HNL'),\n",
              " ('2014', '9', '29', 'SEA', 'LAX'),\n",
              " ('2014', '5', '6', 'SEA', 'LAX'),\n",
              " ('2014', '5', '14', 'SEA', 'LAX'),\n",
              " ('2014', '12', '30', 'SEA', 'LAX'),\n",
              " ('2014', '9', '8', 'SEA', 'LAX'),\n",
              " ('2014', '2', '9', 'SEA', 'LAX'),\n",
              " ('2014', '8', '3', 'PDX', 'HNL'),\n",
              " ('2014', '3', '15', 'SEA', 'LAX'),\n",
              " ('2014', '10', '24', 'PDX', 'LAX'),\n",
              " ('2014', '7', '19', 'SEA', 'HNL'),\n",
              " ('2014', '10', '13', 'SEA', 'LAX'),\n",
              " ('2014', '6', '3', 'SEA', 'LAX'),\n",
              " ('2014', '5', '9', 'SEA', 'HNL'),\n",
              " ('2014', '11', '24', 'SEA', 'HNL'),\n",
              " ('2014', '10', '8', 'PDX', 'HNL'),\n",
              " ('2014', '1', '29', 'SEA', 'LAX'),\n",
              " ('2014', '3', '3', 'SEA', 'LAX'),\n",
              " ('2014', '2', '5', 'PDX', 'LAX'),\n",
              " ('2014', '5', '6', 'SEA', 'LAX'),\n",
              " ('2014', '2', '24', 'SEA', 'HNL'),\n",
              " ('2014', '3', '30', 'PDX', 'LAX'),\n",
              " ('2014', '8', '17', 'SEA', 'LAX'),\n",
              " ('2014', '8', '29', 'SEA', 'LAX'),\n",
              " ('2014', '8', '15', 'SEA', 'LAX'),\n",
              " ('2014', '4', '10', 'PDX', 'LAX'),\n",
              " ('2014', '4', '12', 'SEA', 'HNL'),\n",
              " ('2014', '3', '10', 'SEA', 'LAX'),\n",
              " ('2014', '7', '30', 'SEA', 'LAX'),\n",
              " ('2014', '6', '1', 'PDX', 'LAX'),\n",
              " ('2014', '2', '2', 'PDX', 'LAX'),\n",
              " ('2014', '10', '30', 'SEA', 'LAX'),\n",
              " ('2014', '1', '8', 'SEA', 'LAX'),\n",
              " ('2014', '10', '31', 'SEA', 'LAX'),\n",
              " ('2014', '9', '6', 'SEA', 'LAX'),\n",
              " ('2014', '5', '15', 'PDX', 'LAX'),\n",
              " ('2014', '8', '7', 'SEA', 'LAX'),\n",
              " ('2014', '5', '23', 'SEA', 'LAX'),\n",
              " ('2014', '9', '12', 'PDX', 'LAX'),\n",
              " ('2014', '9', '5', 'SEA', 'LAX'),\n",
              " ('2014', '6', '17', 'PDX', 'HNL'),\n",
              " ('2014', '9', '5', 'SEA', 'LAX'),\n",
              " ('2014', '7', '28', 'SEA', 'HNL'),\n",
              " ('2014', '1', '29', 'SEA', 'LAX'),\n",
              " ('2014', '5', '24', 'PDX', 'LAX'),\n",
              " ('2014', '5', '15', 'SEA', 'LAX'),\n",
              " ('2014', '8', '27', 'SEA', 'LAX'),\n",
              " ('2014', '4', '26', 'PDX', 'LAX'),\n",
              " ('2014', '11', '30', 'PDX', 'LAX'),\n",
              " ('2014', '10', '28', 'SEA', 'LAX'),\n",
              " ('2014', '8', '3', 'SEA', 'LAX'),\n",
              " ('2014', '3', '23', 'SEA', 'LAX'),\n",
              " ('2014', '11', '27', 'PDX', 'LAX'),\n",
              " ('2014', '3', '26', 'SEA', 'LAX'),\n",
              " ('2014', '6', '12', 'SEA', 'LAX'),\n",
              " ('2014', '9', '29', 'SEA', 'LAX'),\n",
              " ('2014', '3', '4', 'SEA', 'LAX'),\n",
              " ('2014', '7', '2', 'SEA', 'LAX'),\n",
              " ('2014', '12', '21', 'PDX', 'LAX'),\n",
              " ('2014', '10', '30', 'SEA', 'LAX'),\n",
              " ('2014', '8', '10', 'SEA', 'HNL'),\n",
              " ('2014', '10', '22', 'SEA', 'LAX'),\n",
              " ('2014', '5', '22', 'SEA', 'LAX'),\n",
              " ('2014', '2', '3', 'PDX', 'LAX'),\n",
              " ('2014', '4', '14', 'SEA', 'LAX'),\n",
              " ('2014', '6', '20', 'SEA', 'LAX'),\n",
              " ('2014', '9', '5', 'SEA', 'LAX'),\n",
              " ('2014', '6', '8', 'PDX', 'LAX'),\n",
              " ('2014', '11', '6', 'SEA', 'HNL'),\n",
              " ('2014', '11', '8', 'PDX', 'LAX'),\n",
              " ('2014', '2', '8', 'PDX', 'HNL'),\n",
              " ('2014', '8', '3', 'PDX', 'LAX'),\n",
              " ('2014', '6', '8', 'SEA', 'LAX'),\n",
              " ('2014', '5', '30', 'PDX', 'LAX'),\n",
              " ('2014', '9', '30', 'SEA', 'HNL'),\n",
              " ('2014', '5', '15', 'SEA', 'LAX'),\n",
              " ('2014', '7', '30', 'SEA', 'HNL'),\n",
              " ('2014', '10', '16', 'SEA', 'LAX'),\n",
              " ('2014', '2', '28', 'SEA', 'LAX'),\n",
              " ('2014', '9', '22', 'SEA', 'LAX'),\n",
              " ('2014', '6', '19', 'PDX', 'LAX'),\n",
              " ('2014', '9', '29', 'SEA', 'LAX'),\n",
              " ('2014', '11', '24', 'SEA', 'LAX'),\n",
              " ('2014', '6', '14', 'PDX', 'LAX'),\n",
              " ('2014', '6', '15', 'PDX', 'HNL'),\n",
              " ('2014', '1', '22', 'PDX', 'LAX'),\n",
              " ('2014', '8', '8', 'PDX', 'LAX'),\n",
              " ('2014', '5', '27', 'SEA', 'LAX'),\n",
              " ('2014', '9', '19', 'PDX', 'LAX'),\n",
              " ('2014', '3', '6', 'SEA', 'HNL'),\n",
              " ('2014', '1', '12', 'SEA', 'HNL'),\n",
              " ('2014', '1', '30', 'SEA', 'HNL'),\n",
              " ('2014', '11', '21', 'SEA', 'LAX'),\n",
              " ('2014', '6', '23', 'SEA', 'LAX'),\n",
              " ('2014', '3', '22', 'SEA', 'LAX'),\n",
              " ('2014', '4', '4', 'SEA', 'LAX'),\n",
              " ('2014', '3', '6', 'SEA', 'HNL'),\n",
              " ('2014', '2', '6', 'SEA', 'LAX'),\n",
              " ('2014', '1', '10', 'SEA', 'LAX'),\n",
              " ('2014', '8', '8', 'PDX', 'LAX'),\n",
              " ('2014', '11', '10', 'SEA', 'LAX'),\n",
              " ('2014', '2', '24', 'PDX', 'LAX'),\n",
              " ('2014', '12', '31', 'SEA', 'LAX'),\n",
              " ('2014', '4', '7', 'SEA', 'LAX'),\n",
              " ('2014', '8', '28', 'SEA', 'LAX'),\n",
              " ('2014', '10', '6', 'SEA', 'LAX'),\n",
              " ('2014', '7', '6', 'PDX', 'LAX'),\n",
              " ('2014', '11', '30', 'SEA', 'LAX'),\n",
              " ('2014', '5', '15', 'SEA', 'LAX'),\n",
              " ('2014', '11', '15', 'SEA', 'HNL'),\n",
              " ('2014', '7', '26', 'SEA', 'LAX'),\n",
              " ('2014', '7', '18', 'SEA', 'LAX'),\n",
              " ('2014', '5', '7', 'SEA', 'HNL'),\n",
              " ('2014', '12', '12', 'SEA', 'LAX'),\n",
              " ('2014', '6', '8', 'PDX', 'LAX'),\n",
              " ('2014', '1', '13', 'SEA', 'LAX'),\n",
              " ('2014', '6', '18', 'PDX', 'LAX'),\n",
              " ('2014', '11', '13', 'SEA', 'LAX'),\n",
              " ('2014', '4', '12', 'PDX', 'LAX'),\n",
              " ('2014', '3', '18', 'SEA', 'LAX'),\n",
              " ('2014', '8', '26', 'SEA', 'LAX'),\n",
              " ('2014', '5', '8', 'SEA', 'LAX'),\n",
              " ('2014', '7', '16', 'PDX', 'LAX'),\n",
              " ('2014', '5', '27', 'SEA', 'LAX'),\n",
              " ('2014', '5', '30', 'PDX', 'LAX'),\n",
              " ('2014', '10', '29', 'SEA', 'LAX'),\n",
              " ('2014', '2', '11', 'SEA', 'LAX'),\n",
              " ('2014', '9', '6', 'SEA', 'LAX'),\n",
              " ('2014', '4', '30', 'SEA', 'LAX'),\n",
              " ('2014', '2', '21', 'SEA', 'HNL'),\n",
              " ('2014', '11', '2', 'SEA', 'LAX'),\n",
              " ('2014', '5', '15', 'SEA', 'LAX'),\n",
              " ('2014', '6', '27', 'SEA', 'HNL'),\n",
              " ('2014', '2', '12', 'SEA', 'LAX'),\n",
              " ('2014', '2', '1', 'PDX', 'HNL'),\n",
              " ('2014', '1', '18', 'PDX', 'HNL'),\n",
              " ('2014', '10', '31', 'SEA', 'LAX'),\n",
              " ('2014', '7', '5', 'PDX', 'LAX'),\n",
              " ('2014', '5', '13', 'SEA', 'LAX'),\n",
              " ('2014', '2', '2', 'SEA', 'LAX'),\n",
              " ('2014', '2', '14', 'SEA', 'LAX'),\n",
              " ('2014', '3', '14', 'PDX', 'LAX'),\n",
              " ('2014', '11', '13', 'SEA', 'LAX'),\n",
              " ('2014', '9', '19', 'SEA', 'LAX'),\n",
              " ('2014', '4', '24', 'SEA', 'HNL'),\n",
              " ('2014', '7', '22', 'SEA', 'LAX'),\n",
              " ('2014', '1', '22', 'SEA', 'LAX'),\n",
              " ('2014', '9', '14', 'SEA', 'LAX'),\n",
              " ('2014', '4', '10', 'SEA', 'LAX'),\n",
              " ('2014', '12', '29', 'SEA', 'LAX'),\n",
              " ('2014', '8', '4', 'SEA', 'LAX'),\n",
              " ('2014', '9', '23', 'SEA', 'LAX'),\n",
              " ('2014', '2', '19', 'SEA', 'LAX'),\n",
              " ('2014', '11', '24', 'PDX', 'LAX'),\n",
              " ('2014', '10', '11', 'SEA', 'LAX'),\n",
              " ('2014', '7', '2', 'SEA', 'LAX'),\n",
              " ('2014', '4', '9', 'SEA', 'LAX'),\n",
              " ('2014', '2', '4', 'SEA', 'LAX'),\n",
              " ('2014', '6', '1', 'SEA', 'LAX'),\n",
              " ('2014', '3', '9', 'SEA', 'HNL'),\n",
              " ('2014', '11', '18', 'PDX', 'HNL'),\n",
              " ('2014', '3', '19', 'SEA', 'LAX'),\n",
              " ('2014', '5', '20', 'SEA', 'LAX'),\n",
              " ('2014', '9', '24', 'PDX', 'HNL'),\n",
              " ('2014', '5', '6', 'PDX', 'HNL'),\n",
              " ('2014', '10', '7', 'SEA', 'LAX'),\n",
              " ('2014', '5', '22', 'SEA', 'LAX'),\n",
              " ('2014', '8', '28', 'SEA', 'LAX'),\n",
              " ('2014', '3', '16', 'SEA', 'HNL'),\n",
              " ('2014', '2', '15', 'SEA', 'LAX'),\n",
              " ('2014', '7', '28', 'SEA', 'HNL'),\n",
              " ('2014', '11', '23', 'PDX', 'LAX'),\n",
              " ('2014', '8', '9', 'SEA', 'LAX'),\n",
              " ('2014', '10', '16', 'SEA', 'LAX'),\n",
              " ('2014', '4', '26', 'SEA', 'LAX'),\n",
              " ('2014', '12', '4', 'PDX', 'LAX'),\n",
              " ('2014', '1', '19', 'SEA', 'LAX'),\n",
              " ('2014', '11', '26', 'SEA', 'LAX'),\n",
              " ('2014', '11', '20', 'SEA', 'LAX'),\n",
              " ('2014', '3', '12', 'SEA', 'HNL'),\n",
              " ('2014', '1', '22', 'SEA', 'LAX'),\n",
              " ('2014', '9', '12', 'SEA', 'LAX'),\n",
              " ('2014', '10', '21', 'SEA', 'LAX'),\n",
              " ('2014', '9', '16', 'SEA', 'LAX'),\n",
              " ('2014', '11', '9', 'SEA', 'HNL'),\n",
              " ('2014', '3', '3', 'PDX', 'LAX'),\n",
              " ('2014', '4', '17', 'SEA', 'LAX'),\n",
              " ('2014', '6', '14', 'PDX', 'LAX'),\n",
              " ('2014', '8', '25', 'SEA', 'LAX'),\n",
              " ('2014', '5', '11', 'SEA', 'LAX'),\n",
              " ('2014', '10', '15', 'PDX', 'HNL'),\n",
              " ('2014', '10', '21', 'PDX', 'LAX'),\n",
              " ('2014', '7', '11', 'PDX', 'LAX'),\n",
              " ('2014', '5', '27', 'PDX', 'LAX'),\n",
              " ('2014', '3', '4', 'PDX', 'HNL'),\n",
              " ('2014', '10', '14', 'SEA', 'LAX'),\n",
              " ('2014', '3', '11', 'PDX', 'LAX'),\n",
              " ('2014', '5', '4', 'SEA', 'LAX'),\n",
              " ('2014', '8', '8', 'PDX', 'LAX'),\n",
              " ('2014', '1', '18', 'SEA', 'LAX'),\n",
              " ('2014', '3', '18', 'SEA', 'LAX'),\n",
              " ('2014', '8', '1', 'SEA', 'LAX'),\n",
              " ('2014', '7', '11', 'SEA', 'HNL'),\n",
              " ('2014', '4', '16', 'PDX', 'LAX'),\n",
              " ('2014', '11', '9', 'PDX', 'LAX'),\n",
              " ('2014', '12', '26', 'SEA', 'HNL'),\n",
              " ('2014', '3', '20', 'SEA', 'LAX'),\n",
              " ('2014', '4', '17', 'SEA', 'LAX'),\n",
              " ('2014', '9', '21', 'SEA', 'LAX'),\n",
              " ('2014', '6', '30', 'SEA', 'LAX'),\n",
              " ('2014', '7', '31', 'SEA', 'LAX'),\n",
              " ('2014', '10', '24', 'SEA', 'HNL'),\n",
              " ('2014', '1', '17', 'PDX', 'LAX'),\n",
              " ('2014', '4', '30', 'SEA', 'LAX'),\n",
              " ('2014', '6', '16', 'SEA', 'LAX'),\n",
              " ('2014', '3', '1', 'SEA', 'LAX'),\n",
              " ('2014', '10', '6', 'SEA', 'LAX'),\n",
              " ('2014', '10', '22', 'SEA', 'LAX'),\n",
              " ('2014', '10', '9', 'SEA', 'LAX'),\n",
              " ('2014', '7', '17', 'PDX', 'LAX'),\n",
              " ('2014', '3', '7', 'PDX', 'LAX'),\n",
              " ('2014', '9', '7', 'SEA', 'LAX'),\n",
              " ('2014', '9', '2', 'SEA', 'LAX'),\n",
              " ('2014', '4', '30', 'SEA', 'LAX'),\n",
              " ('2014', '2', '10', 'SEA', 'HNL'),\n",
              " ('2014', '2', '7', 'SEA', 'LAX'),\n",
              " ('2014', '8', '30', 'PDX', 'LAX'),\n",
              " ('2014', '5', '2', 'SEA', 'LAX'),\n",
              " ('2014', '1', '8', 'PDX', 'LAX'),\n",
              " ('2014', '12', '23', 'SEA', 'LAX'),\n",
              " ('2014', '1', '7', 'SEA', 'LAX'),\n",
              " ('2014', '5', '24', 'SEA', 'LAX'),\n",
              " ('2014', '8', '15', 'SEA', 'LAX'),\n",
              " ('2014', '5', '16', 'PDX', 'LAX'),\n",
              " ('2014', '3', '7', 'SEA', 'LAX'),\n",
              " ('2014', '3', '10', 'PDX', 'LAX'),\n",
              " ('2014', '6', '30', 'SEA', 'LAX'),\n",
              " ('2014', '1', '10', 'PDX', 'LAX'),\n",
              " ('2014', '5', '7', 'SEA', 'LAX'),\n",
              " ('2014', '8', '13', 'SEA', 'LAX'),\n",
              " ('2014', '5', '30', 'SEA', 'LAX'),\n",
              " ('2014', '5', '9', 'PDX', 'LAX'),\n",
              " ('2014', '3', '9', 'SEA', 'LAX'),\n",
              " ('2014', '3', '13', 'SEA', 'HNL'),\n",
              " ('2014', '7', '20', 'PDX', 'HNL'),\n",
              " ('2014', '9', '25', 'PDX', 'HNL'),\n",
              " ('2014', '10', '2', 'PDX', 'HNL'),\n",
              " ('2014', '6', '18', 'SEA', 'LAX'),\n",
              " ('2014', '12', '3', 'SEA', 'LAX'),\n",
              " ('2014', '1', '27', 'SEA', 'LAX'),\n",
              " ('2014', '3', '9', 'SEA', 'LAX'),\n",
              " ('2014', '5', '22', 'SEA', 'LAX'),\n",
              " ('2014', '8', '16', 'SEA', 'LAX'),\n",
              " ('2014', '11', '20', 'SEA', 'LAX'),\n",
              " ('2014', '3', '16', 'SEA', 'LAX'),\n",
              " ('2014', '11', '21', 'SEA', 'LAX'),\n",
              " ('2014', '1', '8', 'PDX', 'LAX'),\n",
              " ('2014', '7', '21', 'SEA', 'LAX'),\n",
              " ('2014', '8', '27', 'PDX', 'LAX'),\n",
              " ('2014', '9', '11', 'PDX', 'LAX'),\n",
              " ('2014', '3', '8', 'SEA', 'HNL'),\n",
              " ('2014', '12', '19', 'SEA', 'LAX'),\n",
              " ('2014', '1', '2', 'PDX', 'LAX'),\n",
              " ('2014', '10', '12', 'SEA', 'LAX'),\n",
              " ('2014', '3', '3', 'SEA', 'LAX'),\n",
              " ('2014', '3', '26', 'SEA', 'LAX'),\n",
              " ('2014', '4', '30', 'SEA', 'HNL'),\n",
              " ('2014', '5', '2', 'PDX', 'LAX'),\n",
              " ('2014', '1', '1', 'SEA', 'LAX'),\n",
              " ('2014', '5', '9', 'SEA', 'LAX'),\n",
              " ('2014', '8', '1', 'SEA', 'LAX'),\n",
              " ('2014', '11', '7', 'SEA', 'LAX'),\n",
              " ('2014', '4', '3', 'SEA', 'LAX'),\n",
              " ('2014', '11', '13', 'SEA', 'LAX'),\n",
              " ('2014', '11', '7', 'PDX', 'LAX'),\n",
              " ('2014', '1', '25', 'SEA', 'LAX'),\n",
              " ('2014', '9', '20', 'PDX', 'LAX'),\n",
              " ('2014', '9', '18', 'SEA', 'LAX'),\n",
              " ('2014', '11', '24', 'SEA', 'LAX'),\n",
              " ('2014', '11', '19', 'SEA', 'LAX'),\n",
              " ('2014', '10', '9', 'SEA', 'LAX'),\n",
              " ('2014', '8', '9', 'SEA', 'HNL'),\n",
              " ('2014', '2', '16', 'SEA', 'LAX'),\n",
              " ('2014', '2', '13', 'SEA', 'LAX'),\n",
              " ('2014', '10', '19', 'SEA', 'HNL'),\n",
              " ('2014', '7', '5', 'SEA', 'LAX'),\n",
              " ('2014', '5', '21', 'SEA', 'LAX'),\n",
              " ('2014', '6', '19', 'PDX', 'LAX'),\n",
              " ('2014', '11', '14', 'SEA', 'LAX'),\n",
              " ('2014', '4', '13', 'SEA', 'LAX'),\n",
              " ('2014', '10', '21', 'SEA', 'LAX'),\n",
              " ('2014', '2', '3', 'SEA', 'LAX'),\n",
              " ('2014', '10', '1', 'PDX', 'HNL'),\n",
              " ('2014', '11', '13', 'PDX', 'HNL'),\n",
              " ('2014', '2', '19', 'SEA', 'LAX'),\n",
              " ('2014', '8', '27', 'PDX', 'LAX'),\n",
              " ('2014', '1', '22', 'SEA', 'LAX'),\n",
              " ('2014', '12', '26', 'SEA', 'LAX'),\n",
              " ('2014', '11', '4', 'SEA', 'LAX'),\n",
              " ('2014', '4', '1', 'PDX', 'HNL'),\n",
              " ('2014', '9', '28', 'PDX', 'HNL'),\n",
              " ('2014', '6', '9', 'SEA', 'LAX'),\n",
              " ('2014', '5', '22', 'SEA', 'LAX'),\n",
              " ('2014', '5', '13', 'SEA', 'LAX'),\n",
              " ('2014', '7', '23', 'SEA', 'LAX'),\n",
              " ('2014', '1', '17', 'SEA', 'LAX'),\n",
              " ('2014', '10', '14', 'PDX', 'LAX'),\n",
              " ('2014', '5', '17', 'PDX', 'HNL'),\n",
              " ('2014', '4', '14', 'PDX', 'LAX'),\n",
              " ('2014', '1', '24', 'SEA', 'LAX'),\n",
              " ('2014', '11', '23', 'PDX', 'HNL'),\n",
              " ('2014', '3', '8', 'SEA', 'HNL'),\n",
              " ('2014', '9', '24', 'PDX', 'LAX'),\n",
              " ('2014', '3', '26', 'SEA', 'HNL'),\n",
              " ('2014', '10', '1', 'SEA', 'LAX'),\n",
              " ('2014', '7', '30', 'PDX', 'LAX'),\n",
              " ('2014', '4', '23', 'SEA', 'HNL'),\n",
              " ('2014', '10', '15', 'SEA', 'LAX'),\n",
              " ('2014', '5', '23', 'SEA', 'LAX'),\n",
              " ('2014', '8', '30', 'SEA', 'HNL'),\n",
              " ('2014', '2', '1', 'SEA', 'LAX'),\n",
              " ('2014', '5', '28', 'PDX', 'HNL'),\n",
              " ('2014', '8', '9', 'SEA', 'LAX'),\n",
              " ('2014', '8', '2', 'SEA', 'LAX'),\n",
              " ('2014', '1', '14', 'PDX', 'LAX'),\n",
              " ('2014', '12', '18', 'SEA', 'LAX'),\n",
              " ('2014', '7', '30', 'PDX', 'HNL'),\n",
              " ('2014', '3', '26', 'PDX', 'HNL'),\n",
              " ('2014', '4', '25', 'SEA', 'LAX'),\n",
              " ('2014', '9', '7', 'SEA', 'HNL'),\n",
              " ('2014', '2', '14', 'SEA', 'LAX'),\n",
              " ('2014', '4', '9', 'SEA', 'LAX'),\n",
              " ('2014', '3', '17', 'SEA', 'HNL'),\n",
              " ('2014', '3', '31', 'PDX', 'LAX'),\n",
              " ('2014', '9', '24', 'SEA', 'LAX'),\n",
              " ('2014', '2', '21', 'SEA', 'LAX'),\n",
              " ('2014', '8', '15', 'SEA', 'LAX'),\n",
              " ('2014', '5', '24', 'SEA', 'LAX'),\n",
              " ('2014', '1', '27', 'SEA', 'LAX'),\n",
              " ('2014', '4', '21', 'SEA', 'LAX'),\n",
              " ('2014', '3', '26', 'PDX', 'LAX'),\n",
              " ('2014', '4', '6', 'SEA', 'LAX'),\n",
              " ('2014', '4', '15', 'SEA', 'LAX'),\n",
              " ('2014', '3', '2', 'SEA', 'LAX'),\n",
              " ('2014', '1', '9', 'SEA', 'LAX'),\n",
              " ('2014', '12', '4', 'SEA', 'LAX'),\n",
              " ('2014', '6', '23', 'SEA', 'LAX'),\n",
              " ('2014', '5', '9', 'PDX', 'LAX'),\n",
              " ('2014', '3', '14', 'PDX', 'LAX'),\n",
              " ('2014', '2', '14', 'SEA', 'LAX'),\n",
              " ('2014', '6', '28', 'PDX', 'HNL'),\n",
              " ('2014', '10', '23', 'PDX', 'LAX'),\n",
              " ('2014', '11', '26', 'SEA', 'LAX'),\n",
              " ('2014', '7', '21', 'SEA', 'HNL'),\n",
              " ('2014', '10', '5', 'SEA', 'HNL'),\n",
              " ('2014', '8', '7', 'SEA', 'HNL'),\n",
              " ('2014', '8', '25', 'PDX', 'LAX'),\n",
              " ('2014', '2', '10', 'SEA', 'LAX'),\n",
              " ('2014', '9', '19', 'SEA', 'LAX'),\n",
              " ('2014', '10', '26', 'SEA', 'LAX'),\n",
              " ('2014', '7', '30', 'SEA', 'LAX'),\n",
              " ('2014', '6', '9', 'PDX', 'LAX'),\n",
              " ('2014', '2', '13', 'PDX', 'LAX'),\n",
              " ('2014', '5', '15', 'SEA', 'LAX'),\n",
              " ('2014', '10', '31', 'SEA', 'LAX'),\n",
              " ('2014', '3', '13', 'SEA', 'LAX'),\n",
              " ('2014', '5', '1', 'PDX', 'LAX'),\n",
              " ('2014', '11', '23', 'SEA', 'LAX'),\n",
              " ('2014', '5', '13', 'SEA', 'LAX'),\n",
              " ('2014', '9', '12', 'SEA', 'LAX'),\n",
              " ('2014', '11', '21', 'SEA', 'LAX'),\n",
              " ('2014', '3', '21', 'SEA', 'LAX'),\n",
              " ('2014', '5', '8', 'SEA', 'LAX'),\n",
              " ('2014', '9', '7', 'SEA', 'LAX'),\n",
              " ('2014', '9', '23', 'SEA', 'HNL'),\n",
              " ('2014', '11', '17', 'SEA', 'LAX'),\n",
              " ('2014', '10', '7', 'PDX', 'LAX'),\n",
              " ('2014', '9', '26', 'SEA', 'LAX'),\n",
              " ('2014', '6', '8', 'PDX', 'LAX'),\n",
              " ('2014', '12', '13', 'SEA', 'LAX'),\n",
              " ('2014', '1', '24', 'SEA', 'LAX'),\n",
              " ('2014', '6', '14', 'SEA', 'LAX'),\n",
              " ('2014', '12', '26', 'PDX', 'HNL'),\n",
              " ('2014', '11', '28', 'SEA', 'LAX'),\n",
              " ('2014', '8', '4', 'SEA', 'LAX'),\n",
              " ('2014', '9', '22', 'SEA', 'HNL'),\n",
              " ('2014', '5', '16', 'PDX', 'LAX'),\n",
              " ('2014', '8', '28', 'SEA', 'LAX'),\n",
              " ('2014', '2', '13', 'PDX', 'LAX'),\n",
              " ('2014', '10', '3', 'SEA', 'LAX'),\n",
              " ('2014', '10', '24', 'PDX', 'LAX'),\n",
              " ('2014', '8', '13', 'SEA', 'HNL'),\n",
              " ('2014', '12', '31', 'PDX', 'LAX'),\n",
              " ('2014', '9', '27', 'SEA', 'LAX'),\n",
              " ('2014', '4', '15', 'SEA', 'LAX'),\n",
              " ('2014', '6', '29', 'SEA', 'LAX'),\n",
              " ('2014', '5', '23', 'SEA', 'LAX'),\n",
              " ('2014', '3', '28', 'SEA', 'LAX'),\n",
              " ('2014', '8', '19', 'SEA', 'LAX'),\n",
              " ('2014', '3', '1', 'SEA', 'LAX'),\n",
              " ('2014', '11', '20', 'SEA', 'LAX'),\n",
              " ('2014', '8', '18', 'PDX', 'LAX'),\n",
              " ('2014', '6', '23', 'SEA', 'LAX'),\n",
              " ('2014', '6', '20', 'PDX', 'LAX'),\n",
              " ('2014', '7', '6', 'SEA', 'HNL'),\n",
              " ('2014', '8', '17', 'SEA', 'LAX'),\n",
              " ('2014', '2', '8', 'PDX', 'LAX'),\n",
              " ('2014', '5', '9', 'PDX', 'HNL'),\n",
              " ('2014', '6', '23', 'SEA', 'LAX'),\n",
              " ('2014', '6', '16', 'SEA', 'HNL'),\n",
              " ('2014', '9', '5', 'PDX', 'LAX'),\n",
              " ('2014', '5', '5', 'PDX', 'LAX'),\n",
              " ('2014', '2', '1', 'SEA', 'LAX'),\n",
              " ('2014', '7', '17', 'PDX', 'LAX'),\n",
              " ('2014', '7', '22', 'PDX', 'LAX'),\n",
              " ('2014', '3', '7', 'SEA', 'HNL'),\n",
              " ('2014', '5', '17', 'PDX', 'LAX'),\n",
              " ('2014', '6', '17', 'SEA', 'LAX'),\n",
              " ('2014', '5', '1', 'SEA', 'LAX'),\n",
              " ('2014', '4', '18', 'SEA', 'LAX'),\n",
              " ('2014', '8', '30', 'SEA', 'LAX'),\n",
              " ('2014', '9', '13', 'SEA', 'LAX'),\n",
              " ('2014', '11', '2', 'PDX', 'LAX'),\n",
              " ('2014', '9', '28', 'SEA', 'LAX'),\n",
              " ('2014', '4', '25', 'SEA', 'LAX'),\n",
              " ('2014', '12', '26', 'SEA', 'LAX'),\n",
              " ('2014', '10', '7', 'PDX', 'LAX'),\n",
              " ('2014', '2', '27', 'SEA', 'LAX'),\n",
              " ('2014', '7', '30', 'SEA', 'LAX'),\n",
              " ('2014', '4', '5', 'PDX', 'LAX'),\n",
              " ('2014', '4', '28', 'SEA', 'LAX'),\n",
              " ('2014', '3', '10', 'PDX', 'LAX'),\n",
              " ('2014', '8', '20', 'SEA', 'HNL'),\n",
              " ('2014', '2', '11', 'SEA', 'HNL'),\n",
              " ('2014', '1', '18', 'SEA', 'HNL'),\n",
              " ('2014', '10', '15', 'PDX', 'LAX'),\n",
              " ('2014', '4', '10', 'SEA', 'LAX'),\n",
              " ('2014', '8', '28', 'PDX', 'LAX'),\n",
              " ('2014', '5', '21', 'SEA', 'LAX'),\n",
              " ('2014', '3', '3', 'PDX', 'LAX'),\n",
              " ('2014', '4', '24', 'SEA', 'LAX'),\n",
              " ('2014', '9', '10', 'PDX', 'HNL'),\n",
              " ('2014', '6', '16', 'PDX', 'LAX'),\n",
              " ('2014', '4', '2', 'SEA', 'HNL'),\n",
              " ('2014', '7', '11', 'SEA', 'LAX'),\n",
              " ('2014', '1', '19', 'SEA', 'LAX'),\n",
              " ('2014', '9', '23', 'SEA', 'LAX'),\n",
              " ('2014', '8', '10', 'SEA', 'LAX'),\n",
              " ('2014', '2', '22', 'PDX', 'LAX'),\n",
              " ('2014', '12', '27', 'PDX', 'LAX'),\n",
              " ('2014', '2', '5', 'PDX', 'LAX'),\n",
              " ('2014', '5', '23', 'SEA', 'LAX'),\n",
              " ('2014', '10', '1', 'SEA', 'LAX'),\n",
              " ('2014', '3', '26', 'PDX', 'LAX'),\n",
              " ('2014', '11', '3', 'SEA', 'LAX'),\n",
              " ('2014', '10', '22', 'PDX', 'HNL'),\n",
              " ('2014', '12', '5', 'SEA', 'LAX'),\n",
              " ('2014', '9', '23', 'SEA', 'LAX'),\n",
              " ('2014', '9', '17', 'SEA', 'LAX'),\n",
              " ('2014', '7', '26', 'SEA', 'LAX'),\n",
              " ('2014', '8', '23', 'PDX', 'HNL'),\n",
              " ('2014', '11', '22', 'PDX', 'LAX'),\n",
              " ('2014', '4', '6', 'SEA', 'LAX'),\n",
              " ('2014', '4', '19', 'SEA', 'HNL'),\n",
              " ('2014', '5', '7', 'SEA', 'LAX'),\n",
              " ('2014', '9', '7', 'SEA', 'HNL'),\n",
              " ('2014', '11', '24', 'PDX', 'LAX'),\n",
              " ('2014', '7', '21', 'PDX', 'LAX'),\n",
              " ('2014', '7', '19', 'PDX', 'LAX'),\n",
              " ('2014', '2', '5', 'SEA', 'LAX'),\n",
              " ('2014', '3', '5', 'PDX', 'HNL'),\n",
              " ('2014', '10', '18', 'SEA', 'LAX'),\n",
              " ('2014', '1', '18', 'SEA', 'LAX'),\n",
              " ('2014', '2', '6', 'PDX', 'LAX'),\n",
              " ('2014', '1', '7', 'PDX', 'HNL'),\n",
              " ('2014', '6', '27', 'PDX', 'LAX'),\n",
              " ('2014', '12', '19', 'PDX', 'LAX'),\n",
              " ('2014', '8', '21', 'SEA', 'LAX'),\n",
              " ('2014', '5', '30', 'SEA', 'LAX'),\n",
              " ('2014', '4', '17', 'PDX', 'LAX'),\n",
              " ('2014', '10', '13', 'PDX', 'HNL'),\n",
              " ('2014', '10', '14', 'SEA', 'LAX'),\n",
              " ('2014', '2', '8', 'SEA', 'HNL'),\n",
              " ('2014', '4', '7', 'SEA', 'LAX'),\n",
              " ('2014', '8', '5', 'PDX', 'LAX'),\n",
              " ('2014', '11', '7', 'SEA', 'LAX'),\n",
              " ('2014', '6', '14', 'SEA', 'LAX'),\n",
              " ('2014', '11', '14', 'SEA', 'LAX'),\n",
              " ('2014', '4', '18', 'SEA', 'LAX'),\n",
              " ('2014', '5', '1', 'SEA', 'LAX'),\n",
              " ('2014', '2', '10', 'SEA', 'LAX'),\n",
              " ('2014', '2', '5', 'SEA', 'LAX'),\n",
              " ('2014', '7', '13', 'SEA', 'HNL')]"
            ]
          },
          "metadata": {},
          "execution_count": 81
        }
      ],
      "source": [
        "# Car name is column  0\n",
        "(cars_rest.filter(lambda line: line.split(\",\")[11] in ['LAX','HNL']).\n",
        " map(lambda line: (line.split(\",\")[0],\n",
        "    line.split(\",\")[1],\n",
        "    line.split(\",\")[2],\n",
        "    line.split(\",\")[10],\n",
        "    line.split(\",\")[11])).collect())"
      ]
    },
    {
      "cell_type": "markdown",
      "metadata": {
        "id": "3wn2zXe7TbI3"
      },
      "source": [
        "<a id='user-defined-functions-udf'></a>\n",
        "## User-Defined Functions (UDF)"
      ]
    },
    {
      "cell_type": "markdown",
      "metadata": {
        "id": "oVwGYAZZiyGV"
      },
      "source": [
        "<a id='creating-dataframes'></a>\n",
        "## Creating Dataframes"
      ]
    },
    {
      "cell_type": "markdown",
      "metadata": {
        "id": "TvndhPjoi0er"
      },
      "source": [
        "When getting started with dataframes, the most common question is: *'How do I create a dataframe?'* <br> \n",
        "Below, you can see how to create three kinds of dataframes:"
      ]
    },
    {
      "cell_type": "markdown",
      "metadata": {
        "id": "QXmRD3hHlM-f"
      },
      "source": [
        "### Create a totally empty dataframe"
      ]
    },
    {
      "cell_type": "code",
      "execution_count": 57,
      "metadata": {
        "colab": {
          "base_uri": "https://localhost:8080/"
        },
        "id": "ktkb6s-kjtgG",
        "outputId": "a441ee46-232e-4c27-be99-a4d64904c14e"
      },
      "outputs": [
        {
          "output_type": "stream",
          "name": "stdout",
          "text": [
            "++\n",
            "||\n",
            "++\n",
            "++\n",
            "\n"
          ]
        }
      ],
      "source": [
        "from pyspark.sql.types import StructType\n",
        "sc = spark.sparkContext\n",
        "#Create empty df\n",
        "schema = StructType([])\n",
        "empty = spark.createDataFrame(sc.emptyRDD(), schema)\n",
        "empty.show()"
      ]
    },
    {
      "cell_type": "markdown",
      "metadata": {
        "id": "mg5K3nz_lSDe"
      },
      "source": [
        "### Create an empty dataframe with header"
      ]
    },
    {
      "cell_type": "code",
      "execution_count": 58,
      "metadata": {
        "colab": {
          "base_uri": "https://localhost:8080/"
        },
        "id": "9raf4CkRjuTr",
        "outputId": "19255463-b909-4085-d3e1-edff0ec0c89b"
      },
      "outputs": [
        {
          "output_type": "stream",
          "name": "stdout",
          "text": [
            "+----+\n",
            "|name|\n",
            "+----+\n",
            "+----+\n",
            "\n"
          ]
        }
      ],
      "source": [
        "from pyspark.sql.types import StructType, StructField\n",
        "#Create empty df with header\n",
        "schema_header = StructType([StructField(\"name\", StringType(), True)])\n",
        "empty_with_header = spark.createDataFrame(sc.emptyRDD(), schema_header)\n",
        "empty_with_header.show()"
      ]
    },
    {
      "cell_type": "markdown",
      "metadata": {
        "id": "Y1ZNOx7ilUnd"
      },
      "source": [
        "### Create a dataframe with header and data"
      ]
    },
    {
      "cell_type": "code",
      "execution_count": 59,
      "metadata": {
        "colab": {
          "base_uri": "https://localhost:8080/"
        },
        "id": "TvzyL46QkJBl",
        "outputId": "163362a6-3b03-4cd2-da53-98058deb6368"
      },
      "outputs": [
        {
          "output_type": "stream",
          "name": "stdout",
          "text": [
            "+-----+---+\n",
            "| name|age|\n",
            "+-----+---+\n",
            "|Alice| 13|\n",
            "|Jacob| 24|\n",
            "|Betty|135|\n",
            "+-----+---+\n",
            "\n"
          ]
        }
      ],
      "source": [
        "from pyspark.sql import Row\n",
        "mylist = [\n",
        "  {\"name\":'Alice',\"age\":13},\n",
        "  {\"name\":'Jacob',\"age\":24},\n",
        "  {\"name\":'Betty',\"age\":135},\n",
        "]\n",
        "spark.createDataFrame(Row(**x) for x in mylist).show()"
      ]
    },
    {
      "cell_type": "code",
      "execution_count": 60,
      "metadata": {
        "colab": {
          "base_uri": "https://localhost:8080/"
        },
        "id": "VnRMckA5nLoJ",
        "outputId": "1618794c-e780-4690-c253-dd3b99c4c1db"
      },
      "outputs": [
        {
          "output_type": "stream",
          "name": "stdout",
          "text": [
            "+-----+---+\n",
            "| name|age|\n",
            "+-----+---+\n",
            "|Alice| 13|\n",
            "|Jacob| 24|\n",
            "|Betty|135|\n",
            "+-----+---+\n",
            "\n"
          ]
        }
      ],
      "source": [
        "# You can achieve the same using this - note that we are using spark context here, not a spark session\n",
        "from pyspark.sql import Row\n",
        "df = sc.parallelize([\n",
        "        Row(name='Alice', age=13),\n",
        "        Row(name='Jacob', age=24),\n",
        "        Row(name='Betty', age=135)]).toDF()\n",
        "df.show()"
      ]
    },
    {
      "cell_type": "markdown",
      "metadata": {
        "id": "f3crkAQVlxKp"
      },
      "source": [
        "<a id='drop-duplicates'></a>\n",
        "## Drop Duplicates"
      ]
    },
    {
      "cell_type": "markdown",
      "metadata": {
        "id": "4IHrYEwHmBcc"
      },
      "source": [
        "As mentioned earlier, there are two easy to remove duplicates from a dataframe. We have already seen the usage of distinct under <a href=\"#get-distinct-rows\">Get Distinct Rows</a>  section. \n",
        "I will expalin how to use the `dropDuplicates()` function to achieve the same. \n",
        "\n",
        "> `drop_duplicates()` is an alias for `dropDuplicates()`"
      ]
    },
    {
      "cell_type": "code",
      "execution_count": 61,
      "metadata": {
        "colab": {
          "base_uri": "https://localhost:8080/"
        },
        "id": "wOuHRAPJmWen",
        "outputId": "22ccd10b-c8b4-41c4-a0eb-3ed1c344eb2c"
      },
      "outputs": [
        {
          "output_type": "stream",
          "name": "stdout",
          "text": [
            "+-----+---+------+\n",
            "| name|age|height|\n",
            "+-----+---+------+\n",
            "|Alice|  5|    80|\n",
            "|Jacob| 24|    80|\n",
            "+-----+---+------+\n",
            "\n"
          ]
        }
      ],
      "source": [
        "from pyspark.sql import Row\n",
        "from pyspark.sql import Row\n",
        "mylist = [\n",
        "  {\"name\":'Alice',\"age\":5,\"height\":80},\n",
        "  {\"name\":'Jacob',\"age\":24,\"height\":80},\n",
        "  {\"name\":'Alice',\"age\":5,\"height\":80}\n",
        "]\n",
        "df = spark.createDataFrame(Row(**x) for x in mylist)\n",
        "df.dropDuplicates().show()"
      ]
    },
    {
      "cell_type": "markdown",
      "metadata": {
        "id": "zMv7A-2Hnmjh"
      },
      "source": [
        "`dropDuplicates()` can also take in an optional parameter called *subset* which helps specify the columns on which the duplicate check needs to be done on."
      ]
    },
    {
      "cell_type": "code",
      "execution_count": 62,
      "metadata": {
        "colab": {
          "base_uri": "https://localhost:8080/"
        },
        "id": "SHnFylV1n8to",
        "outputId": "d8cfd033-7066-460f-b413-6eed642d5b5f"
      },
      "outputs": [
        {
          "output_type": "stream",
          "name": "stdout",
          "text": [
            "+-----+---+------+\n",
            "| name|age|height|\n",
            "+-----+---+------+\n",
            "|Alice|  5|    80|\n",
            "+-----+---+------+\n",
            "\n"
          ]
        }
      ],
      "source": [
        "df.dropDuplicates(subset=['height']).show()"
      ]
    }
  ],
  "metadata": {
    "colab": {
      "provenance": []
    },
    "kernelspec": {
      "display_name": "Python 3",
      "language": "python",
      "name": "python3"
    },
    "language_info": {
      "codemirror_mode": {
        "name": "ipython",
        "version": 3
      },
      "file_extension": ".py",
      "mimetype": "text/x-python",
      "name": "python",
      "nbconvert_exporter": "python",
      "pygments_lexer": "ipython3",
      "version": "3.8.5"
    }
  },
  "nbformat": 4,
  "nbformat_minor": 0
}